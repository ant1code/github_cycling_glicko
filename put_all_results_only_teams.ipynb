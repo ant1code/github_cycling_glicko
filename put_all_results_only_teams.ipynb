{
 "metadata": {
  "language_info": {
   "codemirror_mode": {
    "name": "ipython",
    "version": 3
   },
   "file_extension": ".py",
   "mimetype": "text/x-python",
   "name": "python",
   "nbconvert_exporter": "python",
   "pygments_lexer": "ipython3",
   "version": "3.9.2"
  },
  "orig_nbformat": 2,
  "kernelspec": {
   "name": "python3",
   "display_name": "Python 3.9.2 64-bit"
  },
  "metadata": {
   "interpreter": {
    "hash": "c5b322d1f5beaecfb28b050f61b5bc2c682da0c88a01138942a1439f934c1c07"
   }
  },
  "interpreter": {
   "hash": "c5b322d1f5beaecfb28b050f61b5bc2c682da0c88a01138942a1439f934c1c07"
  }
 },
 "nbformat": 4,
 "nbformat_minor": 2,
 "cells": [
  {
   "cell_type": "code",
   "execution_count": 2,
   "metadata": {},
   "outputs": [],
   "source": [
    "import pandas as pd\n",
    "import numpy as np\n",
    "import dask.dataframe as dd\n",
    "import itertools as it\n",
    "import datetime\n",
    "import math\n",
    "\n"
   ]
  },
  {
   "cell_type": "code",
   "execution_count": null,
   "metadata": {},
   "outputs": [],
   "source": [
    "# how many % is the highest-ranked rider the first on the finish line?\n",
    "# 1. import 1 year\n",
    "# 2. evaluate per-month % of the first rider winning\n",
    "#    for every race\n",
    "#    sort by elo_old\n",
    "#   if first_row.Pts = max(all pts in a race), counter += 1, else pass\n",
    "\n",
    "# 3. plot"
   ]
  },
  {
   "cell_type": "code",
   "execution_count": 3,
   "metadata": {},
   "outputs": [
    {
     "output_type": "stream",
     "name": "stdout",
     "text": [
      "The average for year 2011 is 0.0.\nThe average for year 2012 is 0.0.\nThe average for year 2013 is 0.0.\nThe average for year 2014 is 0.0.\nThe average for year 2015 is 0.07692307692307693.\nThe average for year 2016 is 0.07692307692307693.\nThe average for year 2017 is 0.0.\nThe average for year 2018 is 0.0.\nThe average for year 2019 is 0.0.\nThe average for year 2020 is 0.0.\n"
     ]
    }
   ],
   "source": [
    "years = [2011, 2012, 2013, 2014, 2015, 2016, 2017, 2018, 2019, 2020]\n",
    "for year in years:\n",
    "    df = pd.read_csv('results_with_teams'+str(year)+'_final.csv', low_memory = False)\n",
    "    counter = 0\n",
    "    #df['weighted_elo'] = 0.5*df['old_elo'] + 0.5*df['old_team_elo']\n",
    "    for name in df.Name.unique():\n",
    "        df2 = df[(df['Name'] == name)]\n",
    "        first_ranked = df2.sort_values('old_team_elo', ascending=False).Pnt.values[0]\n",
    "        highest_ranked = max(df2.Pnt)\n",
    "        if first_ranked == highest_ranked:\n",
    "            counter += 1\n",
    "        else:\n",
    "            pass\n",
    "    average = counter/len(df.Name.unique())\n",
    "    print('The average for year '+str(year)+' is '+str(average)+'.')\n",
    "\n"
   ]
  },
  {
   "cell_type": "code",
   "execution_count": 50,
   "metadata": {},
   "outputs": [],
   "source": [
    "averages = [0.14285714285714285, 0.21428571428571427, 0.21428571428571427, 0.2857142857142857, 0.23076923076923078, 0.23076923076923078, 0.11764705882352941, 0.11764705882352941, 0.29411764705882354, 0.25]"
   ]
  },
  {
   "cell_type": "code",
   "execution_count": 34,
   "metadata": {},
   "outputs": [
    {
     "output_type": "stream",
     "name": "stdout",
     "text": [
      "5.0 250.0\n"
     ]
    }
   ],
   "source": [
    "first_ranked = df2[(df2['Name'] == 11)].sort_values('old_elo', ascending=False).Pnt.values[0]\n",
    "highest_ranked = max(df2[(df2['Name'] == 11)].Pnt)\n",
    "print(first_ranked, highest_ranked)"
   ]
  },
  {
   "cell_type": "code",
   "execution_count": 8,
   "metadata": {},
   "outputs": [
    {
     "output_type": "execute_result",
     "data": {
      "text/plain": [
       "14"
      ]
     },
     "metadata": {},
     "execution_count": 8
    }
   ],
   "source": [
    "len(df.Name.unique())"
   ]
  },
  {
   "cell_type": "code",
   "execution_count": 43,
   "metadata": {},
   "outputs": [
    {
     "output_type": "execute_result",
     "data": {
      "text/plain": [
       "5.0"
      ]
     },
     "metadata": {},
     "execution_count": 43
    }
   ],
   "source": [
    "df2.sort_values('old_elo', ascending=False).Pnt.values[0]"
   ]
  },
  {
   "cell_type": "code",
   "execution_count": 41,
   "metadata": {},
   "outputs": [
    {
     "output_type": "execute_result",
     "data": {
      "text/plain": [
       "     Unnamed: 0  Unnamed: 0.1  Rnk  Rider Team   Age    Pnt  Name  Stage  \\\n",
       "0            67          67.0  105    1.0    1  28.0    5.0    10   -1.0   \n",
       "1        166625      166658.0  175  894.0   23  29.0    5.0    10   -1.0   \n",
       "2        172679      172721.0   81  945.0   74  26.0    5.0    10   -1.0   \n",
       "3        173411      173453.0   17  948.0   74  28.0    5.0    10   -1.0   \n",
       "4        174809      174851.0   25  966.0   67  25.0   16.0    10   -1.0   \n",
       "..          ...           ...  ...    ...  ...   ...    ...   ...    ...   \n",
       "121       19458       19462.0   57   88.0   77  24.0    5.0    10   -1.0   \n",
       "122        8627        8627.0   14   48.0    1  23.0   45.0    10   -1.0   \n",
       "123       31071       31075.0  128  140.0   77  24.0    5.0    10   -1.0   \n",
       "124       29125       29129.0   17  131.0    1  26.0   36.0    10   -1.0   \n",
       "125       12639       12643.0   54   61.0    1  31.0  190.0    10   -1.0   \n",
       "\n",
       "          Date  ... Distance  RaceRanking  Year  Month  Day  old_elo  \\\n",
       "0    1/22/2012  ...     0 km         32.0  2012      1   22   1500.0   \n",
       "1    1/22/2012  ...     0 km         32.0  2012      1   22   1500.0   \n",
       "2    1/22/2012  ...     0 km         32.0  2012      1   22   1500.0   \n",
       "3    1/22/2012  ...     0 km         32.0  2012      1   22   1500.0   \n",
       "4    1/22/2012  ...     0 km         32.0  2012      1   22   1500.0   \n",
       "..         ...  ...      ...          ...   ...    ...  ...      ...   \n",
       "121  1/22/2012  ...     0 km         32.0  2012      1   22   1500.0   \n",
       "122  1/22/2012  ...     0 km         32.0  2012      1   22   1500.0   \n",
       "123  1/22/2012  ...     0 km         32.0  2012      1   22   1500.0   \n",
       "124  1/22/2012  ...     0 km         32.0  2012      1   22   1500.0   \n",
       "125  1/22/2012  ...     0 km         32.0  2012      1   22   1500.0   \n",
       "\n",
       "         new_elo  old_rd      new_rd       Date1  \n",
       "0    1500.000000   350.0  350.000000  2012-01-22  \n",
       "1    1500.000000   350.0  350.000000  2012-01-22  \n",
       "2    1500.000000   350.0  350.000000  2012-01-22  \n",
       "3    1500.000000   350.0  350.000000  2012-01-22  \n",
       "4    1706.999476   350.0  218.460635  2012-01-22  \n",
       "..           ...     ...         ...         ...  \n",
       "121  1137.750917   350.0  218.460635  2012-01-22  \n",
       "122  1500.000000   350.0  350.000000  2012-01-22  \n",
       "123   516.752489   350.0  218.460635  2012-01-22  \n",
       "124  1500.000000   350.0  350.000000  2012-01-22  \n",
       "125  2534.997380   350.0  218.460635  2012-01-22  \n",
       "\n",
       "[126 rows x 22 columns]"
      ],
      "text/html": "<div>\n<style scoped>\n    .dataframe tbody tr th:only-of-type {\n        vertical-align: middle;\n    }\n\n    .dataframe tbody tr th {\n        vertical-align: top;\n    }\n\n    .dataframe thead th {\n        text-align: right;\n    }\n</style>\n<table border=\"1\" class=\"dataframe\">\n  <thead>\n    <tr style=\"text-align: right;\">\n      <th></th>\n      <th>Unnamed: 0</th>\n      <th>Unnamed: 0.1</th>\n      <th>Rnk</th>\n      <th>Rider</th>\n      <th>Team</th>\n      <th>Age</th>\n      <th>Pnt</th>\n      <th>Name</th>\n      <th>Stage</th>\n      <th>Date</th>\n      <th>...</th>\n      <th>Distance</th>\n      <th>RaceRanking</th>\n      <th>Year</th>\n      <th>Month</th>\n      <th>Day</th>\n      <th>old_elo</th>\n      <th>new_elo</th>\n      <th>old_rd</th>\n      <th>new_rd</th>\n      <th>Date1</th>\n    </tr>\n  </thead>\n  <tbody>\n    <tr>\n      <th>0</th>\n      <td>67</td>\n      <td>67.0</td>\n      <td>105</td>\n      <td>1.0</td>\n      <td>1</td>\n      <td>28.0</td>\n      <td>5.0</td>\n      <td>10</td>\n      <td>-1.0</td>\n      <td>1/22/2012</td>\n      <td>...</td>\n      <td>0 km</td>\n      <td>32.0</td>\n      <td>2012</td>\n      <td>1</td>\n      <td>22</td>\n      <td>1500.0</td>\n      <td>1500.000000</td>\n      <td>350.0</td>\n      <td>350.000000</td>\n      <td>2012-01-22</td>\n    </tr>\n    <tr>\n      <th>1</th>\n      <td>166625</td>\n      <td>166658.0</td>\n      <td>175</td>\n      <td>894.0</td>\n      <td>23</td>\n      <td>29.0</td>\n      <td>5.0</td>\n      <td>10</td>\n      <td>-1.0</td>\n      <td>1/22/2012</td>\n      <td>...</td>\n      <td>0 km</td>\n      <td>32.0</td>\n      <td>2012</td>\n      <td>1</td>\n      <td>22</td>\n      <td>1500.0</td>\n      <td>1500.000000</td>\n      <td>350.0</td>\n      <td>350.000000</td>\n      <td>2012-01-22</td>\n    </tr>\n    <tr>\n      <th>2</th>\n      <td>172679</td>\n      <td>172721.0</td>\n      <td>81</td>\n      <td>945.0</td>\n      <td>74</td>\n      <td>26.0</td>\n      <td>5.0</td>\n      <td>10</td>\n      <td>-1.0</td>\n      <td>1/22/2012</td>\n      <td>...</td>\n      <td>0 km</td>\n      <td>32.0</td>\n      <td>2012</td>\n      <td>1</td>\n      <td>22</td>\n      <td>1500.0</td>\n      <td>1500.000000</td>\n      <td>350.0</td>\n      <td>350.000000</td>\n      <td>2012-01-22</td>\n    </tr>\n    <tr>\n      <th>3</th>\n      <td>173411</td>\n      <td>173453.0</td>\n      <td>17</td>\n      <td>948.0</td>\n      <td>74</td>\n      <td>28.0</td>\n      <td>5.0</td>\n      <td>10</td>\n      <td>-1.0</td>\n      <td>1/22/2012</td>\n      <td>...</td>\n      <td>0 km</td>\n      <td>32.0</td>\n      <td>2012</td>\n      <td>1</td>\n      <td>22</td>\n      <td>1500.0</td>\n      <td>1500.000000</td>\n      <td>350.0</td>\n      <td>350.000000</td>\n      <td>2012-01-22</td>\n    </tr>\n    <tr>\n      <th>4</th>\n      <td>174809</td>\n      <td>174851.0</td>\n      <td>25</td>\n      <td>966.0</td>\n      <td>67</td>\n      <td>25.0</td>\n      <td>16.0</td>\n      <td>10</td>\n      <td>-1.0</td>\n      <td>1/22/2012</td>\n      <td>...</td>\n      <td>0 km</td>\n      <td>32.0</td>\n      <td>2012</td>\n      <td>1</td>\n      <td>22</td>\n      <td>1500.0</td>\n      <td>1706.999476</td>\n      <td>350.0</td>\n      <td>218.460635</td>\n      <td>2012-01-22</td>\n    </tr>\n    <tr>\n      <th>...</th>\n      <td>...</td>\n      <td>...</td>\n      <td>...</td>\n      <td>...</td>\n      <td>...</td>\n      <td>...</td>\n      <td>...</td>\n      <td>...</td>\n      <td>...</td>\n      <td>...</td>\n      <td>...</td>\n      <td>...</td>\n      <td>...</td>\n      <td>...</td>\n      <td>...</td>\n      <td>...</td>\n      <td>...</td>\n      <td>...</td>\n      <td>...</td>\n      <td>...</td>\n      <td>...</td>\n    </tr>\n    <tr>\n      <th>121</th>\n      <td>19458</td>\n      <td>19462.0</td>\n      <td>57</td>\n      <td>88.0</td>\n      <td>77</td>\n      <td>24.0</td>\n      <td>5.0</td>\n      <td>10</td>\n      <td>-1.0</td>\n      <td>1/22/2012</td>\n      <td>...</td>\n      <td>0 km</td>\n      <td>32.0</td>\n      <td>2012</td>\n      <td>1</td>\n      <td>22</td>\n      <td>1500.0</td>\n      <td>1137.750917</td>\n      <td>350.0</td>\n      <td>218.460635</td>\n      <td>2012-01-22</td>\n    </tr>\n    <tr>\n      <th>122</th>\n      <td>8627</td>\n      <td>8627.0</td>\n      <td>14</td>\n      <td>48.0</td>\n      <td>1</td>\n      <td>23.0</td>\n      <td>45.0</td>\n      <td>10</td>\n      <td>-1.0</td>\n      <td>1/22/2012</td>\n      <td>...</td>\n      <td>0 km</td>\n      <td>32.0</td>\n      <td>2012</td>\n      <td>1</td>\n      <td>22</td>\n      <td>1500.0</td>\n      <td>1500.000000</td>\n      <td>350.0</td>\n      <td>350.000000</td>\n      <td>2012-01-22</td>\n    </tr>\n    <tr>\n      <th>123</th>\n      <td>31071</td>\n      <td>31075.0</td>\n      <td>128</td>\n      <td>140.0</td>\n      <td>77</td>\n      <td>24.0</td>\n      <td>5.0</td>\n      <td>10</td>\n      <td>-1.0</td>\n      <td>1/22/2012</td>\n      <td>...</td>\n      <td>0 km</td>\n      <td>32.0</td>\n      <td>2012</td>\n      <td>1</td>\n      <td>22</td>\n      <td>1500.0</td>\n      <td>516.752489</td>\n      <td>350.0</td>\n      <td>218.460635</td>\n      <td>2012-01-22</td>\n    </tr>\n    <tr>\n      <th>124</th>\n      <td>29125</td>\n      <td>29129.0</td>\n      <td>17</td>\n      <td>131.0</td>\n      <td>1</td>\n      <td>26.0</td>\n      <td>36.0</td>\n      <td>10</td>\n      <td>-1.0</td>\n      <td>1/22/2012</td>\n      <td>...</td>\n      <td>0 km</td>\n      <td>32.0</td>\n      <td>2012</td>\n      <td>1</td>\n      <td>22</td>\n      <td>1500.0</td>\n      <td>1500.000000</td>\n      <td>350.0</td>\n      <td>350.000000</td>\n      <td>2012-01-22</td>\n    </tr>\n    <tr>\n      <th>125</th>\n      <td>12639</td>\n      <td>12643.0</td>\n      <td>54</td>\n      <td>61.0</td>\n      <td>1</td>\n      <td>31.0</td>\n      <td>190.0</td>\n      <td>10</td>\n      <td>-1.0</td>\n      <td>1/22/2012</td>\n      <td>...</td>\n      <td>0 km</td>\n      <td>32.0</td>\n      <td>2012</td>\n      <td>1</td>\n      <td>22</td>\n      <td>1500.0</td>\n      <td>2534.997380</td>\n      <td>350.0</td>\n      <td>218.460635</td>\n      <td>2012-01-22</td>\n    </tr>\n  </tbody>\n</table>\n<p>126 rows × 22 columns</p>\n</div>"
     },
     "metadata": {},
     "execution_count": 41
    }
   ],
   "source": [
    "df2"
   ]
  },
  {
   "cell_type": "code",
   "execution_count": null,
   "metadata": {},
   "outputs": [],
   "source": []
  }
 ]
}