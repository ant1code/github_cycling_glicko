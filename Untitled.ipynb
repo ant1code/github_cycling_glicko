{
 "cells": [
  {
   "cell_type": "code",
   "execution_count": 3,
   "id": "lesser-court",
   "metadata": {},
   "outputs": [
    {
     "data": {
      "text/html": [
       "<table class=\"data-frame\"><thead><tr><th></th><th>Column1</th><th>Unnamed: 0</th><th>Unnamed: 0.1</th><th>Unnamed: 0.1.1</th><th>Unnamed: 0.1.1.1</th><th>Unnamed: 0.1.1.1.1</th></tr><tr><th></th><th>Int64</th><th>Int64</th><th>Int64</th><th>Int64</th><th>Int64</th><th>Int64</th></tr></thead><tbody><p>264,808 rows × 40 columns (omitted printing of 34 columns)</p><tr><th>1</th><td>29978</td><td>261041</td><td>225539</td><td>225539</td><td>225539</td><td>98</td></tr><tr><th>2</th><td>29979</td><td>260874</td><td>227019</td><td>227019</td><td>227019</td><td>132</td></tr><tr><th>3</th><td>29980</td><td>260795</td><td>228608</td><td>228608</td><td>228608</td><td>96</td></tr><tr><th>4</th><td>29981</td><td>260615</td><td>230189</td><td>230189</td><td>230189</td><td>119</td></tr><tr><th>5</th><td>29982</td><td>260313</td><td>231643</td><td>231643</td><td>231643</td><td>84</td></tr><tr><th>6</th><td>29983</td><td>260200</td><td>224414</td><td>224414</td><td>224414</td><td>42</td></tr><tr><th>7</th><td>29984</td><td>259974</td><td>224705</td><td>224705</td><td>224705</td><td>161</td></tr><tr><th>8</th><td>29985</td><td>259446</td><td>123997</td><td>123997</td><td>123997</td><td>65</td></tr><tr><th>9</th><td>29986</td><td>258285</td><td>119352</td><td>119352</td><td>119352</td><td>44</td></tr><tr><th>10</th><td>29987</td><td>251015</td><td>15612</td><td>15612</td><td>15612</td><td>96</td></tr><tr><th>11</th><td>29988</td><td>250763</td><td>17093</td><td>17093</td><td>17093</td><td>76</td></tr><tr><th>12</th><td>29989</td><td>250576</td><td>18395</td><td>18395</td><td>18395</td><td>40</td></tr><tr><th>13</th><td>29990</td><td>250471</td><td>19762</td><td>19762</td><td>19762</td><td>103</td></tr><tr><th>14</th><td>29991</td><td>250332</td><td>21202</td><td>21202</td><td>21202</td><td>94</td></tr><tr><th>15</th><td>29992</td><td>250155</td><td>22586</td><td>22586</td><td>22586</td><td>72</td></tr><tr><th>16</th><td>29993</td><td>249971</td><td>25583</td><td>25583</td><td>25583</td><td>52</td></tr><tr><th>17</th><td>29994</td><td>249845</td><td>23782</td><td>23782</td><td>23782</td><td>34</td></tr><tr><th>18</th><td>29995</td><td>248361</td><td>163948</td><td>163948</td><td>163948</td><td>106</td></tr><tr><th>19</th><td>29996</td><td>248211</td><td>170619</td><td>170619</td><td>170619</td><td>80</td></tr><tr><th>20</th><td>29997</td><td>247900</td><td>172394</td><td>172394</td><td>172394</td><td>153</td></tr><tr><th>21</th><td>29998</td><td>247753</td><td>174202</td><td>174202</td><td>174202</td><td>69</td></tr><tr><th>22</th><td>29999</td><td>247589</td><td>176152</td><td>176152</td><td>176152</td><td>136</td></tr><tr><th>23</th><td>30000</td><td>247417</td><td>178053</td><td>178053</td><td>178053</td><td>170</td></tr><tr><th>24</th><td>30001</td><td>247111</td><td>179804</td><td>179804</td><td>179804</td><td>75</td></tr><tr><th>25</th><td>30002</td><td>246889</td><td>181630</td><td>181630</td><td>181630</td><td>71</td></tr><tr><th>26</th><td>30003</td><td>246743</td><td>147273</td><td>147273</td><td>147273</td><td>117</td></tr><tr><th>27</th><td>30004</td><td>246642</td><td>149037</td><td>149037</td><td>149037</td><td>101</td></tr><tr><th>28</th><td>30005</td><td>246422</td><td>150818</td><td>150818</td><td>150818</td><td>124</td></tr><tr><th>29</th><td>30006</td><td>246319</td><td>152493</td><td>152493</td><td>152493</td><td>58</td></tr><tr><th>30</th><td>30007</td><td>246094</td><td>154267</td><td>154267</td><td>154267</td><td>116</td></tr><tr><th>&vellip;</th><td>&vellip;</td><td>&vellip;</td><td>&vellip;</td><td>&vellip;</td><td>&vellip;</td><td>&vellip;</td></tr></tbody></table>"
      ],
      "text/latex": [
       "\\begin{tabular}{r|ccccccc}\n",
       "\t& Column1 & Unnamed: 0 & Unnamed: 0.1 & Unnamed: 0.1.1 & Unnamed: 0.1.1.1 & Unnamed: 0.1.1.1.1 & \\\\\n",
       "\t\\hline\n",
       "\t& Int64 & Int64 & Int64 & Int64 & Int64 & Int64 & \\\\\n",
       "\t\\hline\n",
       "\t1 & 29978 & 261041 & 225539 & 225539 & 225539 & 98 & $\\dots$ \\\\\n",
       "\t2 & 29979 & 260874 & 227019 & 227019 & 227019 & 132 & $\\dots$ \\\\\n",
       "\t3 & 29980 & 260795 & 228608 & 228608 & 228608 & 96 & $\\dots$ \\\\\n",
       "\t4 & 29981 & 260615 & 230189 & 230189 & 230189 & 119 & $\\dots$ \\\\\n",
       "\t5 & 29982 & 260313 & 231643 & 231643 & 231643 & 84 & $\\dots$ \\\\\n",
       "\t6 & 29983 & 260200 & 224414 & 224414 & 224414 & 42 & $\\dots$ \\\\\n",
       "\t7 & 29984 & 259974 & 224705 & 224705 & 224705 & 161 & $\\dots$ \\\\\n",
       "\t8 & 29985 & 259446 & 123997 & 123997 & 123997 & 65 & $\\dots$ \\\\\n",
       "\t9 & 29986 & 258285 & 119352 & 119352 & 119352 & 44 & $\\dots$ \\\\\n",
       "\t10 & 29987 & 251015 & 15612 & 15612 & 15612 & 96 & $\\dots$ \\\\\n",
       "\t11 & 29988 & 250763 & 17093 & 17093 & 17093 & 76 & $\\dots$ \\\\\n",
       "\t12 & 29989 & 250576 & 18395 & 18395 & 18395 & 40 & $\\dots$ \\\\\n",
       "\t13 & 29990 & 250471 & 19762 & 19762 & 19762 & 103 & $\\dots$ \\\\\n",
       "\t14 & 29991 & 250332 & 21202 & 21202 & 21202 & 94 & $\\dots$ \\\\\n",
       "\t15 & 29992 & 250155 & 22586 & 22586 & 22586 & 72 & $\\dots$ \\\\\n",
       "\t16 & 29993 & 249971 & 25583 & 25583 & 25583 & 52 & $\\dots$ \\\\\n",
       "\t17 & 29994 & 249845 & 23782 & 23782 & 23782 & 34 & $\\dots$ \\\\\n",
       "\t18 & 29995 & 248361 & 163948 & 163948 & 163948 & 106 & $\\dots$ \\\\\n",
       "\t19 & 29996 & 248211 & 170619 & 170619 & 170619 & 80 & $\\dots$ \\\\\n",
       "\t20 & 29997 & 247900 & 172394 & 172394 & 172394 & 153 & $\\dots$ \\\\\n",
       "\t21 & 29998 & 247753 & 174202 & 174202 & 174202 & 69 & $\\dots$ \\\\\n",
       "\t22 & 29999 & 247589 & 176152 & 176152 & 176152 & 136 & $\\dots$ \\\\\n",
       "\t23 & 30000 & 247417 & 178053 & 178053 & 178053 & 170 & $\\dots$ \\\\\n",
       "\t24 & 30001 & 247111 & 179804 & 179804 & 179804 & 75 & $\\dots$ \\\\\n",
       "\t25 & 30002 & 246889 & 181630 & 181630 & 181630 & 71 & $\\dots$ \\\\\n",
       "\t26 & 30003 & 246743 & 147273 & 147273 & 147273 & 117 & $\\dots$ \\\\\n",
       "\t27 & 30004 & 246642 & 149037 & 149037 & 149037 & 101 & $\\dots$ \\\\\n",
       "\t28 & 30005 & 246422 & 150818 & 150818 & 150818 & 124 & $\\dots$ \\\\\n",
       "\t29 & 30006 & 246319 & 152493 & 152493 & 152493 & 58 & $\\dots$ \\\\\n",
       "\t30 & 30007 & 246094 & 154267 & 154267 & 154267 & 116 & $\\dots$ \\\\\n",
       "\t$\\dots$ & $\\dots$ & $\\dots$ & $\\dots$ & $\\dots$ & $\\dots$ & $\\dots$ &  \\\\\n",
       "\\end{tabular}\n"
      ],
      "text/plain": [
       "\u001b[1m264808×40 DataFrame\u001b[0m\n",
       "\u001b[1m    Row \u001b[0m│\u001b[1m Column1 \u001b[0m\u001b[1m Unnamed: 0 \u001b[0m\u001b[1m Unnamed: 0.1 \u001b[0m\u001b[1m Unnamed: 0.1.1 \u001b[0m\u001b[1m Unnamed: 0.1.1.1 \u001b[0m\u001b[1m\u001b[0m ⋯\n",
       "\u001b[1m        \u001b[0m│\u001b[90m Int64   \u001b[0m\u001b[90m Int64      \u001b[0m\u001b[90m Int64        \u001b[0m\u001b[90m Int64          \u001b[0m\u001b[90m Int64            \u001b[0m\u001b[90m\u001b[0m ⋯\n",
       "────────┼───────────────────────────────────────────────────────────────────────\n",
       "      1 │   29978      261041        225539          225539            225539  ⋯\n",
       "      2 │   29979      260874        227019          227019            227019\n",
       "      3 │   29980      260795        228608          228608            228608\n",
       "      4 │   29981      260615        230189          230189            230189\n",
       "      5 │   29982      260313        231643          231643            231643  ⋯\n",
       "      6 │   29983      260200        224414          224414            224414\n",
       "      7 │   29984      259974        224705          224705            224705\n",
       "      8 │   29985      259446        123997          123997            123997\n",
       "      9 │   29986      258285        119352          119352            119352  ⋯\n",
       "     10 │   29987      251015         15612           15612             15612\n",
       "     11 │   29988      250763         17093           17093             17093\n",
       "   ⋮    │    ⋮         ⋮            ⋮              ⋮                ⋮          ⋱\n",
       " 264799 │  294776      262282        116243          116243            116243\n",
       " 264800 │  294777      262071        118417          118417            118417  ⋯\n",
       " 264801 │  294778      262128        105618          105618            105618\n",
       " 264802 │  294779      264806        145738          145738            145738\n",
       " 264803 │  294780      264634        216406          216406            216406\n",
       " 264804 │  294781      264456        146007          146007            146007  ⋯\n",
       " 264805 │  294782      264378        216989          216989            216989\n",
       " 264806 │  294783      264180        146262          146262            146262\n",
       " 264807 │  294784      263948        217538          217538            217538\n",
       " 264808 │  294785      264115        217764          217764            217764  ⋯\n",
       "\u001b[36m                                              35 columns and 264787 rows omitted\u001b[0m"
      ]
     },
     "execution_count": 3,
     "metadata": {},
     "output_type": "execute_result"
    }
   ],
   "source": [
    "using CSV\n",
    "using DataFrames\n",
    "df = CSV.read(\".\\\\data_1.2.3.csv\", DataFrame)"
   ]
  },
  {
   "cell_type": "code",
   "execution_count": 8,
   "id": "imposed-delhi",
   "metadata": {},
   "outputs": [
    {
     "data": {
      "text/plain": [
       "2130-element Vector{String}:\n",
       " \"ERVITI Imanol\"\n",
       " \"DE KORT Koen\"\n",
       " \"RIABUSHENKO Alexandr\"\n",
       " \"EZQUERRA Jesús\"\n",
       " \"SCOTSON Callum\"\n",
       " \"FERRON Valentin\"\n",
       " \"HIVERT Jonathan\"\n",
       " \"PHILIPSEN Jasper\"\n",
       " \"CAVAGNA Rémi\"\n",
       " \"STEIMLE Jannik\"\n",
       " \"LAFAY Victor\"\n",
       " \"LIEPIŅŠ Emīls\"\n",
       " \"BOL Jetse\"\n",
       " ⋮\n",
       " \"FERNANDEZ Higinio\"\n",
       " \"DOCKX Bart\"\n",
       " \"MILÁN Diego\"\n",
       " \"SUAREZ Camilo Andres\"\n",
       " \"MARTINEZ John Edibberto\"\n",
       " \"WITECKI Mariusz\"\n",
       " \"BANACH Robert\"\n",
       " \"DURÁN Arkaitz\"\n",
       " \"SINKEWITZ Patrik\"\n",
       " \"KIREYEV Roman\"\n",
       " \"CALZATI Sylvain\"\n",
       " \"ARMSTRONG Lance\""
      ]
     },
     "execution_count": 8,
     "metadata": {},
     "output_type": "execute_result"
    }
   ],
   "source": [
    "unique(df[!, \"Rider\"])"
   ]
  },
  {
   "cell_type": "code",
   "execution_count": 22,
   "id": "speaking-dinner",
   "metadata": {},
   "outputs": [
    {
     "data": {
      "text/plain": [
       "264808-element PooledArrays.PooledVector{String, UInt32, Vector{UInt32}}:\n",
       " \"ERVITI Imanol\"\n",
       " \"ERVITI Imanol\"\n",
       " \"ERVITI Imanol\"\n",
       " \"ERVITI Imanol\"\n",
       " \"ERVITI Imanol\"\n",
       " \"ERVITI Imanol\"\n",
       " \"ERVITI Imanol\"\n",
       " \"ERVITI Imanol\"\n",
       " \"ERVITI Imanol\"\n",
       " \"ERVITI Imanol\"\n",
       " \"ERVITI Imanol\"\n",
       " \"ERVITI Imanol\"\n",
       " \"ERVITI Imanol\"\n",
       " ⋮\n",
       " \"CALZATI Sylvain\"\n",
       " \"CALZATI Sylvain\"\n",
       " \"CALZATI Sylvain\"\n",
       " \"CALZATI Sylvain\"\n",
       " \"CALZATI Sylvain\"\n",
       " \"ARMSTRONG Lance\"\n",
       " \"ARMSTRONG Lance\"\n",
       " \"ARMSTRONG Lance\"\n",
       " \"ARMSTRONG Lance\"\n",
       " \"ARMSTRONG Lance\"\n",
       " \"ARMSTRONG Lance\"\n",
       " \"ARMSTRONG Lance\""
      ]
     },
     "execution_count": 22,
     "metadata": {},
     "output_type": "execute_result"
    }
   ],
   "source": [
    "df[!, \"Rider\"]"
   ]
  },
  {
   "cell_type": "code",
   "execution_count": null,
   "id": "solid-cocktail",
   "metadata": {},
   "outputs": [],
   "source": []
  }
 ],
 "metadata": {
  "kernelspec": {
   "display_name": "Julia 1.6.0",
   "language": "julia",
   "name": "julia-1.6"
  },
  "language_info": {
   "file_extension": ".jl",
   "mimetype": "application/julia",
   "name": "julia",
   "version": "1.6.0"
  }
 },
 "nbformat": 4,
 "nbformat_minor": 5
}
