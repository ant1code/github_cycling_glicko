{
 "metadata": {
  "language_info": {
   "codemirror_mode": {
    "name": "ipython",
    "version": 3
   },
   "file_extension": ".py",
   "mimetype": "text/x-python",
   "name": "python",
   "nbconvert_exporter": "python",
   "pygments_lexer": "ipython3",
   "version": "3.9.2"
  },
  "orig_nbformat": 2,
  "kernelspec": {
   "name": "python392jvsc74a57bd0c5b322d1f5beaecfb28b050f61b5bc2c682da0c88a01138942a1439f934c1c07",
   "display_name": "Python 3.9.2 64-bit"
  },
  "metadata": {
   "interpreter": {
    "hash": "c5b322d1f5beaecfb28b050f61b5bc2c682da0c88a01138942a1439f934c1c07"
   }
  }
 },
 "nbformat": 4,
 "nbformat_minor": 2,
 "cells": [
  {
   "cell_type": "code",
   "execution_count": 1,
   "metadata": {},
   "outputs": [],
   "source": [
    "import pandas as pd\n",
    "import numpy as np\n",
    "import dask.dataframe as dd\n",
    "import itertools as it\n",
    "import datetime\n",
    "import math\n",
    "\n",
    "df = pd.read_csv('glicko_dat_1.csv', low_memory = False)"
   ]
  },
  {
   "cell_type": "code",
   "execution_count": 2,
   "metadata": {},
   "outputs": [
    {
     "output_type": "execute_result",
     "data": {
      "text/plain": [
       "   Unnamed: 0    Rnk  Rider  Team   Age  Pnt   Name  Stage       Date  \\\n",
       "0         413  104.0    1.0   1.0  33.0  NaN  22.00    1.0  2/23/2017   \n",
       "1         414   58.0    1.0   1.0  33.0  NaN  22.00    2.0  2/24/2017   \n",
       "2         415  116.0    1.0   1.0  33.0  NaN  22.00    3.0  2/25/2017   \n",
       "3         416   62.0    1.0   1.0  33.0  NaN  22.00    4.0  2/26/2017   \n",
       "4         417  102.0    1.0   1.0  33.0  3.0  22.00   -1.0  2/26/2017   \n",
       "5         418   24.0    1.0   1.0  33.0  NaN  11.00    1.0   3/5/2017   \n",
       "6         419  117.0    1.0   1.0  33.0  NaN  11.00    2.0   3/6/2017   \n",
       "7         420   48.0    1.0   1.0  33.0  NaN  11.00    3.0   3/7/2017   \n",
       "8         421   30.0    1.0   1.0  33.0  NaN  11.00    4.0   3/8/2017   \n",
       "9         422   37.0    1.0   1.0  33.0  NaN  11.00    5.0   3/9/2017   \n",
       "\n",
       "  Avg. speed winner  ProfileScore  Distance  RaceRanking  Year  Month  Day  \n",
       "0        40.92 km/h           0.0    189 km           20  2017      2   23  \n",
       "1         44.1 km/h           0.0    153 km           20  2017      2   24  \n",
       "2        40.71 km/h         120.0    186 km           20  2017      2   25  \n",
       "3        46.86 km/h           0.0    143 km           20  2017      2   26  \n",
       "4                 -           0.0      0 km           20  2017      2   26  \n",
       "5        43.95 km/h           0.0  148.5 km            4  2017      3    5  \n",
       "6        44.83 km/h           0.0    195 km            4  2017      3    6  \n",
       "7        42.03 km/h           0.0    190 km            4  2017      3    7  \n",
       "8        40.18 km/h           0.0   14.5 km            4  2017      3    8  \n",
       "9        42.21 km/h           0.0  199.5 km            4  2017      3    9  "
      ],
      "text/html": "<div>\n<style scoped>\n    .dataframe tbody tr th:only-of-type {\n        vertical-align: middle;\n    }\n\n    .dataframe tbody tr th {\n        vertical-align: top;\n    }\n\n    .dataframe thead th {\n        text-align: right;\n    }\n</style>\n<table border=\"1\" class=\"dataframe\">\n  <thead>\n    <tr style=\"text-align: right;\">\n      <th></th>\n      <th>Unnamed: 0</th>\n      <th>Rnk</th>\n      <th>Rider</th>\n      <th>Team</th>\n      <th>Age</th>\n      <th>Pnt</th>\n      <th>Name</th>\n      <th>Stage</th>\n      <th>Date</th>\n      <th>Avg. speed winner</th>\n      <th>ProfileScore</th>\n      <th>Distance</th>\n      <th>RaceRanking</th>\n      <th>Year</th>\n      <th>Month</th>\n      <th>Day</th>\n    </tr>\n  </thead>\n  <tbody>\n    <tr>\n      <th>0</th>\n      <td>413</td>\n      <td>104.0</td>\n      <td>1.0</td>\n      <td>1.0</td>\n      <td>33.0</td>\n      <td>NaN</td>\n      <td>22.00</td>\n      <td>1.0</td>\n      <td>2/23/2017</td>\n      <td>40.92 km/h</td>\n      <td>0.0</td>\n      <td>189 km</td>\n      <td>20</td>\n      <td>2017</td>\n      <td>2</td>\n      <td>23</td>\n    </tr>\n    <tr>\n      <th>1</th>\n      <td>414</td>\n      <td>58.0</td>\n      <td>1.0</td>\n      <td>1.0</td>\n      <td>33.0</td>\n      <td>NaN</td>\n      <td>22.00</td>\n      <td>2.0</td>\n      <td>2/24/2017</td>\n      <td>44.1 km/h</td>\n      <td>0.0</td>\n      <td>153 km</td>\n      <td>20</td>\n      <td>2017</td>\n      <td>2</td>\n      <td>24</td>\n    </tr>\n    <tr>\n      <th>2</th>\n      <td>415</td>\n      <td>116.0</td>\n      <td>1.0</td>\n      <td>1.0</td>\n      <td>33.0</td>\n      <td>NaN</td>\n      <td>22.00</td>\n      <td>3.0</td>\n      <td>2/25/2017</td>\n      <td>40.71 km/h</td>\n      <td>120.0</td>\n      <td>186 km</td>\n      <td>20</td>\n      <td>2017</td>\n      <td>2</td>\n      <td>25</td>\n    </tr>\n    <tr>\n      <th>3</th>\n      <td>416</td>\n      <td>62.0</td>\n      <td>1.0</td>\n      <td>1.0</td>\n      <td>33.0</td>\n      <td>NaN</td>\n      <td>22.00</td>\n      <td>4.0</td>\n      <td>2/26/2017</td>\n      <td>46.86 km/h</td>\n      <td>0.0</td>\n      <td>143 km</td>\n      <td>20</td>\n      <td>2017</td>\n      <td>2</td>\n      <td>26</td>\n    </tr>\n    <tr>\n      <th>4</th>\n      <td>417</td>\n      <td>102.0</td>\n      <td>1.0</td>\n      <td>1.0</td>\n      <td>33.0</td>\n      <td>3.0</td>\n      <td>22.00</td>\n      <td>-1.0</td>\n      <td>2/26/2017</td>\n      <td>-</td>\n      <td>0.0</td>\n      <td>0 km</td>\n      <td>20</td>\n      <td>2017</td>\n      <td>2</td>\n      <td>26</td>\n    </tr>\n    <tr>\n      <th>5</th>\n      <td>418</td>\n      <td>24.0</td>\n      <td>1.0</td>\n      <td>1.0</td>\n      <td>33.0</td>\n      <td>NaN</td>\n      <td>11.00</td>\n      <td>1.0</td>\n      <td>3/5/2017</td>\n      <td>43.95 km/h</td>\n      <td>0.0</td>\n      <td>148.5 km</td>\n      <td>4</td>\n      <td>2017</td>\n      <td>3</td>\n      <td>5</td>\n    </tr>\n    <tr>\n      <th>6</th>\n      <td>419</td>\n      <td>117.0</td>\n      <td>1.0</td>\n      <td>1.0</td>\n      <td>33.0</td>\n      <td>NaN</td>\n      <td>11.00</td>\n      <td>2.0</td>\n      <td>3/6/2017</td>\n      <td>44.83 km/h</td>\n      <td>0.0</td>\n      <td>195 km</td>\n      <td>4</td>\n      <td>2017</td>\n      <td>3</td>\n      <td>6</td>\n    </tr>\n    <tr>\n      <th>7</th>\n      <td>420</td>\n      <td>48.0</td>\n      <td>1.0</td>\n      <td>1.0</td>\n      <td>33.0</td>\n      <td>NaN</td>\n      <td>11.00</td>\n      <td>3.0</td>\n      <td>3/7/2017</td>\n      <td>42.03 km/h</td>\n      <td>0.0</td>\n      <td>190 km</td>\n      <td>4</td>\n      <td>2017</td>\n      <td>3</td>\n      <td>7</td>\n    </tr>\n    <tr>\n      <th>8</th>\n      <td>421</td>\n      <td>30.0</td>\n      <td>1.0</td>\n      <td>1.0</td>\n      <td>33.0</td>\n      <td>NaN</td>\n      <td>11.00</td>\n      <td>4.0</td>\n      <td>3/8/2017</td>\n      <td>40.18 km/h</td>\n      <td>0.0</td>\n      <td>14.5 km</td>\n      <td>4</td>\n      <td>2017</td>\n      <td>3</td>\n      <td>8</td>\n    </tr>\n    <tr>\n      <th>9</th>\n      <td>422</td>\n      <td>37.0</td>\n      <td>1.0</td>\n      <td>1.0</td>\n      <td>33.0</td>\n      <td>NaN</td>\n      <td>11.00</td>\n      <td>5.0</td>\n      <td>3/9/2017</td>\n      <td>42.21 km/h</td>\n      <td>0.0</td>\n      <td>199.5 km</td>\n      <td>4</td>\n      <td>2017</td>\n      <td>3</td>\n      <td>9</td>\n    </tr>\n  </tbody>\n</table>\n</div>"
     },
     "metadata": {},
     "execution_count": 2
    }
   ],
   "source": [
    "df = df[(df['Year'] == 2017)]\n",
    "df.head(10)"
   ]
  },
  {
   "cell_type": "code",
   "execution_count": 3,
   "metadata": {},
   "outputs": [],
   "source": [
    "##### RATE FUNCTION DON'T TOUCH!!!! ######\n",
    "Q = math.log(10) / 400\n",
    "def reduce_impact(rd):\n",
    "        \"\"\"The original form is `g(RD)`. This function reduces the impact of\n",
    "        games as a function of an opponent's RD.\n",
    "        \"\"\"\n",
    "        return (1 + (3 * (Q ** 2) * rd ** 2) / math.pi ** 2) ** -0.5\n",
    "\n",
    "def expect_score(elo, other_elo, other_impact):\n",
    "        return 1 / (1 + 10 ** (other_impact * (elo - other_elo) / -400.))\n",
    "\n",
    "def zerolistmaker(n):\n",
    "    listofzeros = [0] * n\n",
    "    return listofzeros\n",
    "def onelistmaker(n):\n",
    "    listofones = [1] * n\n",
    "    return listofones\n",
    "# elos = list(combined['old_elo'])\n",
    "# rds = list(combined['old_rd'])\n",
    "def rate(old_elos, old_rds): # assuming sorted by rank\n",
    "        d_square_inv = 0\n",
    "        difference = 0\n",
    "        new_elos = []\n",
    "        new_rds = []\n",
    "\n",
    "        for i in range(len(old_elos)): # do this for every rider, i denotes rider that's being ranked\n",
    "            if i < len(old_elos):\n",
    "                d_square_inv = 0\n",
    "                difference = 0\n",
    "                denom = 0\n",
    "\n",
    "\n",
    "                better = old_elos[:i]\n",
    "                worse = old_elos[i+1:]\n",
    "                other_elos = better + worse\n",
    "                # now create a list of e.g. 3x0, rest ones if score 4th place, j denotes every other rider\n",
    "                actual_score = zerolistmaker(len(better)) + onelistmaker(len(worse))\n",
    "                for j in range(len(other_elos)):\n",
    "                    impact = reduce_impact(other_elos[j])\n",
    "                    expected_score = expect_score(old_elos[i], other_elos[j], impact)\n",
    "                    difference += impact * (actual_score[j] - expected_score)\n",
    "                    d_square_inv += (expected_score * (1 - expected_score) * (Q ** 2) * (impact ** 2))\n",
    "\n",
    "                denom = 1/(old_rds[i] ** 2) + d_square_inv\n",
    "                mu = old_elos[i]  + Q / denom * difference\n",
    "                sigma = math.sqrt(1. / denom)\n",
    "                new_elos.append(mu)\n",
    "                new_rds.append(sigma)\n",
    "            else:\n",
    "                d_square_inv = 0\n",
    "                difference = 0\n",
    "                denom = 0\n",
    "\n",
    "                better = old_elos\n",
    "                worse = []\n",
    "                other_elos = better + worse\n",
    "                # now create a list of e.g. 3x0, rest ones if score 4th place, j denotes every other rider\n",
    "                actual_score = zerolistmaker(len(better)) + onelistmaker(len(worse))\n",
    "                for j in range(len(other_elos)):\n",
    "                    impact = reduce_impact(other_elos[j])\n",
    "                    expected_score = expect_score(old_elos[i], other_elos[j], impact)\n",
    "                    difference += impact * (actual_score[j] - expected_score)\n",
    "                    d_square_inv += (expected_score * (1 - expected_score) * (Q ** 2) * (impact ** 2))\n",
    "                denom = 1/(old_rds[i] ** 2) + d_square_inv\n",
    "                mu = old_elos[i]  + Q / denom * difference\n",
    "                sigma = math.sqrt(1. / denom)\n",
    "                new_elos.append(mu)\n",
    "                new_rds.append(sigma)\n",
    "\n",
    "\n",
    "        \n",
    "        return(new_elos, new_rds)"
   ]
  },
  {
   "cell_type": "code",
   "execution_count": 4,
   "metadata": {},
   "outputs": [
    {
     "output_type": "execute_result",
     "data": {
      "text/plain": [
       "       Unnamed: 0    Rnk   Rider   Team   Age    Pnt   Name  Stage       Date  \\\n",
       "2082        18043    8.0    80.0   58.0  29.0  250.0  11.00   -1.0  3/12/2017   \n",
       "29568      204503    1.0  1270.0    7.0  34.0  190.0  11.00   -1.0  3/12/2017   \n",
       "1274        10864    3.0    55.0   19.0  30.0  160.0  11.00   -1.0  3/12/2017   \n",
       "3946        31378   49.0   140.0    1.0  29.0  140.0  11.00   -1.0  3/12/2017   \n",
       "13967      101165   41.0   491.0   19.0  24.0  120.0  11.00   -1.0  3/12/2017   \n",
       "5293        41516    5.0   190.0   75.0  27.0  110.0  11.00   -1.0  3/12/2017   \n",
       "3213        26447   42.0   121.0   95.0  28.0  100.0  11.00   -1.0  3/12/2017   \n",
       "16859      120903   47.0   582.0  103.0  25.0   90.0  11.00   -1.0  3/12/2017   \n",
       "15937      113956   32.0   552.0   28.0  24.0   80.0  11.00   -1.0  3/12/2017   \n",
       "16013      114485  178.0   554.0   52.0  28.0   70.0  11.00   -1.0  3/12/2017   \n",
       "16977      122020    5.0   584.0  105.0  32.0   60.0  11.00   -1.0  3/12/2017   \n",
       "5835        45975   26.0   210.0   41.0  31.0   55.0  11.00   -1.0  3/12/2017   \n",
       "18411      132838   99.0   637.0   19.0  34.0   50.0  11.00   -1.0  3/12/2017   \n",
       "5057        39611   12.0   178.0  103.0  21.0   45.0  11.00   -1.0  3/12/2017   \n",
       "18569      133605   17.0   641.0   62.0  28.0   40.0  11.00   -1.0  3/12/2017   \n",
       "14707      105760   16.0   516.0   84.0  27.0   36.0  11.00   -1.0  3/12/2017   \n",
       "25114      179594    1.0  1057.0    7.0  28.0   32.0  11.00   -1.0  3/12/2017   \n",
       "19056      137776   32.0   665.0  105.0  32.0   28.0  11.00   -1.0  3/12/2017   \n",
       "9955        75500    2.0   333.0   74.0  26.0   24.0  11.00   -1.0  3/12/2017   \n",
       "24730      177392   38.0  1031.0   76.0  31.0   20.0  11.00   -1.0  3/12/2017   \n",
       "\n",
       "      Avg. speed winner  ProfileScore Distance  RaceRanking  Year  Month  Day  \\\n",
       "2082                  -           0.0     0 km            4  2017      3   12   \n",
       "29568                 -           0.0     0 km            4  2017      3   12   \n",
       "1274                  -           0.0     0 km            4  2017      3   12   \n",
       "3946                  -           0.0     0 km            4  2017      3   12   \n",
       "13967                 -           0.0     0 km            4  2017      3   12   \n",
       "5293                  -           0.0     0 km            4  2017      3   12   \n",
       "3213                  -           0.0     0 km            4  2017      3   12   \n",
       "16859                 -           0.0     0 km            4  2017      3   12   \n",
       "15937                 -           0.0     0 km            4  2017      3   12   \n",
       "16013                 -           0.0     0 km            4  2017      3   12   \n",
       "16977                 -           0.0     0 km            4  2017      3   12   \n",
       "5835                  -           0.0     0 km            4  2017      3   12   \n",
       "18411                 -           0.0     0 km            4  2017      3   12   \n",
       "5057                  -           0.0     0 km            4  2017      3   12   \n",
       "18569                 -           0.0     0 km            4  2017      3   12   \n",
       "14707                 -           0.0     0 km            4  2017      3   12   \n",
       "25114                 -           0.0     0 km            4  2017      3   12   \n",
       "19056                 -           0.0     0 km            4  2017      3   12   \n",
       "9955                  -           0.0     0 km            4  2017      3   12   \n",
       "24730                 -           0.0     0 km            4  2017      3   12   \n",
       "\n",
       "       old_elo  new_elo  old_rd  new_rd  \n",
       "2082      1500        0     350       0  \n",
       "29568     1500        0     350       0  \n",
       "1274      1500        0     350       0  \n",
       "3946      1500        0     350       0  \n",
       "13967     1500        0     350       0  \n",
       "5293      1500        0     350       0  \n",
       "3213      1500        0     350       0  \n",
       "16859     1500        0     350       0  \n",
       "15937     1500        0     350       0  \n",
       "16013     1500        0     350       0  \n",
       "16977     1500        0     350       0  \n",
       "5835      1500        0     350       0  \n",
       "18411     1500        0     350       0  \n",
       "5057      1500        0     350       0  \n",
       "18569     1500        0     350       0  \n",
       "14707     1500        0     350       0  \n",
       "25114     1500        0     350       0  \n",
       "19056     1500        0     350       0  \n",
       "9955      1500        0     350       0  \n",
       "24730     1500        0     350       0  "
      ],
      "text/html": "<div>\n<style scoped>\n    .dataframe tbody tr th:only-of-type {\n        vertical-align: middle;\n    }\n\n    .dataframe tbody tr th {\n        vertical-align: top;\n    }\n\n    .dataframe thead th {\n        text-align: right;\n    }\n</style>\n<table border=\"1\" class=\"dataframe\">\n  <thead>\n    <tr style=\"text-align: right;\">\n      <th></th>\n      <th>Unnamed: 0</th>\n      <th>Rnk</th>\n      <th>Rider</th>\n      <th>Team</th>\n      <th>Age</th>\n      <th>Pnt</th>\n      <th>Name</th>\n      <th>Stage</th>\n      <th>Date</th>\n      <th>Avg. speed winner</th>\n      <th>ProfileScore</th>\n      <th>Distance</th>\n      <th>RaceRanking</th>\n      <th>Year</th>\n      <th>Month</th>\n      <th>Day</th>\n      <th>old_elo</th>\n      <th>new_elo</th>\n      <th>old_rd</th>\n      <th>new_rd</th>\n    </tr>\n  </thead>\n  <tbody>\n    <tr>\n      <th>2082</th>\n      <td>18043</td>\n      <td>8.0</td>\n      <td>80.0</td>\n      <td>58.0</td>\n      <td>29.0</td>\n      <td>250.0</td>\n      <td>11.00</td>\n      <td>-1.0</td>\n      <td>3/12/2017</td>\n      <td>-</td>\n      <td>0.0</td>\n      <td>0 km</td>\n      <td>4</td>\n      <td>2017</td>\n      <td>3</td>\n      <td>12</td>\n      <td>1500</td>\n      <td>0</td>\n      <td>350</td>\n      <td>0</td>\n    </tr>\n    <tr>\n      <th>29568</th>\n      <td>204503</td>\n      <td>1.0</td>\n      <td>1270.0</td>\n      <td>7.0</td>\n      <td>34.0</td>\n      <td>190.0</td>\n      <td>11.00</td>\n      <td>-1.0</td>\n      <td>3/12/2017</td>\n      <td>-</td>\n      <td>0.0</td>\n      <td>0 km</td>\n      <td>4</td>\n      <td>2017</td>\n      <td>3</td>\n      <td>12</td>\n      <td>1500</td>\n      <td>0</td>\n      <td>350</td>\n      <td>0</td>\n    </tr>\n    <tr>\n      <th>1274</th>\n      <td>10864</td>\n      <td>3.0</td>\n      <td>55.0</td>\n      <td>19.0</td>\n      <td>30.0</td>\n      <td>160.0</td>\n      <td>11.00</td>\n      <td>-1.0</td>\n      <td>3/12/2017</td>\n      <td>-</td>\n      <td>0.0</td>\n      <td>0 km</td>\n      <td>4</td>\n      <td>2017</td>\n      <td>3</td>\n      <td>12</td>\n      <td>1500</td>\n      <td>0</td>\n      <td>350</td>\n      <td>0</td>\n    </tr>\n    <tr>\n      <th>3946</th>\n      <td>31378</td>\n      <td>49.0</td>\n      <td>140.0</td>\n      <td>1.0</td>\n      <td>29.0</td>\n      <td>140.0</td>\n      <td>11.00</td>\n      <td>-1.0</td>\n      <td>3/12/2017</td>\n      <td>-</td>\n      <td>0.0</td>\n      <td>0 km</td>\n      <td>4</td>\n      <td>2017</td>\n      <td>3</td>\n      <td>12</td>\n      <td>1500</td>\n      <td>0</td>\n      <td>350</td>\n      <td>0</td>\n    </tr>\n    <tr>\n      <th>13967</th>\n      <td>101165</td>\n      <td>41.0</td>\n      <td>491.0</td>\n      <td>19.0</td>\n      <td>24.0</td>\n      <td>120.0</td>\n      <td>11.00</td>\n      <td>-1.0</td>\n      <td>3/12/2017</td>\n      <td>-</td>\n      <td>0.0</td>\n      <td>0 km</td>\n      <td>4</td>\n      <td>2017</td>\n      <td>3</td>\n      <td>12</td>\n      <td>1500</td>\n      <td>0</td>\n      <td>350</td>\n      <td>0</td>\n    </tr>\n    <tr>\n      <th>5293</th>\n      <td>41516</td>\n      <td>5.0</td>\n      <td>190.0</td>\n      <td>75.0</td>\n      <td>27.0</td>\n      <td>110.0</td>\n      <td>11.00</td>\n      <td>-1.0</td>\n      <td>3/12/2017</td>\n      <td>-</td>\n      <td>0.0</td>\n      <td>0 km</td>\n      <td>4</td>\n      <td>2017</td>\n      <td>3</td>\n      <td>12</td>\n      <td>1500</td>\n      <td>0</td>\n      <td>350</td>\n      <td>0</td>\n    </tr>\n    <tr>\n      <th>3213</th>\n      <td>26447</td>\n      <td>42.0</td>\n      <td>121.0</td>\n      <td>95.0</td>\n      <td>28.0</td>\n      <td>100.0</td>\n      <td>11.00</td>\n      <td>-1.0</td>\n      <td>3/12/2017</td>\n      <td>-</td>\n      <td>0.0</td>\n      <td>0 km</td>\n      <td>4</td>\n      <td>2017</td>\n      <td>3</td>\n      <td>12</td>\n      <td>1500</td>\n      <td>0</td>\n      <td>350</td>\n      <td>0</td>\n    </tr>\n    <tr>\n      <th>16859</th>\n      <td>120903</td>\n      <td>47.0</td>\n      <td>582.0</td>\n      <td>103.0</td>\n      <td>25.0</td>\n      <td>90.0</td>\n      <td>11.00</td>\n      <td>-1.0</td>\n      <td>3/12/2017</td>\n      <td>-</td>\n      <td>0.0</td>\n      <td>0 km</td>\n      <td>4</td>\n      <td>2017</td>\n      <td>3</td>\n      <td>12</td>\n      <td>1500</td>\n      <td>0</td>\n      <td>350</td>\n      <td>0</td>\n    </tr>\n    <tr>\n      <th>15937</th>\n      <td>113956</td>\n      <td>32.0</td>\n      <td>552.0</td>\n      <td>28.0</td>\n      <td>24.0</td>\n      <td>80.0</td>\n      <td>11.00</td>\n      <td>-1.0</td>\n      <td>3/12/2017</td>\n      <td>-</td>\n      <td>0.0</td>\n      <td>0 km</td>\n      <td>4</td>\n      <td>2017</td>\n      <td>3</td>\n      <td>12</td>\n      <td>1500</td>\n      <td>0</td>\n      <td>350</td>\n      <td>0</td>\n    </tr>\n    <tr>\n      <th>16013</th>\n      <td>114485</td>\n      <td>178.0</td>\n      <td>554.0</td>\n      <td>52.0</td>\n      <td>28.0</td>\n      <td>70.0</td>\n      <td>11.00</td>\n      <td>-1.0</td>\n      <td>3/12/2017</td>\n      <td>-</td>\n      <td>0.0</td>\n      <td>0 km</td>\n      <td>4</td>\n      <td>2017</td>\n      <td>3</td>\n      <td>12</td>\n      <td>1500</td>\n      <td>0</td>\n      <td>350</td>\n      <td>0</td>\n    </tr>\n    <tr>\n      <th>16977</th>\n      <td>122020</td>\n      <td>5.0</td>\n      <td>584.0</td>\n      <td>105.0</td>\n      <td>32.0</td>\n      <td>60.0</td>\n      <td>11.00</td>\n      <td>-1.0</td>\n      <td>3/12/2017</td>\n      <td>-</td>\n      <td>0.0</td>\n      <td>0 km</td>\n      <td>4</td>\n      <td>2017</td>\n      <td>3</td>\n      <td>12</td>\n      <td>1500</td>\n      <td>0</td>\n      <td>350</td>\n      <td>0</td>\n    </tr>\n    <tr>\n      <th>5835</th>\n      <td>45975</td>\n      <td>26.0</td>\n      <td>210.0</td>\n      <td>41.0</td>\n      <td>31.0</td>\n      <td>55.0</td>\n      <td>11.00</td>\n      <td>-1.0</td>\n      <td>3/12/2017</td>\n      <td>-</td>\n      <td>0.0</td>\n      <td>0 km</td>\n      <td>4</td>\n      <td>2017</td>\n      <td>3</td>\n      <td>12</td>\n      <td>1500</td>\n      <td>0</td>\n      <td>350</td>\n      <td>0</td>\n    </tr>\n    <tr>\n      <th>18411</th>\n      <td>132838</td>\n      <td>99.0</td>\n      <td>637.0</td>\n      <td>19.0</td>\n      <td>34.0</td>\n      <td>50.0</td>\n      <td>11.00</td>\n      <td>-1.0</td>\n      <td>3/12/2017</td>\n      <td>-</td>\n      <td>0.0</td>\n      <td>0 km</td>\n      <td>4</td>\n      <td>2017</td>\n      <td>3</td>\n      <td>12</td>\n      <td>1500</td>\n      <td>0</td>\n      <td>350</td>\n      <td>0</td>\n    </tr>\n    <tr>\n      <th>5057</th>\n      <td>39611</td>\n      <td>12.0</td>\n      <td>178.0</td>\n      <td>103.0</td>\n      <td>21.0</td>\n      <td>45.0</td>\n      <td>11.00</td>\n      <td>-1.0</td>\n      <td>3/12/2017</td>\n      <td>-</td>\n      <td>0.0</td>\n      <td>0 km</td>\n      <td>4</td>\n      <td>2017</td>\n      <td>3</td>\n      <td>12</td>\n      <td>1500</td>\n      <td>0</td>\n      <td>350</td>\n      <td>0</td>\n    </tr>\n    <tr>\n      <th>18569</th>\n      <td>133605</td>\n      <td>17.0</td>\n      <td>641.0</td>\n      <td>62.0</td>\n      <td>28.0</td>\n      <td>40.0</td>\n      <td>11.00</td>\n      <td>-1.0</td>\n      <td>3/12/2017</td>\n      <td>-</td>\n      <td>0.0</td>\n      <td>0 km</td>\n      <td>4</td>\n      <td>2017</td>\n      <td>3</td>\n      <td>12</td>\n      <td>1500</td>\n      <td>0</td>\n      <td>350</td>\n      <td>0</td>\n    </tr>\n    <tr>\n      <th>14707</th>\n      <td>105760</td>\n      <td>16.0</td>\n      <td>516.0</td>\n      <td>84.0</td>\n      <td>27.0</td>\n      <td>36.0</td>\n      <td>11.00</td>\n      <td>-1.0</td>\n      <td>3/12/2017</td>\n      <td>-</td>\n      <td>0.0</td>\n      <td>0 km</td>\n      <td>4</td>\n      <td>2017</td>\n      <td>3</td>\n      <td>12</td>\n      <td>1500</td>\n      <td>0</td>\n      <td>350</td>\n      <td>0</td>\n    </tr>\n    <tr>\n      <th>25114</th>\n      <td>179594</td>\n      <td>1.0</td>\n      <td>1057.0</td>\n      <td>7.0</td>\n      <td>28.0</td>\n      <td>32.0</td>\n      <td>11.00</td>\n      <td>-1.0</td>\n      <td>3/12/2017</td>\n      <td>-</td>\n      <td>0.0</td>\n      <td>0 km</td>\n      <td>4</td>\n      <td>2017</td>\n      <td>3</td>\n      <td>12</td>\n      <td>1500</td>\n      <td>0</td>\n      <td>350</td>\n      <td>0</td>\n    </tr>\n    <tr>\n      <th>19056</th>\n      <td>137776</td>\n      <td>32.0</td>\n      <td>665.0</td>\n      <td>105.0</td>\n      <td>32.0</td>\n      <td>28.0</td>\n      <td>11.00</td>\n      <td>-1.0</td>\n      <td>3/12/2017</td>\n      <td>-</td>\n      <td>0.0</td>\n      <td>0 km</td>\n      <td>4</td>\n      <td>2017</td>\n      <td>3</td>\n      <td>12</td>\n      <td>1500</td>\n      <td>0</td>\n      <td>350</td>\n      <td>0</td>\n    </tr>\n    <tr>\n      <th>9955</th>\n      <td>75500</td>\n      <td>2.0</td>\n      <td>333.0</td>\n      <td>74.0</td>\n      <td>26.0</td>\n      <td>24.0</td>\n      <td>11.00</td>\n      <td>-1.0</td>\n      <td>3/12/2017</td>\n      <td>-</td>\n      <td>0.0</td>\n      <td>0 km</td>\n      <td>4</td>\n      <td>2017</td>\n      <td>3</td>\n      <td>12</td>\n      <td>1500</td>\n      <td>0</td>\n      <td>350</td>\n      <td>0</td>\n    </tr>\n    <tr>\n      <th>24730</th>\n      <td>177392</td>\n      <td>38.0</td>\n      <td>1031.0</td>\n      <td>76.0</td>\n      <td>31.0</td>\n      <td>20.0</td>\n      <td>11.00</td>\n      <td>-1.0</td>\n      <td>3/12/2017</td>\n      <td>-</td>\n      <td>0.0</td>\n      <td>0 km</td>\n      <td>4</td>\n      <td>2017</td>\n      <td>3</td>\n      <td>12</td>\n      <td>1500</td>\n      <td>0</td>\n      <td>350</td>\n      <td>0</td>\n    </tr>\n  </tbody>\n</table>\n</div>"
     },
     "metadata": {},
     "execution_count": 4
    }
   ],
   "source": [
    "# ONE GC SORTED BASED ON RANK\n",
    "dat = df[(df['Stage'] == -1)].copy()\n",
    "dat = dat[(dat['Name'] == \"11.00\")].sort_values(\"Pnt\", ascending=False) # RNK 0 == DNS/DNS\n",
    "#dat = dat[(dat['Rnk'] != 0.0)]\n",
    "dat['old_elo'] = 1500\n",
    "dat['new_elo'] = 0\n",
    "dat['old_rd'] = 350\n",
    "dat['new_rd'] = 0\n",
    "\n",
    "Q = math.log(10) / 400\n",
    "#dat['g_rd'] = (1 + (3 * (Q ** 2) * dat['old_rd'] ** 2) / math.pi ** 2) ** -0.5\n",
    "dat.head(20)"
   ]
  },
  {
   "cell_type": "code",
   "execution_count": 5,
   "metadata": {},
   "outputs": [
    {
     "output_type": "execute_result",
     "data": {
      "text/plain": [
       "     Team  Unnamed: 0  Rnk   Rider   Age    Pnt   Name  Stage       Date  \\\n",
       "11   58.0       18043    1    80.0  29.0  250.0  11.00   -1.0  3/12/2017   \n",
       "1     7.0      204503    2  1270.0  34.0  190.0  11.00   -1.0  3/12/2017   \n",
       "3    19.0       10864    3    55.0  30.0  160.0  11.00   -1.0  3/12/2017   \n",
       "0     1.0       31378    4   140.0  29.0  140.0  11.00   -1.0  3/12/2017   \n",
       "25   19.0      101165    5   491.0  24.0  120.0  11.00   -1.0  3/12/2017   \n",
       "15   75.0       41516    6   190.0  27.0  110.0  11.00   -1.0  3/12/2017   \n",
       "18   95.0       26447    7   121.0  28.0  100.0  11.00   -1.0  3/12/2017   \n",
       "19  103.0      120903    8   582.0  25.0   90.0  11.00   -1.0  3/12/2017   \n",
       "5    28.0      113956    9   552.0  24.0   80.0  11.00   -1.0  3/12/2017   \n",
       "10   52.0      114485   10   554.0  28.0   70.0  11.00   -1.0  3/12/2017   \n",
       "20  105.0      122020   11   584.0  32.0   60.0  11.00   -1.0  3/12/2017   \n",
       "7    41.0       45975   12   210.0  31.0   55.0  11.00   -1.0  3/12/2017   \n",
       "41  103.0       39611   13   178.0  21.0   45.0  11.00   -1.0  3/12/2017   \n",
       "12   62.0      133605   14   641.0  28.0   40.0  11.00   -1.0  3/12/2017   \n",
       "17   84.0      105760   15   516.0  27.0   36.0  11.00   -1.0  3/12/2017   \n",
       "23    7.0      179594   16  1057.0  28.0   32.0  11.00   -1.0  3/12/2017   \n",
       "42  105.0      137776   17   665.0  32.0   28.0  11.00   -1.0  3/12/2017   \n",
       "14   74.0       75500   18   333.0  26.0   24.0  11.00   -1.0  3/12/2017   \n",
       "16   76.0      177392   19  1031.0  31.0   20.0  11.00   -1.0  3/12/2017   \n",
       "2    17.0      194640   20  1159.0  37.0   18.0  11.00   -1.0  3/12/2017   \n",
       "\n",
       "   Avg. speed winner  ProfileScore Distance  RaceRanking  Year  Month  Day  \\\n",
       "11                 -           0.0     0 km            4  2017      3   12   \n",
       "1                  -           0.0     0 km            4  2017      3   12   \n",
       "3                  -           0.0     0 km            4  2017      3   12   \n",
       "0                  -           0.0     0 km            4  2017      3   12   \n",
       "25                 -           0.0     0 km            4  2017      3   12   \n",
       "15                 -           0.0     0 km            4  2017      3   12   \n",
       "18                 -           0.0     0 km            4  2017      3   12   \n",
       "19                 -           0.0     0 km            4  2017      3   12   \n",
       "5                  -           0.0     0 km            4  2017      3   12   \n",
       "10                 -           0.0     0 km            4  2017      3   12   \n",
       "20                 -           0.0     0 km            4  2017      3   12   \n",
       "7                  -           0.0     0 km            4  2017      3   12   \n",
       "41                 -           0.0     0 km            4  2017      3   12   \n",
       "12                 -           0.0     0 km            4  2017      3   12   \n",
       "17                 -           0.0     0 km            4  2017      3   12   \n",
       "23                 -           0.0     0 km            4  2017      3   12   \n",
       "42                 -           0.0     0 km            4  2017      3   12   \n",
       "14                 -           0.0     0 km            4  2017      3   12   \n",
       "16                 -           0.0     0 km            4  2017      3   12   \n",
       "2                  -           0.0     0 km            4  2017      3   12   \n",
       "\n",
       "    old_elo  new_elo  old_rd  new_rd  \n",
       "11     1500        0     350       0  \n",
       "1      1500        0     350       0  \n",
       "3      1500        0     350       0  \n",
       "0      1500        0     350       0  \n",
       "25     1500        0     350       0  \n",
       "15     1500        0     350       0  \n",
       "18     1500        0     350       0  \n",
       "19     1500        0     350       0  \n",
       "5      1500        0     350       0  \n",
       "10     1500        0     350       0  \n",
       "20     1500        0     350       0  \n",
       "7      1500        0     350       0  \n",
       "41     1500        0     350       0  \n",
       "12     1500        0     350       0  \n",
       "17     1500        0     350       0  \n",
       "23     1500        0     350       0  \n",
       "42     1500        0     350       0  \n",
       "14     1500        0     350       0  \n",
       "16     1500        0     350       0  \n",
       "2      1500        0     350       0  "
      ],
      "text/html": "<div>\n<style scoped>\n    .dataframe tbody tr th:only-of-type {\n        vertical-align: middle;\n    }\n\n    .dataframe tbody tr th {\n        vertical-align: top;\n    }\n\n    .dataframe thead th {\n        text-align: right;\n    }\n</style>\n<table border=\"1\" class=\"dataframe\">\n  <thead>\n    <tr style=\"text-align: right;\">\n      <th></th>\n      <th>Team</th>\n      <th>Unnamed: 0</th>\n      <th>Rnk</th>\n      <th>Rider</th>\n      <th>Age</th>\n      <th>Pnt</th>\n      <th>Name</th>\n      <th>Stage</th>\n      <th>Date</th>\n      <th>Avg. speed winner</th>\n      <th>ProfileScore</th>\n      <th>Distance</th>\n      <th>RaceRanking</th>\n      <th>Year</th>\n      <th>Month</th>\n      <th>Day</th>\n      <th>old_elo</th>\n      <th>new_elo</th>\n      <th>old_rd</th>\n      <th>new_rd</th>\n    </tr>\n  </thead>\n  <tbody>\n    <tr>\n      <th>11</th>\n      <td>58.0</td>\n      <td>18043</td>\n      <td>1</td>\n      <td>80.0</td>\n      <td>29.0</td>\n      <td>250.0</td>\n      <td>11.00</td>\n      <td>-1.0</td>\n      <td>3/12/2017</td>\n      <td>-</td>\n      <td>0.0</td>\n      <td>0 km</td>\n      <td>4</td>\n      <td>2017</td>\n      <td>3</td>\n      <td>12</td>\n      <td>1500</td>\n      <td>0</td>\n      <td>350</td>\n      <td>0</td>\n    </tr>\n    <tr>\n      <th>1</th>\n      <td>7.0</td>\n      <td>204503</td>\n      <td>2</td>\n      <td>1270.0</td>\n      <td>34.0</td>\n      <td>190.0</td>\n      <td>11.00</td>\n      <td>-1.0</td>\n      <td>3/12/2017</td>\n      <td>-</td>\n      <td>0.0</td>\n      <td>0 km</td>\n      <td>4</td>\n      <td>2017</td>\n      <td>3</td>\n      <td>12</td>\n      <td>1500</td>\n      <td>0</td>\n      <td>350</td>\n      <td>0</td>\n    </tr>\n    <tr>\n      <th>3</th>\n      <td>19.0</td>\n      <td>10864</td>\n      <td>3</td>\n      <td>55.0</td>\n      <td>30.0</td>\n      <td>160.0</td>\n      <td>11.00</td>\n      <td>-1.0</td>\n      <td>3/12/2017</td>\n      <td>-</td>\n      <td>0.0</td>\n      <td>0 km</td>\n      <td>4</td>\n      <td>2017</td>\n      <td>3</td>\n      <td>12</td>\n      <td>1500</td>\n      <td>0</td>\n      <td>350</td>\n      <td>0</td>\n    </tr>\n    <tr>\n      <th>0</th>\n      <td>1.0</td>\n      <td>31378</td>\n      <td>4</td>\n      <td>140.0</td>\n      <td>29.0</td>\n      <td>140.0</td>\n      <td>11.00</td>\n      <td>-1.0</td>\n      <td>3/12/2017</td>\n      <td>-</td>\n      <td>0.0</td>\n      <td>0 km</td>\n      <td>4</td>\n      <td>2017</td>\n      <td>3</td>\n      <td>12</td>\n      <td>1500</td>\n      <td>0</td>\n      <td>350</td>\n      <td>0</td>\n    </tr>\n    <tr>\n      <th>25</th>\n      <td>19.0</td>\n      <td>101165</td>\n      <td>5</td>\n      <td>491.0</td>\n      <td>24.0</td>\n      <td>120.0</td>\n      <td>11.00</td>\n      <td>-1.0</td>\n      <td>3/12/2017</td>\n      <td>-</td>\n      <td>0.0</td>\n      <td>0 km</td>\n      <td>4</td>\n      <td>2017</td>\n      <td>3</td>\n      <td>12</td>\n      <td>1500</td>\n      <td>0</td>\n      <td>350</td>\n      <td>0</td>\n    </tr>\n    <tr>\n      <th>15</th>\n      <td>75.0</td>\n      <td>41516</td>\n      <td>6</td>\n      <td>190.0</td>\n      <td>27.0</td>\n      <td>110.0</td>\n      <td>11.00</td>\n      <td>-1.0</td>\n      <td>3/12/2017</td>\n      <td>-</td>\n      <td>0.0</td>\n      <td>0 km</td>\n      <td>4</td>\n      <td>2017</td>\n      <td>3</td>\n      <td>12</td>\n      <td>1500</td>\n      <td>0</td>\n      <td>350</td>\n      <td>0</td>\n    </tr>\n    <tr>\n      <th>18</th>\n      <td>95.0</td>\n      <td>26447</td>\n      <td>7</td>\n      <td>121.0</td>\n      <td>28.0</td>\n      <td>100.0</td>\n      <td>11.00</td>\n      <td>-1.0</td>\n      <td>3/12/2017</td>\n      <td>-</td>\n      <td>0.0</td>\n      <td>0 km</td>\n      <td>4</td>\n      <td>2017</td>\n      <td>3</td>\n      <td>12</td>\n      <td>1500</td>\n      <td>0</td>\n      <td>350</td>\n      <td>0</td>\n    </tr>\n    <tr>\n      <th>19</th>\n      <td>103.0</td>\n      <td>120903</td>\n      <td>8</td>\n      <td>582.0</td>\n      <td>25.0</td>\n      <td>90.0</td>\n      <td>11.00</td>\n      <td>-1.0</td>\n      <td>3/12/2017</td>\n      <td>-</td>\n      <td>0.0</td>\n      <td>0 km</td>\n      <td>4</td>\n      <td>2017</td>\n      <td>3</td>\n      <td>12</td>\n      <td>1500</td>\n      <td>0</td>\n      <td>350</td>\n      <td>0</td>\n    </tr>\n    <tr>\n      <th>5</th>\n      <td>28.0</td>\n      <td>113956</td>\n      <td>9</td>\n      <td>552.0</td>\n      <td>24.0</td>\n      <td>80.0</td>\n      <td>11.00</td>\n      <td>-1.0</td>\n      <td>3/12/2017</td>\n      <td>-</td>\n      <td>0.0</td>\n      <td>0 km</td>\n      <td>4</td>\n      <td>2017</td>\n      <td>3</td>\n      <td>12</td>\n      <td>1500</td>\n      <td>0</td>\n      <td>350</td>\n      <td>0</td>\n    </tr>\n    <tr>\n      <th>10</th>\n      <td>52.0</td>\n      <td>114485</td>\n      <td>10</td>\n      <td>554.0</td>\n      <td>28.0</td>\n      <td>70.0</td>\n      <td>11.00</td>\n      <td>-1.0</td>\n      <td>3/12/2017</td>\n      <td>-</td>\n      <td>0.0</td>\n      <td>0 km</td>\n      <td>4</td>\n      <td>2017</td>\n      <td>3</td>\n      <td>12</td>\n      <td>1500</td>\n      <td>0</td>\n      <td>350</td>\n      <td>0</td>\n    </tr>\n    <tr>\n      <th>20</th>\n      <td>105.0</td>\n      <td>122020</td>\n      <td>11</td>\n      <td>584.0</td>\n      <td>32.0</td>\n      <td>60.0</td>\n      <td>11.00</td>\n      <td>-1.0</td>\n      <td>3/12/2017</td>\n      <td>-</td>\n      <td>0.0</td>\n      <td>0 km</td>\n      <td>4</td>\n      <td>2017</td>\n      <td>3</td>\n      <td>12</td>\n      <td>1500</td>\n      <td>0</td>\n      <td>350</td>\n      <td>0</td>\n    </tr>\n    <tr>\n      <th>7</th>\n      <td>41.0</td>\n      <td>45975</td>\n      <td>12</td>\n      <td>210.0</td>\n      <td>31.0</td>\n      <td>55.0</td>\n      <td>11.00</td>\n      <td>-1.0</td>\n      <td>3/12/2017</td>\n      <td>-</td>\n      <td>0.0</td>\n      <td>0 km</td>\n      <td>4</td>\n      <td>2017</td>\n      <td>3</td>\n      <td>12</td>\n      <td>1500</td>\n      <td>0</td>\n      <td>350</td>\n      <td>0</td>\n    </tr>\n    <tr>\n      <th>41</th>\n      <td>103.0</td>\n      <td>39611</td>\n      <td>13</td>\n      <td>178.0</td>\n      <td>21.0</td>\n      <td>45.0</td>\n      <td>11.00</td>\n      <td>-1.0</td>\n      <td>3/12/2017</td>\n      <td>-</td>\n      <td>0.0</td>\n      <td>0 km</td>\n      <td>4</td>\n      <td>2017</td>\n      <td>3</td>\n      <td>12</td>\n      <td>1500</td>\n      <td>0</td>\n      <td>350</td>\n      <td>0</td>\n    </tr>\n    <tr>\n      <th>12</th>\n      <td>62.0</td>\n      <td>133605</td>\n      <td>14</td>\n      <td>641.0</td>\n      <td>28.0</td>\n      <td>40.0</td>\n      <td>11.00</td>\n      <td>-1.0</td>\n      <td>3/12/2017</td>\n      <td>-</td>\n      <td>0.0</td>\n      <td>0 km</td>\n      <td>4</td>\n      <td>2017</td>\n      <td>3</td>\n      <td>12</td>\n      <td>1500</td>\n      <td>0</td>\n      <td>350</td>\n      <td>0</td>\n    </tr>\n    <tr>\n      <th>17</th>\n      <td>84.0</td>\n      <td>105760</td>\n      <td>15</td>\n      <td>516.0</td>\n      <td>27.0</td>\n      <td>36.0</td>\n      <td>11.00</td>\n      <td>-1.0</td>\n      <td>3/12/2017</td>\n      <td>-</td>\n      <td>0.0</td>\n      <td>0 km</td>\n      <td>4</td>\n      <td>2017</td>\n      <td>3</td>\n      <td>12</td>\n      <td>1500</td>\n      <td>0</td>\n      <td>350</td>\n      <td>0</td>\n    </tr>\n    <tr>\n      <th>23</th>\n      <td>7.0</td>\n      <td>179594</td>\n      <td>16</td>\n      <td>1057.0</td>\n      <td>28.0</td>\n      <td>32.0</td>\n      <td>11.00</td>\n      <td>-1.0</td>\n      <td>3/12/2017</td>\n      <td>-</td>\n      <td>0.0</td>\n      <td>0 km</td>\n      <td>4</td>\n      <td>2017</td>\n      <td>3</td>\n      <td>12</td>\n      <td>1500</td>\n      <td>0</td>\n      <td>350</td>\n      <td>0</td>\n    </tr>\n    <tr>\n      <th>42</th>\n      <td>105.0</td>\n      <td>137776</td>\n      <td>17</td>\n      <td>665.0</td>\n      <td>32.0</td>\n      <td>28.0</td>\n      <td>11.00</td>\n      <td>-1.0</td>\n      <td>3/12/2017</td>\n      <td>-</td>\n      <td>0.0</td>\n      <td>0 km</td>\n      <td>4</td>\n      <td>2017</td>\n      <td>3</td>\n      <td>12</td>\n      <td>1500</td>\n      <td>0</td>\n      <td>350</td>\n      <td>0</td>\n    </tr>\n    <tr>\n      <th>14</th>\n      <td>74.0</td>\n      <td>75500</td>\n      <td>18</td>\n      <td>333.0</td>\n      <td>26.0</td>\n      <td>24.0</td>\n      <td>11.00</td>\n      <td>-1.0</td>\n      <td>3/12/2017</td>\n      <td>-</td>\n      <td>0.0</td>\n      <td>0 km</td>\n      <td>4</td>\n      <td>2017</td>\n      <td>3</td>\n      <td>12</td>\n      <td>1500</td>\n      <td>0</td>\n      <td>350</td>\n      <td>0</td>\n    </tr>\n    <tr>\n      <th>16</th>\n      <td>76.0</td>\n      <td>177392</td>\n      <td>19</td>\n      <td>1031.0</td>\n      <td>31.0</td>\n      <td>20.0</td>\n      <td>11.00</td>\n      <td>-1.0</td>\n      <td>3/12/2017</td>\n      <td>-</td>\n      <td>0.0</td>\n      <td>0 km</td>\n      <td>4</td>\n      <td>2017</td>\n      <td>3</td>\n      <td>12</td>\n      <td>1500</td>\n      <td>0</td>\n      <td>350</td>\n      <td>0</td>\n    </tr>\n    <tr>\n      <th>2</th>\n      <td>17.0</td>\n      <td>194640</td>\n      <td>20</td>\n      <td>1159.0</td>\n      <td>37.0</td>\n      <td>18.0</td>\n      <td>11.00</td>\n      <td>-1.0</td>\n      <td>3/12/2017</td>\n      <td>-</td>\n      <td>0.0</td>\n      <td>0 km</td>\n      <td>4</td>\n      <td>2017</td>\n      <td>3</td>\n      <td>12</td>\n      <td>1500</td>\n      <td>0</td>\n      <td>350</td>\n      <td>0</td>\n    </tr>\n  </tbody>\n</table>\n</div>"
     },
     "metadata": {},
     "execution_count": 5
    }
   ],
   "source": [
    "# FILTER 2 BEST RANKED RIDERS\n",
    "first = dat.groupby('Team').nth(0)\n",
    "second = dat.groupby('Team').nth(1)\n",
    "\n",
    "combined = first.append(second)\n",
    "combined = combined.reset_index().sort_values('Pnt', ascending=False)\n",
    "rada = np.arange(1, (len(combined.Rnk)+1))\n",
    "combined.Rnk = rada\n",
    "combined.head(20)"
   ]
  },
  {
   "cell_type": "code",
   "execution_count": 6,
   "metadata": {
    "tags": []
   },
   "outputs": [],
   "source": [
    "result = rate(list(combined.old_elo), list(combined.old_rd))\n",
    "combined.new_elo = result[0]\n",
    "combined.new_rd = result[1]"
   ]
  },
  {
   "cell_type": "code",
   "execution_count": 7,
   "metadata": {},
   "outputs": [
    {
     "output_type": "execute_result",
     "data": {
      "text/plain": [
       "     Team  Unnamed: 0  Rnk   Rider   Age    Pnt   Name  Stage       Date  \\\n",
       "11   58.0       18043    1    80.0  29.0  250.0  11.00   -1.0  3/12/2017   \n",
       "1     7.0      204503    2  1270.0  34.0  190.0  11.00   -1.0  3/12/2017   \n",
       "3    19.0       10864    3    55.0  30.0  160.0  11.00   -1.0  3/12/2017   \n",
       "0     1.0       31378    4   140.0  29.0  140.0  11.00   -1.0  3/12/2017   \n",
       "25   19.0      101165    5   491.0  24.0  120.0  11.00   -1.0  3/12/2017   \n",
       "15   75.0       41516    6   190.0  27.0  110.0  11.00   -1.0  3/12/2017   \n",
       "18   95.0       26447    7   121.0  28.0  100.0  11.00   -1.0  3/12/2017   \n",
       "19  103.0      120903    8   582.0  25.0   90.0  11.00   -1.0  3/12/2017   \n",
       "5    28.0      113956    9   552.0  24.0   80.0  11.00   -1.0  3/12/2017   \n",
       "10   52.0      114485   10   554.0  28.0   70.0  11.00   -1.0  3/12/2017   \n",
       "\n",
       "   Avg. speed winner  ProfileScore Distance  RaceRanking  Year  Month  Day  \\\n",
       "11                 -           0.0     0 km            4  2017      3   12   \n",
       "1                  -           0.0     0 km            4  2017      3   12   \n",
       "3                  -           0.0     0 km            4  2017      3   12   \n",
       "0                  -           0.0     0 km            4  2017      3   12   \n",
       "25                 -           0.0     0 km            4  2017      3   12   \n",
       "15                 -           0.0     0 km            4  2017      3   12   \n",
       "18                 -           0.0     0 km            4  2017      3   12   \n",
       "19                 -           0.0     0 km            4  2017      3   12   \n",
       "5                  -           0.0     0 km            4  2017      3   12   \n",
       "10                 -           0.0     0 km            4  2017      3   12   \n",
       "\n",
       "    old_elo      new_elo  old_rd      new_rd  \n",
       "11     1500  2595.844959     350  207.536485  \n",
       "1      1500  2544.875426     350  207.536485  \n",
       "3      1500  2493.905893     350  207.536485  \n",
       "0      1500  2442.936360     350  207.536485  \n",
       "25     1500  2391.966827     350  207.536485  \n",
       "15     1500  2340.997294     350  207.536485  \n",
       "18     1500  2290.027761     350  207.536485  \n",
       "19     1500  2239.058228     350  207.536485  \n",
       "5      1500  2188.088695     350  207.536485  \n",
       "10     1500  2137.119162     350  207.536485  "
      ],
      "text/html": "<div>\n<style scoped>\n    .dataframe tbody tr th:only-of-type {\n        vertical-align: middle;\n    }\n\n    .dataframe tbody tr th {\n        vertical-align: top;\n    }\n\n    .dataframe thead th {\n        text-align: right;\n    }\n</style>\n<table border=\"1\" class=\"dataframe\">\n  <thead>\n    <tr style=\"text-align: right;\">\n      <th></th>\n      <th>Team</th>\n      <th>Unnamed: 0</th>\n      <th>Rnk</th>\n      <th>Rider</th>\n      <th>Age</th>\n      <th>Pnt</th>\n      <th>Name</th>\n      <th>Stage</th>\n      <th>Date</th>\n      <th>Avg. speed winner</th>\n      <th>ProfileScore</th>\n      <th>Distance</th>\n      <th>RaceRanking</th>\n      <th>Year</th>\n      <th>Month</th>\n      <th>Day</th>\n      <th>old_elo</th>\n      <th>new_elo</th>\n      <th>old_rd</th>\n      <th>new_rd</th>\n    </tr>\n  </thead>\n  <tbody>\n    <tr>\n      <th>11</th>\n      <td>58.0</td>\n      <td>18043</td>\n      <td>1</td>\n      <td>80.0</td>\n      <td>29.0</td>\n      <td>250.0</td>\n      <td>11.00</td>\n      <td>-1.0</td>\n      <td>3/12/2017</td>\n      <td>-</td>\n      <td>0.0</td>\n      <td>0 km</td>\n      <td>4</td>\n      <td>2017</td>\n      <td>3</td>\n      <td>12</td>\n      <td>1500</td>\n      <td>2595.844959</td>\n      <td>350</td>\n      <td>207.536485</td>\n    </tr>\n    <tr>\n      <th>1</th>\n      <td>7.0</td>\n      <td>204503</td>\n      <td>2</td>\n      <td>1270.0</td>\n      <td>34.0</td>\n      <td>190.0</td>\n      <td>11.00</td>\n      <td>-1.0</td>\n      <td>3/12/2017</td>\n      <td>-</td>\n      <td>0.0</td>\n      <td>0 km</td>\n      <td>4</td>\n      <td>2017</td>\n      <td>3</td>\n      <td>12</td>\n      <td>1500</td>\n      <td>2544.875426</td>\n      <td>350</td>\n      <td>207.536485</td>\n    </tr>\n    <tr>\n      <th>3</th>\n      <td>19.0</td>\n      <td>10864</td>\n      <td>3</td>\n      <td>55.0</td>\n      <td>30.0</td>\n      <td>160.0</td>\n      <td>11.00</td>\n      <td>-1.0</td>\n      <td>3/12/2017</td>\n      <td>-</td>\n      <td>0.0</td>\n      <td>0 km</td>\n      <td>4</td>\n      <td>2017</td>\n      <td>3</td>\n      <td>12</td>\n      <td>1500</td>\n      <td>2493.905893</td>\n      <td>350</td>\n      <td>207.536485</td>\n    </tr>\n    <tr>\n      <th>0</th>\n      <td>1.0</td>\n      <td>31378</td>\n      <td>4</td>\n      <td>140.0</td>\n      <td>29.0</td>\n      <td>140.0</td>\n      <td>11.00</td>\n      <td>-1.0</td>\n      <td>3/12/2017</td>\n      <td>-</td>\n      <td>0.0</td>\n      <td>0 km</td>\n      <td>4</td>\n      <td>2017</td>\n      <td>3</td>\n      <td>12</td>\n      <td>1500</td>\n      <td>2442.936360</td>\n      <td>350</td>\n      <td>207.536485</td>\n    </tr>\n    <tr>\n      <th>25</th>\n      <td>19.0</td>\n      <td>101165</td>\n      <td>5</td>\n      <td>491.0</td>\n      <td>24.0</td>\n      <td>120.0</td>\n      <td>11.00</td>\n      <td>-1.0</td>\n      <td>3/12/2017</td>\n      <td>-</td>\n      <td>0.0</td>\n      <td>0 km</td>\n      <td>4</td>\n      <td>2017</td>\n      <td>3</td>\n      <td>12</td>\n      <td>1500</td>\n      <td>2391.966827</td>\n      <td>350</td>\n      <td>207.536485</td>\n    </tr>\n    <tr>\n      <th>15</th>\n      <td>75.0</td>\n      <td>41516</td>\n      <td>6</td>\n      <td>190.0</td>\n      <td>27.0</td>\n      <td>110.0</td>\n      <td>11.00</td>\n      <td>-1.0</td>\n      <td>3/12/2017</td>\n      <td>-</td>\n      <td>0.0</td>\n      <td>0 km</td>\n      <td>4</td>\n      <td>2017</td>\n      <td>3</td>\n      <td>12</td>\n      <td>1500</td>\n      <td>2340.997294</td>\n      <td>350</td>\n      <td>207.536485</td>\n    </tr>\n    <tr>\n      <th>18</th>\n      <td>95.0</td>\n      <td>26447</td>\n      <td>7</td>\n      <td>121.0</td>\n      <td>28.0</td>\n      <td>100.0</td>\n      <td>11.00</td>\n      <td>-1.0</td>\n      <td>3/12/2017</td>\n      <td>-</td>\n      <td>0.0</td>\n      <td>0 km</td>\n      <td>4</td>\n      <td>2017</td>\n      <td>3</td>\n      <td>12</td>\n      <td>1500</td>\n      <td>2290.027761</td>\n      <td>350</td>\n      <td>207.536485</td>\n    </tr>\n    <tr>\n      <th>19</th>\n      <td>103.0</td>\n      <td>120903</td>\n      <td>8</td>\n      <td>582.0</td>\n      <td>25.0</td>\n      <td>90.0</td>\n      <td>11.00</td>\n      <td>-1.0</td>\n      <td>3/12/2017</td>\n      <td>-</td>\n      <td>0.0</td>\n      <td>0 km</td>\n      <td>4</td>\n      <td>2017</td>\n      <td>3</td>\n      <td>12</td>\n      <td>1500</td>\n      <td>2239.058228</td>\n      <td>350</td>\n      <td>207.536485</td>\n    </tr>\n    <tr>\n      <th>5</th>\n      <td>28.0</td>\n      <td>113956</td>\n      <td>9</td>\n      <td>552.0</td>\n      <td>24.0</td>\n      <td>80.0</td>\n      <td>11.00</td>\n      <td>-1.0</td>\n      <td>3/12/2017</td>\n      <td>-</td>\n      <td>0.0</td>\n      <td>0 km</td>\n      <td>4</td>\n      <td>2017</td>\n      <td>3</td>\n      <td>12</td>\n      <td>1500</td>\n      <td>2188.088695</td>\n      <td>350</td>\n      <td>207.536485</td>\n    </tr>\n    <tr>\n      <th>10</th>\n      <td>52.0</td>\n      <td>114485</td>\n      <td>10</td>\n      <td>554.0</td>\n      <td>28.0</td>\n      <td>70.0</td>\n      <td>11.00</td>\n      <td>-1.0</td>\n      <td>3/12/2017</td>\n      <td>-</td>\n      <td>0.0</td>\n      <td>0 km</td>\n      <td>4</td>\n      <td>2017</td>\n      <td>3</td>\n      <td>12</td>\n      <td>1500</td>\n      <td>2137.119162</td>\n      <td>350</td>\n      <td>207.536485</td>\n    </tr>\n  </tbody>\n</table>\n</div>"
     },
     "metadata": {},
     "execution_count": 7
    }
   ],
   "source": [
    "combined.head(10)"
   ]
  },
  {
   "cell_type": "code",
   "execution_count": 8,
   "metadata": {},
   "outputs": [
    {
     "output_type": "execute_result",
     "data": {
      "text/plain": [
       "       Unnamed: 0    Rnk   Rider   Team   Age    Pnt   Name  Stage       Date  \\\n",
       "2082        18043    8.0    80.0   58.0  29.0  250.0  11.00   -1.0 2017-03-12   \n",
       "29568      204503    1.0  1270.0    7.0  34.0  190.0  11.00   -1.0 2017-03-12   \n",
       "1274        10864    3.0    55.0   19.0  30.0  160.0  11.00   -1.0 2017-03-12   \n",
       "3946        31378   49.0   140.0    1.0  29.0  140.0  11.00   -1.0 2017-03-12   \n",
       "13967      101165   41.0   491.0   19.0  24.0  120.0  11.00   -1.0 2017-03-12   \n",
       "5293        41516    5.0   190.0   75.0  27.0  110.0  11.00   -1.0 2017-03-12   \n",
       "3213        26447   42.0   121.0   95.0  28.0  100.0  11.00   -1.0 2017-03-12   \n",
       "16859      120903   47.0   582.0  103.0  25.0   90.0  11.00   -1.0 2017-03-12   \n",
       "15937      113956   32.0   552.0   28.0  24.0   80.0  11.00   -1.0 2017-03-12   \n",
       "16013      114485  178.0   554.0   52.0  28.0   70.0  11.00   -1.0 2017-03-12   \n",
       "\n",
       "      Avg. speed winner  ProfileScore Distance  RaceRanking  Year  Month  Day  \\\n",
       "2082                  -           0.0     0 km            4  2017      3   12   \n",
       "29568                 -           0.0     0 km            4  2017      3   12   \n",
       "1274                  -           0.0     0 km            4  2017      3   12   \n",
       "3946                  -           0.0     0 km            4  2017      3   12   \n",
       "13967                 -           0.0     0 km            4  2017      3   12   \n",
       "5293                  -           0.0     0 km            4  2017      3   12   \n",
       "3213                  -           0.0     0 km            4  2017      3   12   \n",
       "16859                 -           0.0     0 km            4  2017      3   12   \n",
       "15937                 -           0.0     0 km            4  2017      3   12   \n",
       "16013                 -           0.0     0 km            4  2017      3   12   \n",
       "\n",
       "       old_elo  new_elo  old_rd  new_rd  \n",
       "2082      1500        0     350       0  \n",
       "29568     1500        0     350       0  \n",
       "1274      1500        0     350       0  \n",
       "3946      1500        0     350       0  \n",
       "13967     1500        0     350       0  \n",
       "5293      1500        0     350       0  \n",
       "3213      1500        0     350       0  \n",
       "16859     1500        0     350       0  \n",
       "15937     1500        0     350       0  \n",
       "16013     1500        0     350       0  "
      ],
      "text/html": "<div>\n<style scoped>\n    .dataframe tbody tr th:only-of-type {\n        vertical-align: middle;\n    }\n\n    .dataframe tbody tr th {\n        vertical-align: top;\n    }\n\n    .dataframe thead th {\n        text-align: right;\n    }\n</style>\n<table border=\"1\" class=\"dataframe\">\n  <thead>\n    <tr style=\"text-align: right;\">\n      <th></th>\n      <th>Unnamed: 0</th>\n      <th>Rnk</th>\n      <th>Rider</th>\n      <th>Team</th>\n      <th>Age</th>\n      <th>Pnt</th>\n      <th>Name</th>\n      <th>Stage</th>\n      <th>Date</th>\n      <th>Avg. speed winner</th>\n      <th>ProfileScore</th>\n      <th>Distance</th>\n      <th>RaceRanking</th>\n      <th>Year</th>\n      <th>Month</th>\n      <th>Day</th>\n      <th>old_elo</th>\n      <th>new_elo</th>\n      <th>old_rd</th>\n      <th>new_rd</th>\n    </tr>\n  </thead>\n  <tbody>\n    <tr>\n      <th>2082</th>\n      <td>18043</td>\n      <td>8.0</td>\n      <td>80.0</td>\n      <td>58.0</td>\n      <td>29.0</td>\n      <td>250.0</td>\n      <td>11.00</td>\n      <td>-1.0</td>\n      <td>2017-03-12</td>\n      <td>-</td>\n      <td>0.0</td>\n      <td>0 km</td>\n      <td>4</td>\n      <td>2017</td>\n      <td>3</td>\n      <td>12</td>\n      <td>1500</td>\n      <td>0</td>\n      <td>350</td>\n      <td>0</td>\n    </tr>\n    <tr>\n      <th>29568</th>\n      <td>204503</td>\n      <td>1.0</td>\n      <td>1270.0</td>\n      <td>7.0</td>\n      <td>34.0</td>\n      <td>190.0</td>\n      <td>11.00</td>\n      <td>-1.0</td>\n      <td>2017-03-12</td>\n      <td>-</td>\n      <td>0.0</td>\n      <td>0 km</td>\n      <td>4</td>\n      <td>2017</td>\n      <td>3</td>\n      <td>12</td>\n      <td>1500</td>\n      <td>0</td>\n      <td>350</td>\n      <td>0</td>\n    </tr>\n    <tr>\n      <th>1274</th>\n      <td>10864</td>\n      <td>3.0</td>\n      <td>55.0</td>\n      <td>19.0</td>\n      <td>30.0</td>\n      <td>160.0</td>\n      <td>11.00</td>\n      <td>-1.0</td>\n      <td>2017-03-12</td>\n      <td>-</td>\n      <td>0.0</td>\n      <td>0 km</td>\n      <td>4</td>\n      <td>2017</td>\n      <td>3</td>\n      <td>12</td>\n      <td>1500</td>\n      <td>0</td>\n      <td>350</td>\n      <td>0</td>\n    </tr>\n    <tr>\n      <th>3946</th>\n      <td>31378</td>\n      <td>49.0</td>\n      <td>140.0</td>\n      <td>1.0</td>\n      <td>29.0</td>\n      <td>140.0</td>\n      <td>11.00</td>\n      <td>-1.0</td>\n      <td>2017-03-12</td>\n      <td>-</td>\n      <td>0.0</td>\n      <td>0 km</td>\n      <td>4</td>\n      <td>2017</td>\n      <td>3</td>\n      <td>12</td>\n      <td>1500</td>\n      <td>0</td>\n      <td>350</td>\n      <td>0</td>\n    </tr>\n    <tr>\n      <th>13967</th>\n      <td>101165</td>\n      <td>41.0</td>\n      <td>491.0</td>\n      <td>19.0</td>\n      <td>24.0</td>\n      <td>120.0</td>\n      <td>11.00</td>\n      <td>-1.0</td>\n      <td>2017-03-12</td>\n      <td>-</td>\n      <td>0.0</td>\n      <td>0 km</td>\n      <td>4</td>\n      <td>2017</td>\n      <td>3</td>\n      <td>12</td>\n      <td>1500</td>\n      <td>0</td>\n      <td>350</td>\n      <td>0</td>\n    </tr>\n    <tr>\n      <th>5293</th>\n      <td>41516</td>\n      <td>5.0</td>\n      <td>190.0</td>\n      <td>75.0</td>\n      <td>27.0</td>\n      <td>110.0</td>\n      <td>11.00</td>\n      <td>-1.0</td>\n      <td>2017-03-12</td>\n      <td>-</td>\n      <td>0.0</td>\n      <td>0 km</td>\n      <td>4</td>\n      <td>2017</td>\n      <td>3</td>\n      <td>12</td>\n      <td>1500</td>\n      <td>0</td>\n      <td>350</td>\n      <td>0</td>\n    </tr>\n    <tr>\n      <th>3213</th>\n      <td>26447</td>\n      <td>42.0</td>\n      <td>121.0</td>\n      <td>95.0</td>\n      <td>28.0</td>\n      <td>100.0</td>\n      <td>11.00</td>\n      <td>-1.0</td>\n      <td>2017-03-12</td>\n      <td>-</td>\n      <td>0.0</td>\n      <td>0 km</td>\n      <td>4</td>\n      <td>2017</td>\n      <td>3</td>\n      <td>12</td>\n      <td>1500</td>\n      <td>0</td>\n      <td>350</td>\n      <td>0</td>\n    </tr>\n    <tr>\n      <th>16859</th>\n      <td>120903</td>\n      <td>47.0</td>\n      <td>582.0</td>\n      <td>103.0</td>\n      <td>25.0</td>\n      <td>90.0</td>\n      <td>11.00</td>\n      <td>-1.0</td>\n      <td>2017-03-12</td>\n      <td>-</td>\n      <td>0.0</td>\n      <td>0 km</td>\n      <td>4</td>\n      <td>2017</td>\n      <td>3</td>\n      <td>12</td>\n      <td>1500</td>\n      <td>0</td>\n      <td>350</td>\n      <td>0</td>\n    </tr>\n    <tr>\n      <th>15937</th>\n      <td>113956</td>\n      <td>32.0</td>\n      <td>552.0</td>\n      <td>28.0</td>\n      <td>24.0</td>\n      <td>80.0</td>\n      <td>11.00</td>\n      <td>-1.0</td>\n      <td>2017-03-12</td>\n      <td>-</td>\n      <td>0.0</td>\n      <td>0 km</td>\n      <td>4</td>\n      <td>2017</td>\n      <td>3</td>\n      <td>12</td>\n      <td>1500</td>\n      <td>0</td>\n      <td>350</td>\n      <td>0</td>\n    </tr>\n    <tr>\n      <th>16013</th>\n      <td>114485</td>\n      <td>178.0</td>\n      <td>554.0</td>\n      <td>52.0</td>\n      <td>28.0</td>\n      <td>70.0</td>\n      <td>11.00</td>\n      <td>-1.0</td>\n      <td>2017-03-12</td>\n      <td>-</td>\n      <td>0.0</td>\n      <td>0 km</td>\n      <td>4</td>\n      <td>2017</td>\n      <td>3</td>\n      <td>12</td>\n      <td>1500</td>\n      <td>0</td>\n      <td>350</td>\n      <td>0</td>\n    </tr>\n  </tbody>\n</table>\n</div>"
     },
     "metadata": {},
     "execution_count": 8
    }
   ],
   "source": [
    "dat['Date'] =  pd.to_datetime(dat['Date'])\n",
    "dat[(dat['Stage'] == -1) & (dat['Name'] == \"11.00\") & (dat['Date'] >= pd.Timestamp(2017,3,10))].head(10)"
   ]
  },
  {
   "cell_type": "code",
   "execution_count": 9,
   "metadata": {},
   "outputs": [
    {
     "output_type": "execute_result",
     "data": {
      "text/plain": [
       "2017"
      ]
     },
     "metadata": {},
     "execution_count": 9
    }
   ],
   "source": [
    "combined.Year[0]"
   ]
  },
  {
   "cell_type": "code",
   "execution_count": 10,
   "metadata": {
    "tags": []
   },
   "outputs": [],
   "source": [
    "# CREATING THE LOOP\n",
    "# 1. TAKE ONLY STAGE == -1\n",
    "# 2. sort by date\n",
    "# 3. rotate over all names - for name in table.name.unique() - make sure it's taking it in the correct order\n",
    "# 4. take subset (1 race), compute new elo\n",
    "# 5. update elos in the central table\n",
    "\n",
    "df2 = df[(df['Stage'] == -1) & (df['Year'] == 2017)] # df is already only 2017 for now\n",
    "df2 = df2.sort_values('Date', ascending = True)\n",
    "df2['old_elo'] = 1500\n",
    "df2['new_elo'] = 0\n",
    "df2['old_rd'] = 350\n",
    "df2['new_rd'] = 0\n",
    "date1 = []\n",
    "date = list(df2.Date)\n",
    "for i in range(len(df2.Date)):\n",
    "    date1.append(pd.Timestamp(date[i]))\n",
    "df2['Date1'] = 0\n",
    "df2['Date1'] = date1\n",
    "\n",
    "# CREATE A LOOP EVALUATING EVERY RACE\n",
    "for j in range(len(df2.Name.unique())):\n",
    "    race_name = list(df2.sort_values('Date',  ascending = True).Name.unique())[j]\n",
    "    race_data = df2[(df2['Name'] == race_name)]\n",
    "    # take only two best riders!!!!\n",
    "    # FILTER 2 BEST RANKED RIDERS\n",
    "    #first = race_data.groupby('Team').nth(0)\n",
    "    #second = race_data.groupby('Team').nth(1)\n",
    "\n",
    "    #combined = first.append(second)\n",
    "    #combined = combined.reset_index().sort_values('Pnt', ascending=False)\n",
    "    #rada = np.arange(1, (len(combined.Rnk)+1))\n",
    "    #combined.Rnk = rada\n",
    "    #race_data = combined\n",
    "    result = rate(list(race_data.old_elo), list(race_data.old_rd)) # compute new elos\n",
    "\n",
    "# create a empty df with all the cols we want\n",
    "    #empty = pd.DataFrame(columns = df2.columns)\n",
    "\n",
    "# UPDATING OF VALUES, do after every race, has to be intended\n",
    "    for i in range(len(race_data.Rider)): \n",
    "        rider = list(race_data.Rider)[i]\n",
    "        elo = result[0][i]\n",
    "        rd = result[1][i]\n",
    "        date = pd.Timestamp(list(race_data.Year)[0], list(race_data.Month)[0], list(race_data.Day)[0])\n",
    "\n",
    "        df2.loc[(df2['Rider'] == rider) & (df2['Date1'] > date), 'old_elo'] = elo\n",
    "        df2.loc[(df2['Rider'] == rider) & (df2['Date1'] > date), 'old_rd'] = rd\n",
    "        df2.loc[(df2['Rider'] == rider) & (df2['Date1'] == date), 'new_elo'] = elo\n",
    "        df2.loc[(df2['Rider'] == rider) & (df2['Date1'] == date), 'new_rd'] = rd\n",
    "\n",
    "\n",
    "\n",
    "     #   subset1 = df2[(df2['Rider'] == rider) & (df2['Date1'] > date)] # slice of df2 for every rider after this race\n",
    "      #  subset1.loc[:,'old_elo']  = elo\n",
    "       # subset1.loc[:,'old_rd']  = rd\n",
    "\n",
    "        #subset2 = df2[(df2['Rider'] == rider) & (df2['Date1'] == date)] # slice of df2 for every rider after this race\n",
    "        #subset2.loc[:,'new_elo']  = elo\n",
    "        #subset2.loc[:,'new_rd']  = rd\n",
    "\n",
    "        #subset3 = df2[(df2['Rider'] == rider) & (df2['Date1'] < date)]\n",
    "        # and merge them all together afterwards (append), then use this df for next race\n",
    "        #empty = empty.append(subset1)\n",
    "        #empty = empty.append(subset2)\n",
    "        #empty = empty.append(subset3)\n",
    "\n",
    "        # HERE APPEND sets_merged TO EMPTY\n",
    "\n",
    "    #df2 = empty"
   ]
  },
  {
   "cell_type": "code",
   "execution_count": 11,
   "metadata": {},
   "outputs": [
    {
     "output_type": "execute_result",
     "data": {
      "text/plain": [
       "       Unnamed: 0   Rnk   Rider  Team   Age    Pnt   Name  Stage       Date  \\\n",
       "29558      204493  14.0  1270.0   7.0  34.0   20.0  22.00   -1.0  2/26/2017   \n",
       "29568      204503   1.0  1270.0   7.0  34.0  190.0  11.00   -1.0  3/12/2017   \n",
       "29575      204510   5.0  1270.0   7.0  34.0  190.0   1.00   -1.0  3/26/2017   \n",
       "29582      204517  61.0  1270.0   7.0  34.0  190.0  66.00   -1.0   4/8/2017   \n",
       "29590      204525  70.0  1270.0   7.0  34.0   60.0   5.00   -1.0  6/11/2017   \n",
       "29612      204547  97.0  1270.0   7.0  34.0  210.0   6.00   -1.0  7/23/2017   \n",
       "29634      204569   4.0  1270.0   7.0  34.0  200.0   8.00   -1.0  9/10/2017   \n",
       "\n",
       "      Avg. speed winner  ...  Distance RaceRanking  Year  Month  Day  \\\n",
       "29558                 -  ...      0 km          20  2017      2   26   \n",
       "29568                 -  ...      0 km           4  2017      3   12   \n",
       "29575                 -  ...      0 km          18  2017      3   26   \n",
       "29582                 -  ...      0 km          24  2017      4    8   \n",
       "29590                 -  ...      0 km           6  2017      6   11   \n",
       "29612       40.997 km/h  ...      0 km           1  2017      7   23   \n",
       "29634                 -  ...      0 km          16  2017      9   10   \n",
       "\n",
       "           old_elo      new_elo      old_rd      new_rd      Date1  \n",
       "29558  1500.000000  2571.055241  350.000000  133.346798 2017-02-26  \n",
       "29568  2571.055241  2864.263664  133.346798  110.368405 2017-03-12  \n",
       "29575  2864.263664  1578.553468  110.368405  102.098633 2017-03-26  \n",
       "29582  1578.553468   209.402914  102.098633   87.652012 2017-04-08  \n",
       "29590   209.402914   -56.321344   87.652012   54.756562 2017-06-11  \n",
       "29612   -56.321344  -235.114062   54.756562   37.880456 2017-07-23  \n",
       "29634  -235.114062    37.792518   37.880456   31.665570 2017-09-10  \n",
       "\n",
       "[7 rows x 21 columns]"
      ],
      "text/html": "<div>\n<style scoped>\n    .dataframe tbody tr th:only-of-type {\n        vertical-align: middle;\n    }\n\n    .dataframe tbody tr th {\n        vertical-align: top;\n    }\n\n    .dataframe thead th {\n        text-align: right;\n    }\n</style>\n<table border=\"1\" class=\"dataframe\">\n  <thead>\n    <tr style=\"text-align: right;\">\n      <th></th>\n      <th>Unnamed: 0</th>\n      <th>Rnk</th>\n      <th>Rider</th>\n      <th>Team</th>\n      <th>Age</th>\n      <th>Pnt</th>\n      <th>Name</th>\n      <th>Stage</th>\n      <th>Date</th>\n      <th>Avg. speed winner</th>\n      <th>...</th>\n      <th>Distance</th>\n      <th>RaceRanking</th>\n      <th>Year</th>\n      <th>Month</th>\n      <th>Day</th>\n      <th>old_elo</th>\n      <th>new_elo</th>\n      <th>old_rd</th>\n      <th>new_rd</th>\n      <th>Date1</th>\n    </tr>\n  </thead>\n  <tbody>\n    <tr>\n      <th>29558</th>\n      <td>204493</td>\n      <td>14.0</td>\n      <td>1270.0</td>\n      <td>7.0</td>\n      <td>34.0</td>\n      <td>20.0</td>\n      <td>22.00</td>\n      <td>-1.0</td>\n      <td>2/26/2017</td>\n      <td>-</td>\n      <td>...</td>\n      <td>0 km</td>\n      <td>20</td>\n      <td>2017</td>\n      <td>2</td>\n      <td>26</td>\n      <td>1500.000000</td>\n      <td>2571.055241</td>\n      <td>350.000000</td>\n      <td>133.346798</td>\n      <td>2017-02-26</td>\n    </tr>\n    <tr>\n      <th>29568</th>\n      <td>204503</td>\n      <td>1.0</td>\n      <td>1270.0</td>\n      <td>7.0</td>\n      <td>34.0</td>\n      <td>190.0</td>\n      <td>11.00</td>\n      <td>-1.0</td>\n      <td>3/12/2017</td>\n      <td>-</td>\n      <td>...</td>\n      <td>0 km</td>\n      <td>4</td>\n      <td>2017</td>\n      <td>3</td>\n      <td>12</td>\n      <td>2571.055241</td>\n      <td>2864.263664</td>\n      <td>133.346798</td>\n      <td>110.368405</td>\n      <td>2017-03-12</td>\n    </tr>\n    <tr>\n      <th>29575</th>\n      <td>204510</td>\n      <td>5.0</td>\n      <td>1270.0</td>\n      <td>7.0</td>\n      <td>34.0</td>\n      <td>190.0</td>\n      <td>1.00</td>\n      <td>-1.0</td>\n      <td>3/26/2017</td>\n      <td>-</td>\n      <td>...</td>\n      <td>0 km</td>\n      <td>18</td>\n      <td>2017</td>\n      <td>3</td>\n      <td>26</td>\n      <td>2864.263664</td>\n      <td>1578.553468</td>\n      <td>110.368405</td>\n      <td>102.098633</td>\n      <td>2017-03-26</td>\n    </tr>\n    <tr>\n      <th>29582</th>\n      <td>204517</td>\n      <td>61.0</td>\n      <td>1270.0</td>\n      <td>7.0</td>\n      <td>34.0</td>\n      <td>190.0</td>\n      <td>66.00</td>\n      <td>-1.0</td>\n      <td>4/8/2017</td>\n      <td>-</td>\n      <td>...</td>\n      <td>0 km</td>\n      <td>24</td>\n      <td>2017</td>\n      <td>4</td>\n      <td>8</td>\n      <td>1578.553468</td>\n      <td>209.402914</td>\n      <td>102.098633</td>\n      <td>87.652012</td>\n      <td>2017-04-08</td>\n    </tr>\n    <tr>\n      <th>29590</th>\n      <td>204525</td>\n      <td>70.0</td>\n      <td>1270.0</td>\n      <td>7.0</td>\n      <td>34.0</td>\n      <td>60.0</td>\n      <td>5.00</td>\n      <td>-1.0</td>\n      <td>6/11/2017</td>\n      <td>-</td>\n      <td>...</td>\n      <td>0 km</td>\n      <td>6</td>\n      <td>2017</td>\n      <td>6</td>\n      <td>11</td>\n      <td>209.402914</td>\n      <td>-56.321344</td>\n      <td>87.652012</td>\n      <td>54.756562</td>\n      <td>2017-06-11</td>\n    </tr>\n    <tr>\n      <th>29612</th>\n      <td>204547</td>\n      <td>97.0</td>\n      <td>1270.0</td>\n      <td>7.0</td>\n      <td>34.0</td>\n      <td>210.0</td>\n      <td>6.00</td>\n      <td>-1.0</td>\n      <td>7/23/2017</td>\n      <td>40.997 km/h</td>\n      <td>...</td>\n      <td>0 km</td>\n      <td>1</td>\n      <td>2017</td>\n      <td>7</td>\n      <td>23</td>\n      <td>-56.321344</td>\n      <td>-235.114062</td>\n      <td>54.756562</td>\n      <td>37.880456</td>\n      <td>2017-07-23</td>\n    </tr>\n    <tr>\n      <th>29634</th>\n      <td>204569</td>\n      <td>4.0</td>\n      <td>1270.0</td>\n      <td>7.0</td>\n      <td>34.0</td>\n      <td>200.0</td>\n      <td>8.00</td>\n      <td>-1.0</td>\n      <td>9/10/2017</td>\n      <td>-</td>\n      <td>...</td>\n      <td>0 km</td>\n      <td>16</td>\n      <td>2017</td>\n      <td>9</td>\n      <td>10</td>\n      <td>-235.114062</td>\n      <td>37.792518</td>\n      <td>37.880456</td>\n      <td>31.665570</td>\n      <td>2017-09-10</td>\n    </tr>\n  </tbody>\n</table>\n<p>7 rows × 21 columns</p>\n</div>"
     },
     "metadata": {},
     "execution_count": 11
    }
   ],
   "source": [
    "df2[(df2['Rider'] == 1270)]"
   ]
  },
  {
   "cell_type": "code",
   "execution_count": 12,
   "metadata": {},
   "outputs": [],
   "source": [
    "date1 = []\n",
    "date = list(df2.Date)\n",
    "for i in range(len(df2.Date)):\n",
    "    date1.append(pd.Timestamp(date[i]))\n",
    "df2['Date1'] = 0\n",
    "df2['Date1'] = date1"
   ]
  },
  {
   "cell_type": "code",
   "execution_count": 13,
   "metadata": {},
   "outputs": [
    {
     "output_type": "error",
     "ename": "NameError",
     "evalue": "name 'subset2' is not defined",
     "traceback": [
      "\u001b[1;31m---------------------------------------------------------------------------\u001b[0m",
      "\u001b[1;31mNameError\u001b[0m                                 Traceback (most recent call last)",
      "\u001b[1;32m<ipython-input-13-7c9f853fed34>\u001b[0m in \u001b[0;36m<module>\u001b[1;34m\u001b[0m\n\u001b[1;32m----> 1\u001b[1;33m \u001b[0msubset2\u001b[0m\u001b[1;33m\u001b[0m\u001b[1;33m\u001b[0m\u001b[0m\n\u001b[0m",
      "\u001b[1;31mNameError\u001b[0m: name 'subset2' is not defined"
     ]
    }
   ],
   "source": [
    "subset2"
   ]
  },
  {
   "cell_type": "code",
   "execution_count": 14,
   "metadata": {},
   "outputs": [
    {
     "output_type": "execute_result",
     "data": {
      "text/plain": [
       "17"
      ]
     },
     "metadata": {},
     "execution_count": 14
    }
   ],
   "source": [
    "len(list(df2.Name.unique()))"
   ]
  },
  {
   "cell_type": "code",
   "execution_count": 16,
   "metadata": {},
   "outputs": [
    {
     "output_type": "execute_result",
     "data": {
      "text/plain": [
       "5094.063219836233"
      ]
     },
     "metadata": {},
     "execution_count": 16
    }
   ],
   "source": [
    "result[0][1]"
   ]
  },
  {
   "cell_type": "code",
   "execution_count": null,
   "metadata": {},
   "outputs": [],
   "source": []
  }
 ]
}