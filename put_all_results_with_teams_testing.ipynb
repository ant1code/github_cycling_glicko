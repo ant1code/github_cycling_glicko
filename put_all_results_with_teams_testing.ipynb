{
 "metadata": {
  "language_info": {
   "codemirror_mode": {
    "name": "ipython",
    "version": 3
   },
   "file_extension": ".py",
   "mimetype": "text/x-python",
   "name": "python",
   "nbconvert_exporter": "python",
   "pygments_lexer": "ipython3",
   "version": "3.9.2"
  },
  "orig_nbformat": 2,
  "kernelspec": {
   "name": "python3",
   "display_name": "Python 3.9.2 64-bit"
  },
  "metadata": {
   "interpreter": {
    "hash": "c5b322d1f5beaecfb28b050f61b5bc2c682da0c88a01138942a1439f934c1c07"
   }
  },
  "interpreter": {
   "hash": "c5b322d1f5beaecfb28b050f61b5bc2c682da0c88a01138942a1439f934c1c07"
  }
 },
 "nbformat": 4,
 "nbformat_minor": 2,
 "cells": [
  {
   "cell_type": "code",
   "execution_count": 11,
   "metadata": {},
   "outputs": [],
   "source": [
    "import pandas as pd\n",
    "import numpy as np\n",
    "import dask.dataframe as dd\n",
    "import itertools as it\n",
    "import datetime\n",
    "import math\n",
    "\n"
   ]
  },
  {
   "cell_type": "code",
   "execution_count": null,
   "metadata": {},
   "outputs": [],
   "source": [
    "# how many % is the highest-ranked rider the first on the finish line?\n",
    "# 1. import 1 year\n",
    "# 2. evaluate per-month % of the first rider winning\n",
    "#    for every race\n",
    "#    sort by elo_old\n",
    "#   if first_row.Pts = max(all pts in a race), counter += 1, else pass\n",
    "\n",
    "# 3. plot"
   ]
  },
  {
   "cell_type": "code",
   "execution_count": 32,
   "metadata": {},
   "outputs": [
    {
     "output_type": "stream",
     "name": "stdout",
     "text": [
      "The average for alpha 1 is 0.05038784744667098.\n",
      "The average for alpha 2 is 0.05808015513897867.\n",
      "The average for alpha 3 is 0.05808015513897867.\n",
      "The average for alpha 4 is 0.07058015513897867.\n",
      "The average for alpha 5 is 0.07058015513897867.\n",
      "The average for alpha 6 is 0.07058015513897867.\n",
      "The average for alpha 7 is 0.07058015513897867.\n",
      "The average for alpha 8 is 0.07827246283128636.\n",
      "The average for alpha 9 is 0.07827246283128636.\n",
      "The average for alpha 10 is 0.07827246283128636.\n",
      "The average for alpha 11 is 0.07827246283128636.\n",
      "The average for alpha 12 is 0.07827246283128636.\n",
      "The average for alpha 13 is 0.07827246283128636.\n",
      "The average for alpha 14 is 0.07827246283128636.\n",
      "The average for alpha 15 is 0.0854153199741435.\n",
      "The average for alpha 16 is 0.0854153199741435.\n",
      "The average for alpha 17 is 0.0854153199741435.\n",
      "The average for alpha 18 is 0.0854153199741435.\n",
      "The average for alpha 19 is 0.0854153199741435.\n",
      "The average for alpha 20 is 0.09255817711700064.\n",
      "The average for alpha 21 is 0.09255817711700064.\n",
      "The average for alpha 22 is 0.09255817711700064.\n",
      "The average for alpha 23 is 0.09255817711700064.\n",
      "The average for alpha 24 is 0.09255817711700064.\n",
      "The average for alpha 25 is 0.09255817711700064.\n",
      "The average for alpha 26 is 0.10558338720103425.\n",
      "The average for alpha 27 is 0.10558338720103425.\n",
      "The average for alpha 28 is 0.10558338720103425.\n",
      "The average for alpha 29 is 0.11146574014221074.\n",
      "The average for alpha 30 is 0.11146574014221074.\n",
      "The average for alpha 31 is 0.11146574014221074.\n",
      "The average for alpha 32 is 0.11734809308338719.\n",
      "The average for alpha 33 is 0.11734809308338719.\n",
      "The average for alpha 34 is 0.12323044602456365.\n",
      "The average for alpha 35 is 0.12323044602456365.\n",
      "The average for alpha 36 is 0.12323044602456365.\n",
      "The average for alpha 37 is 0.13037330316742082.\n",
      "The average for alpha 38 is 0.13037330316742082.\n",
      "The average for alpha 39 is 0.13806561085972852.\n",
      "The average for alpha 40 is 0.13806561085972852.\n",
      "The average for alpha 41 is 0.13037330316742082.\n",
      "The average for alpha 42 is 0.13037330316742082.\n",
      "The average for alpha 43 is 0.1362556561085973.\n",
      "The average for alpha 44 is 0.1362556561085973.\n",
      "The average for alpha 45 is 0.14213800904977375.\n",
      "The average for alpha 46 is 0.14213800904977375.\n",
      "The average for alpha 47 is 0.14213800904977375.\n",
      "The average for alpha 48 is 0.14213800904977375.\n",
      "The average for alpha 49 is 0.1492808661926309.\n",
      "The average for alpha 50 is 0.1492808661926309.\n",
      "The average for alpha 51 is 0.15516321913380737.\n",
      "The average for alpha 52 is 0.15516321913380737.\n",
      "The average for alpha 53 is 0.15516321913380737.\n",
      "The average for alpha 54 is 0.15516321913380737.\n",
      "The average for alpha 55 is 0.15516321913380737.\n",
      "The average for alpha 56 is 0.15516321913380737.\n",
      "The average for alpha 57 is 0.15516321913380737.\n",
      "The average for alpha 58 is 0.15516321913380737.\n",
      "The average for alpha 59 is 0.15516321913380737.\n",
      "The average for alpha 60 is 0.15516321913380737.\n",
      "The average for alpha 61 is 0.16230607627666452.\n",
      "The average for alpha 62 is 0.16230607627666452.\n",
      "The average for alpha 63 is 0.15642372333548804.\n",
      "The average for alpha 64 is 0.16230607627666452.\n",
      "The average for alpha 65 is 0.16230607627666452.\n",
      "The average for alpha 66 is 0.16230607627666452.\n",
      "The average for alpha 67 is 0.16230607627666452.\n",
      "The average for alpha 68 is 0.16230607627666452.\n",
      "The average for alpha 69 is 0.16230607627666452.\n",
      "The average for alpha 70 is 0.16230607627666452.\n",
      "The average for alpha 71 is 0.16230607627666452.\n",
      "The average for alpha 72 is 0.15642372333548804.\n",
      "The average for alpha 73 is 0.15642372333548804.\n",
      "The average for alpha 74 is 0.15642372333548804.\n",
      "The average for alpha 75 is 0.15642372333548804.\n",
      "The average for alpha 76 is 0.15642372333548804.\n",
      "The average for alpha 77 is 0.15642372333548804.\n",
      "The average for alpha 78 is 0.1699983839689722.\n",
      "The average for alpha 79 is 0.1699983839689722.\n",
      "The average for alpha 80 is 0.1699983839689722.\n",
      "The average for alpha 81 is 0.1758807369101487.\n",
      "The average for alpha 82 is 0.1883807369101487.\n",
      "The average for alpha 83 is 0.1883807369101487.\n",
      "The average for alpha 84 is 0.1883807369101487.\n",
      "The average for alpha 85 is 0.19552359405300584.\n",
      "The average for alpha 86 is 0.19552359405300584.\n",
      "The average for alpha 87 is 0.19552359405300584.\n",
      "The average for alpha 88 is 0.19552359405300584.\n",
      "The average for alpha 89 is 0.19552359405300584.\n",
      "The average for alpha 90 is 0.2014059469941823.\n",
      "The average for alpha 91 is 0.20854880413703944.\n",
      "The average for alpha 92 is 0.20854880413703944.\n",
      "The average for alpha 93 is 0.20854880413703944.\n",
      "The average for alpha 94 is 0.20854880413703944.\n",
      "The average for alpha 95 is 0.20854880413703944.\n",
      "The average for alpha 96 is 0.20854880413703944.\n",
      "The average for alpha 97 is 0.2098093083387201.\n",
      "The average for alpha 98 is 0.2098093083387201.\n"
     ]
    }
   ],
   "source": [
    "alphas = range(1, 99)\n",
    "for a in alphas:\n",
    "    years = [2011, 2012, 2013, 2014, 2015, 2016, 2017, 2018, 2019, 2020]\n",
    "    average = []\n",
    "    for year in years:\n",
    "        df = pd.read_csv('results_with_teams'+str(year)+'_final.csv', low_memory = False)\n",
    "        counter = 0\n",
    "        df['weighted_elo'] = (a/100)*df['old_elo'] + ((100 - a)/100)*df['old_team_elo']\n",
    "        for name in df.Name.unique():\n",
    "            df2 = df[(df['Name'] == name)]\n",
    "            first_ranked = df2.sort_values('weighted_elo', ascending=False).Pnt.values[0]\n",
    "            highest_ranked = max(df2.Pnt)\n",
    "            if first_ranked == highest_ranked:\n",
    "                counter += 1\n",
    "            else:\n",
    "                pass\n",
    "        average.append(counter/len(df.Name.unique()))\n",
    "    summed = sum(average)/(10)\n",
    "    print('The average for alpha '+str(a)+' is '+str(summed)+'.')\n",
    "\n"
   ]
  },
  {
   "cell_type": "code",
   "execution_count": 50,
   "metadata": {},
   "outputs": [],
   "source": [
    "averages = [0.14285714285714285, 0.21428571428571427, 0.21428571428571427, 0.2857142857142857, 0.23076923076923078, 0.23076923076923078, 0.11764705882352941, 0.11764705882352941, 0.29411764705882354, 0.25]"
   ]
  },
  {
   "cell_type": "code",
   "execution_count": 9,
   "metadata": {},
   "outputs": [],
   "source": [
    "a = 50"
   ]
  },
  {
   "cell_type": "code",
   "execution_count": 30,
   "metadata": {},
   "outputs": [
    {
     "output_type": "execute_result",
     "data": {
      "text/plain": [
       "1.492808661926309"
      ]
     },
     "metadata": {},
     "execution_count": 30
    }
   ],
   "source": [
    "sum(average)"
   ]
  },
  {
   "cell_type": "code",
   "execution_count": null,
   "metadata": {},
   "outputs": [],
   "source": []
  }
 ]
}