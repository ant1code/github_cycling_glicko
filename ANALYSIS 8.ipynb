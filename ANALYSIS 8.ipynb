{
 "metadata": {
  "language_info": {
   "codemirror_mode": {
    "name": "ipython",
    "version": 3
   },
   "file_extension": ".py",
   "mimetype": "text/x-python",
   "name": "python",
   "nbconvert_exporter": "python",
   "pygments_lexer": "ipython3",
   "version": "3.9.2"
  },
  "orig_nbformat": 2,
  "kernelspec": {
   "name": "python3",
   "display_name": "Python 3.9.2 64-bit"
  },
  "metadata": {
   "interpreter": {
    "hash": "c5b322d1f5beaecfb28b050f61b5bc2c682da0c88a01138942a1439f934c1c07"
   }
  },
  "interpreter": {
   "hash": "c5b322d1f5beaecfb28b050f61b5bc2c682da0c88a01138942a1439f934c1c07"
  }
 },
 "nbformat": 4,
 "nbformat_minor": 2,
 "cells": [
  {
   "cell_type": "code",
   "execution_count": 3,
   "metadata": {},
   "outputs": [],
   "source": [
    "import pandas as pd\n",
    "import numpy as np\n",
    "import dask.dataframe as dd\n",
    "import itertools as it\n",
    "import datetime\n",
    "import math\n",
    "\n",
    "df = pd.read_csv('data_for_glicko.csv', low_memory = False)"
   ]
  },
  {
   "cell_type": "code",
   "execution_count": 18,
   "metadata": {},
   "outputs": [
    {
     "output_type": "execute_result",
     "data": {
      "text/plain": [
       "     Unnamed: 0  Rnk  Rider Team   Age   Pnt Name  Stage       Date  \\\n",
       "15         15.0   53    1.0    1  27.0   5.0    5   -1.0  6/12/2011   \n",
       "36         36.0   88    1.0    1  27.0  25.0    6   -1.0  7/24/2011   \n",
       "58         58.0  126    1.0    1  27.0  20.0    8   -1.0  9/11/2011   \n",
       "67         67.0  105    1.0    1  28.0   5.0   10   -1.0  1/22/2012   \n",
       "74         74.0   85    1.0    1  28.0   5.0   11   -1.0  3/11/2012   \n",
       "90         90.0   90    1.0    1  28.0   5.0    5   -1.0  6/10/2012   \n",
       "103       103.0   44    1.0    1  28.0   5.0   17   -1.0  8/12/2012   \n",
       "124       124.0  132    1.0    1  28.0  20.0    8   -1.0   9/9/2012   \n",
       "133       133.0  104    1.0    1  29.0   5.0   11   -1.0  3/10/2013   \n",
       "140       140.0  112    1.0    1  29.0   5.0    1   -1.0  3/24/2013   \n",
       "\n",
       "    Avg. speed winner  ProfileScore Distance  RaceRanking  Year  Month  Day  \n",
       "15                  -           0.0     0 km         12.0  2011      6   12  \n",
       "36        39.788 km/h           0.0     0 km          1.0  2011      7   24  \n",
       "58                  -           0.0     0 km          6.0  2011      9   11  \n",
       "67        38.661 km/h           0.0     0 km         32.0  2012      1   22  \n",
       "74        40.862 km/h           0.0     0 km          9.0  2012      3   11  \n",
       "90        39.419 km/h           0.0     0 km          9.0  2012      6   10  \n",
       "103       41.869 km/h           0.0     0 km         29.0  2012      8   12  \n",
       "124       38.711 km/h           0.0     0 km         17.0  2012      9    9  \n",
       "133       40.604 km/h           0.0     0 km         14.0  2013      3   10  \n",
       "140       40.467 km/h           0.0     0 km         24.0  2013      3   24  "
      ],
      "text/html": "<div>\n<style scoped>\n    .dataframe tbody tr th:only-of-type {\n        vertical-align: middle;\n    }\n\n    .dataframe tbody tr th {\n        vertical-align: top;\n    }\n\n    .dataframe thead th {\n        text-align: right;\n    }\n</style>\n<table border=\"1\" class=\"dataframe\">\n  <thead>\n    <tr style=\"text-align: right;\">\n      <th></th>\n      <th>Unnamed: 0</th>\n      <th>Rnk</th>\n      <th>Rider</th>\n      <th>Team</th>\n      <th>Age</th>\n      <th>Pnt</th>\n      <th>Name</th>\n      <th>Stage</th>\n      <th>Date</th>\n      <th>Avg. speed winner</th>\n      <th>ProfileScore</th>\n      <th>Distance</th>\n      <th>RaceRanking</th>\n      <th>Year</th>\n      <th>Month</th>\n      <th>Day</th>\n    </tr>\n  </thead>\n  <tbody>\n    <tr>\n      <th>15</th>\n      <td>15.0</td>\n      <td>53</td>\n      <td>1.0</td>\n      <td>1</td>\n      <td>27.0</td>\n      <td>5.0</td>\n      <td>5</td>\n      <td>-1.0</td>\n      <td>6/12/2011</td>\n      <td>-</td>\n      <td>0.0</td>\n      <td>0 km</td>\n      <td>12.0</td>\n      <td>2011</td>\n      <td>6</td>\n      <td>12</td>\n    </tr>\n    <tr>\n      <th>36</th>\n      <td>36.0</td>\n      <td>88</td>\n      <td>1.0</td>\n      <td>1</td>\n      <td>27.0</td>\n      <td>25.0</td>\n      <td>6</td>\n      <td>-1.0</td>\n      <td>7/24/2011</td>\n      <td>39.788 km/h</td>\n      <td>0.0</td>\n      <td>0 km</td>\n      <td>1.0</td>\n      <td>2011</td>\n      <td>7</td>\n      <td>24</td>\n    </tr>\n    <tr>\n      <th>58</th>\n      <td>58.0</td>\n      <td>126</td>\n      <td>1.0</td>\n      <td>1</td>\n      <td>27.0</td>\n      <td>20.0</td>\n      <td>8</td>\n      <td>-1.0</td>\n      <td>9/11/2011</td>\n      <td>-</td>\n      <td>0.0</td>\n      <td>0 km</td>\n      <td>6.0</td>\n      <td>2011</td>\n      <td>9</td>\n      <td>11</td>\n    </tr>\n    <tr>\n      <th>67</th>\n      <td>67.0</td>\n      <td>105</td>\n      <td>1.0</td>\n      <td>1</td>\n      <td>28.0</td>\n      <td>5.0</td>\n      <td>10</td>\n      <td>-1.0</td>\n      <td>1/22/2012</td>\n      <td>38.661 km/h</td>\n      <td>0.0</td>\n      <td>0 km</td>\n      <td>32.0</td>\n      <td>2012</td>\n      <td>1</td>\n      <td>22</td>\n    </tr>\n    <tr>\n      <th>74</th>\n      <td>74.0</td>\n      <td>85</td>\n      <td>1.0</td>\n      <td>1</td>\n      <td>28.0</td>\n      <td>5.0</td>\n      <td>11</td>\n      <td>-1.0</td>\n      <td>3/11/2012</td>\n      <td>40.862 km/h</td>\n      <td>0.0</td>\n      <td>0 km</td>\n      <td>9.0</td>\n      <td>2012</td>\n      <td>3</td>\n      <td>11</td>\n    </tr>\n    <tr>\n      <th>90</th>\n      <td>90.0</td>\n      <td>90</td>\n      <td>1.0</td>\n      <td>1</td>\n      <td>28.0</td>\n      <td>5.0</td>\n      <td>5</td>\n      <td>-1.0</td>\n      <td>6/10/2012</td>\n      <td>39.419 km/h</td>\n      <td>0.0</td>\n      <td>0 km</td>\n      <td>9.0</td>\n      <td>2012</td>\n      <td>6</td>\n      <td>10</td>\n    </tr>\n    <tr>\n      <th>103</th>\n      <td>103.0</td>\n      <td>44</td>\n      <td>1.0</td>\n      <td>1</td>\n      <td>28.0</td>\n      <td>5.0</td>\n      <td>17</td>\n      <td>-1.0</td>\n      <td>8/12/2012</td>\n      <td>41.869 km/h</td>\n      <td>0.0</td>\n      <td>0 km</td>\n      <td>29.0</td>\n      <td>2012</td>\n      <td>8</td>\n      <td>12</td>\n    </tr>\n    <tr>\n      <th>124</th>\n      <td>124.0</td>\n      <td>132</td>\n      <td>1.0</td>\n      <td>1</td>\n      <td>28.0</td>\n      <td>20.0</td>\n      <td>8</td>\n      <td>-1.0</td>\n      <td>9/9/2012</td>\n      <td>38.711 km/h</td>\n      <td>0.0</td>\n      <td>0 km</td>\n      <td>17.0</td>\n      <td>2012</td>\n      <td>9</td>\n      <td>9</td>\n    </tr>\n    <tr>\n      <th>133</th>\n      <td>133.0</td>\n      <td>104</td>\n      <td>1.0</td>\n      <td>1</td>\n      <td>29.0</td>\n      <td>5.0</td>\n      <td>11</td>\n      <td>-1.0</td>\n      <td>3/10/2013</td>\n      <td>40.604 km/h</td>\n      <td>0.0</td>\n      <td>0 km</td>\n      <td>14.0</td>\n      <td>2013</td>\n      <td>3</td>\n      <td>10</td>\n    </tr>\n    <tr>\n      <th>140</th>\n      <td>140.0</td>\n      <td>112</td>\n      <td>1.0</td>\n      <td>1</td>\n      <td>29.0</td>\n      <td>5.0</td>\n      <td>1</td>\n      <td>-1.0</td>\n      <td>3/24/2013</td>\n      <td>40.467 km/h</td>\n      <td>0.0</td>\n      <td>0 km</td>\n      <td>24.0</td>\n      <td>2013</td>\n      <td>3</td>\n      <td>24</td>\n    </tr>\n  </tbody>\n</table>\n</div>"
     },
     "metadata": {},
     "execution_count": 18
    }
   ],
   "source": [
    "#df = df[(df['Year'] == 2017)]\n",
    "df = df[(df['Stage'] == -1)]\n",
    "pd.to_datetime(df.Date)\n",
    "df['Year'] = 0\n",
    "df['Month'] = 0\n",
    "df['Day'] = 0\n",
    "\n",
    "df.Year = pd.DatetimeIndex(df.Date).year\n",
    "df.Month = pd.DatetimeIndex(df.Date).month\n",
    "df.Day = pd.DatetimeIndex(df.Date).day\n",
    "\n",
    "# create day, month, year cols\n",
    "df.head(10)"
   ]
  },
  {
   "cell_type": "code",
   "execution_count": 5,
   "metadata": {},
   "outputs": [],
   "source": [
    "##### RATE FUNCTION DON'T TOUCH!!!! ######\n",
    "Q = math.log(10) / 400\n",
    "def reduce_impact(rd):\n",
    "        \"\"\"The original form is `g(RD)`. This function reduces the impact of\n",
    "        games as a function of an opponent's RD.\n",
    "        \"\"\"\n",
    "        return (1 + (3 * (Q ** 2) * rd ** 2) / math.pi ** 2) ** -0.5\n",
    "\n",
    "def expect_score(elo, other_elo, other_impact):\n",
    "        return 1 / (1 + 10 ** (other_impact * (elo - other_elo) / -400.))\n",
    "\n",
    "def zerolistmaker(n):\n",
    "    listofzeros = [0] * n\n",
    "    return listofzeros\n",
    "def onelistmaker(n):\n",
    "    listofones = [1] * n\n",
    "    return listofones\n",
    "# elos = list(combined['old_elo'])\n",
    "# rds = list(combined['old_rd'])\n",
    "def rate(old_elos, old_rds): # assuming sorted by rank\n",
    "        d_square_inv = 0\n",
    "        difference = 0\n",
    "        new_elos = []\n",
    "        new_rds = []\n",
    "\n",
    "        for i in range(len(old_elos)): # do this for every rider, i denotes rider that's being ranked\n",
    "            if i < len(old_elos):\n",
    "                d_square_inv = 0\n",
    "                difference = 0\n",
    "                denom = 0\n",
    "\n",
    "\n",
    "                better = old_elos[:i]\n",
    "                worse = old_elos[i+1:]\n",
    "                other_elos = better + worse\n",
    "                # now create a list of e.g. 3x0, rest ones if score 4th place, j denotes every other rider\n",
    "                actual_score = zerolistmaker(len(better)) + onelistmaker(len(worse))\n",
    "                for j in range(len(other_elos)):\n",
    "                    impact = reduce_impact(other_elos[j])\n",
    "                    expected_score = expect_score(old_elos[i], other_elos[j], impact)\n",
    "                    difference += impact * (actual_score[j] - expected_score)\n",
    "                    d_square_inv += (expected_score * (1 - expected_score) * (Q ** 2) * (impact ** 2))\n",
    "\n",
    "                denom = 1/(old_rds[i] ** 2) + d_square_inv\n",
    "                mu = old_elos[i]  + Q / denom * difference\n",
    "                sigma1 = math.sqrt(1. / denom)\n",
    "                sigma = min(math.sqrt(sigma1 ** 2 + 63.2 ** 2), 350)\n",
    "\n",
    "                new_elos.append(mu)\n",
    "                new_rds.append(sigma)\n",
    "            else:\n",
    "                d_square_inv = 0\n",
    "                difference = 0\n",
    "                denom = 0\n",
    "\n",
    "                better = old_elos\n",
    "                worse = []\n",
    "                other_elos = better + worse\n",
    "                # now create a list of e.g. 3x0, rest ones if score 4th place, j denotes every other rider\n",
    "                actual_score = zerolistmaker(len(better)) + onelistmaker(len(worse))\n",
    "                for j in range(len(other_elos)):\n",
    "                    impact = reduce_impact(other_elos[j])\n",
    "                    expected_score = expect_score(old_elos[i], other_elos[j], impact)\n",
    "                    difference += impact * (actual_score[j] - expected_score)\n",
    "                    d_square_inv += (expected_score * (1 - expected_score) * (Q ** 2) * (impact ** 2))\n",
    "                denom = 1/(old_rds[i] ** 2) + d_square_inv\n",
    "                mu = old_elos[i]  + Q / denom * difference\n",
    "                sigma1 = math.sqrt(1. / denom)\n",
    "                sigma = min(math.sqrt(sigma1 ** 2 + 63.2 ** 2), 350)\n",
    "                new_elos.append(mu)\n",
    "                new_rds.append(sigma)\n",
    "\n",
    "\n",
    "        \n",
    "        return(new_elos, new_rds)"
   ]
  },
  {
   "cell_type": "code",
   "execution_count": 8,
   "metadata": {},
   "outputs": [
    {
     "output_type": "execute_result",
     "data": {
      "text/plain": [
       "Empty DataFrame\n",
       "Columns: [Unnamed: 0, Rnk, Rider, Team, Age, Pnt, Name, Stage, Date, Avg. speed winner, ProfileScore, Distance, RaceRanking, old_elo, new_elo, old_rd, new_rd]\n",
       "Index: []"
      ],
      "text/html": "<div>\n<style scoped>\n    .dataframe tbody tr th:only-of-type {\n        vertical-align: middle;\n    }\n\n    .dataframe tbody tr th {\n        vertical-align: top;\n    }\n\n    .dataframe thead th {\n        text-align: right;\n    }\n</style>\n<table border=\"1\" class=\"dataframe\">\n  <thead>\n    <tr style=\"text-align: right;\">\n      <th></th>\n      <th>Unnamed: 0</th>\n      <th>Rnk</th>\n      <th>Rider</th>\n      <th>Team</th>\n      <th>Age</th>\n      <th>Pnt</th>\n      <th>Name</th>\n      <th>Stage</th>\n      <th>Date</th>\n      <th>Avg. speed winner</th>\n      <th>ProfileScore</th>\n      <th>Distance</th>\n      <th>RaceRanking</th>\n      <th>old_elo</th>\n      <th>new_elo</th>\n      <th>old_rd</th>\n      <th>new_rd</th>\n    </tr>\n  </thead>\n  <tbody>\n  </tbody>\n</table>\n</div>"
     },
     "metadata": {},
     "execution_count": 8
    }
   ],
   "source": [
    "# ONE GC SORTED BASED ON RANK\n",
    "dat = df[(df['Stage'] == -1)].copy()\n",
    "dat = dat[(dat['Name'] == \"11.00\")].sort_values(\"Pnt\", ascending=False) # RNK 0 == DNS/DNS\n",
    "#dat = dat[(dat['Rnk'] != 0.0)]\n",
    "dat['old_elo'] = 1500\n",
    "dat['new_elo'] = 0\n",
    "dat['old_rd'] = 350\n",
    "dat['new_rd'] = 0\n",
    "\n",
    "Q = math.log(10) / 400\n",
    "#dat['g_rd'] = (1 + (3 * (Q ** 2) * dat['old_rd'] ** 2) / math.pi ** 2) ** -0.5\n",
    "dat.head(20)"
   ]
  },
  {
   "cell_type": "code",
   "execution_count": 5,
   "metadata": {},
   "outputs": [
    {
     "output_type": "execute_result",
     "data": {
      "text/plain": [
       "     Team  Unnamed: 0  Rnk   Rider   Age    Pnt   Name  Stage       Date  \\\n",
       "11   58.0       18043    1    80.0  29.0  250.0  11.00   -1.0  3/12/2017   \n",
       "1     7.0      204503    2  1270.0  34.0  190.0  11.00   -1.0  3/12/2017   \n",
       "3    19.0       10864    3    55.0  30.0  160.0  11.00   -1.0  3/12/2017   \n",
       "0     1.0       31378    4   140.0  29.0  140.0  11.00   -1.0  3/12/2017   \n",
       "25   19.0      101165    5   491.0  24.0  120.0  11.00   -1.0  3/12/2017   \n",
       "15   75.0       41516    6   190.0  27.0  110.0  11.00   -1.0  3/12/2017   \n",
       "18   95.0       26447    7   121.0  28.0  100.0  11.00   -1.0  3/12/2017   \n",
       "19  103.0      120903    8   582.0  25.0   90.0  11.00   -1.0  3/12/2017   \n",
       "5    28.0      113956    9   552.0  24.0   80.0  11.00   -1.0  3/12/2017   \n",
       "10   52.0      114485   10   554.0  28.0   70.0  11.00   -1.0  3/12/2017   \n",
       "20  105.0      122020   11   584.0  32.0   60.0  11.00   -1.0  3/12/2017   \n",
       "7    41.0       45975   12   210.0  31.0   55.0  11.00   -1.0  3/12/2017   \n",
       "41  103.0       39611   13   178.0  21.0   45.0  11.00   -1.0  3/12/2017   \n",
       "12   62.0      133605   14   641.0  28.0   40.0  11.00   -1.0  3/12/2017   \n",
       "17   84.0      105760   15   516.0  27.0   36.0  11.00   -1.0  3/12/2017   \n",
       "23    7.0      179594   16  1057.0  28.0   32.0  11.00   -1.0  3/12/2017   \n",
       "42  105.0      137776   17   665.0  32.0   28.0  11.00   -1.0  3/12/2017   \n",
       "14   74.0       75500   18   333.0  26.0   24.0  11.00   -1.0  3/12/2017   \n",
       "16   76.0      177392   19  1031.0  31.0   20.0  11.00   -1.0  3/12/2017   \n",
       "2    17.0      194640   20  1159.0  37.0   18.0  11.00   -1.0  3/12/2017   \n",
       "\n",
       "   Avg. speed winner  ProfileScore Distance  RaceRanking  Year  Month  Day  \\\n",
       "11                 -           0.0     0 km            4  2017      3   12   \n",
       "1                  -           0.0     0 km            4  2017      3   12   \n",
       "3                  -           0.0     0 km            4  2017      3   12   \n",
       "0                  -           0.0     0 km            4  2017      3   12   \n",
       "25                 -           0.0     0 km            4  2017      3   12   \n",
       "15                 -           0.0     0 km            4  2017      3   12   \n",
       "18                 -           0.0     0 km            4  2017      3   12   \n",
       "19                 -           0.0     0 km            4  2017      3   12   \n",
       "5                  -           0.0     0 km            4  2017      3   12   \n",
       "10                 -           0.0     0 km            4  2017      3   12   \n",
       "20                 -           0.0     0 km            4  2017      3   12   \n",
       "7                  -           0.0     0 km            4  2017      3   12   \n",
       "41                 -           0.0     0 km            4  2017      3   12   \n",
       "12                 -           0.0     0 km            4  2017      3   12   \n",
       "17                 -           0.0     0 km            4  2017      3   12   \n",
       "23                 -           0.0     0 km            4  2017      3   12   \n",
       "42                 -           0.0     0 km            4  2017      3   12   \n",
       "14                 -           0.0     0 km            4  2017      3   12   \n",
       "16                 -           0.0     0 km            4  2017      3   12   \n",
       "2                  -           0.0     0 km            4  2017      3   12   \n",
       "\n",
       "    old_elo  new_elo  old_rd  new_rd  \n",
       "11     1500        0     350       0  \n",
       "1      1500        0     350       0  \n",
       "3      1500        0     350       0  \n",
       "0      1500        0     350       0  \n",
       "25     1500        0     350       0  \n",
       "15     1500        0     350       0  \n",
       "18     1500        0     350       0  \n",
       "19     1500        0     350       0  \n",
       "5      1500        0     350       0  \n",
       "10     1500        0     350       0  \n",
       "20     1500        0     350       0  \n",
       "7      1500        0     350       0  \n",
       "41     1500        0     350       0  \n",
       "12     1500        0     350       0  \n",
       "17     1500        0     350       0  \n",
       "23     1500        0     350       0  \n",
       "42     1500        0     350       0  \n",
       "14     1500        0     350       0  \n",
       "16     1500        0     350       0  \n",
       "2      1500        0     350       0  "
      ],
      "text/html": "<div>\n<style scoped>\n    .dataframe tbody tr th:only-of-type {\n        vertical-align: middle;\n    }\n\n    .dataframe tbody tr th {\n        vertical-align: top;\n    }\n\n    .dataframe thead th {\n        text-align: right;\n    }\n</style>\n<table border=\"1\" class=\"dataframe\">\n  <thead>\n    <tr style=\"text-align: right;\">\n      <th></th>\n      <th>Team</th>\n      <th>Unnamed: 0</th>\n      <th>Rnk</th>\n      <th>Rider</th>\n      <th>Age</th>\n      <th>Pnt</th>\n      <th>Name</th>\n      <th>Stage</th>\n      <th>Date</th>\n      <th>Avg. speed winner</th>\n      <th>ProfileScore</th>\n      <th>Distance</th>\n      <th>RaceRanking</th>\n      <th>Year</th>\n      <th>Month</th>\n      <th>Day</th>\n      <th>old_elo</th>\n      <th>new_elo</th>\n      <th>old_rd</th>\n      <th>new_rd</th>\n    </tr>\n  </thead>\n  <tbody>\n    <tr>\n      <th>11</th>\n      <td>58.0</td>\n      <td>18043</td>\n      <td>1</td>\n      <td>80.0</td>\n      <td>29.0</td>\n      <td>250.0</td>\n      <td>11.00</td>\n      <td>-1.0</td>\n      <td>3/12/2017</td>\n      <td>-</td>\n      <td>0.0</td>\n      <td>0 km</td>\n      <td>4</td>\n      <td>2017</td>\n      <td>3</td>\n      <td>12</td>\n      <td>1500</td>\n      <td>0</td>\n      <td>350</td>\n      <td>0</td>\n    </tr>\n    <tr>\n      <th>1</th>\n      <td>7.0</td>\n      <td>204503</td>\n      <td>2</td>\n      <td>1270.0</td>\n      <td>34.0</td>\n      <td>190.0</td>\n      <td>11.00</td>\n      <td>-1.0</td>\n      <td>3/12/2017</td>\n      <td>-</td>\n      <td>0.0</td>\n      <td>0 km</td>\n      <td>4</td>\n      <td>2017</td>\n      <td>3</td>\n      <td>12</td>\n      <td>1500</td>\n      <td>0</td>\n      <td>350</td>\n      <td>0</td>\n    </tr>\n    <tr>\n      <th>3</th>\n      <td>19.0</td>\n      <td>10864</td>\n      <td>3</td>\n      <td>55.0</td>\n      <td>30.0</td>\n      <td>160.0</td>\n      <td>11.00</td>\n      <td>-1.0</td>\n      <td>3/12/2017</td>\n      <td>-</td>\n      <td>0.0</td>\n      <td>0 km</td>\n      <td>4</td>\n      <td>2017</td>\n      <td>3</td>\n      <td>12</td>\n      <td>1500</td>\n      <td>0</td>\n      <td>350</td>\n      <td>0</td>\n    </tr>\n    <tr>\n      <th>0</th>\n      <td>1.0</td>\n      <td>31378</td>\n      <td>4</td>\n      <td>140.0</td>\n      <td>29.0</td>\n      <td>140.0</td>\n      <td>11.00</td>\n      <td>-1.0</td>\n      <td>3/12/2017</td>\n      <td>-</td>\n      <td>0.0</td>\n      <td>0 km</td>\n      <td>4</td>\n      <td>2017</td>\n      <td>3</td>\n      <td>12</td>\n      <td>1500</td>\n      <td>0</td>\n      <td>350</td>\n      <td>0</td>\n    </tr>\n    <tr>\n      <th>25</th>\n      <td>19.0</td>\n      <td>101165</td>\n      <td>5</td>\n      <td>491.0</td>\n      <td>24.0</td>\n      <td>120.0</td>\n      <td>11.00</td>\n      <td>-1.0</td>\n      <td>3/12/2017</td>\n      <td>-</td>\n      <td>0.0</td>\n      <td>0 km</td>\n      <td>4</td>\n      <td>2017</td>\n      <td>3</td>\n      <td>12</td>\n      <td>1500</td>\n      <td>0</td>\n      <td>350</td>\n      <td>0</td>\n    </tr>\n    <tr>\n      <th>15</th>\n      <td>75.0</td>\n      <td>41516</td>\n      <td>6</td>\n      <td>190.0</td>\n      <td>27.0</td>\n      <td>110.0</td>\n      <td>11.00</td>\n      <td>-1.0</td>\n      <td>3/12/2017</td>\n      <td>-</td>\n      <td>0.0</td>\n      <td>0 km</td>\n      <td>4</td>\n      <td>2017</td>\n      <td>3</td>\n      <td>12</td>\n      <td>1500</td>\n      <td>0</td>\n      <td>350</td>\n      <td>0</td>\n    </tr>\n    <tr>\n      <th>18</th>\n      <td>95.0</td>\n      <td>26447</td>\n      <td>7</td>\n      <td>121.0</td>\n      <td>28.0</td>\n      <td>100.0</td>\n      <td>11.00</td>\n      <td>-1.0</td>\n      <td>3/12/2017</td>\n      <td>-</td>\n      <td>0.0</td>\n      <td>0 km</td>\n      <td>4</td>\n      <td>2017</td>\n      <td>3</td>\n      <td>12</td>\n      <td>1500</td>\n      <td>0</td>\n      <td>350</td>\n      <td>0</td>\n    </tr>\n    <tr>\n      <th>19</th>\n      <td>103.0</td>\n      <td>120903</td>\n      <td>8</td>\n      <td>582.0</td>\n      <td>25.0</td>\n      <td>90.0</td>\n      <td>11.00</td>\n      <td>-1.0</td>\n      <td>3/12/2017</td>\n      <td>-</td>\n      <td>0.0</td>\n      <td>0 km</td>\n      <td>4</td>\n      <td>2017</td>\n      <td>3</td>\n      <td>12</td>\n      <td>1500</td>\n      <td>0</td>\n      <td>350</td>\n      <td>0</td>\n    </tr>\n    <tr>\n      <th>5</th>\n      <td>28.0</td>\n      <td>113956</td>\n      <td>9</td>\n      <td>552.0</td>\n      <td>24.0</td>\n      <td>80.0</td>\n      <td>11.00</td>\n      <td>-1.0</td>\n      <td>3/12/2017</td>\n      <td>-</td>\n      <td>0.0</td>\n      <td>0 km</td>\n      <td>4</td>\n      <td>2017</td>\n      <td>3</td>\n      <td>12</td>\n      <td>1500</td>\n      <td>0</td>\n      <td>350</td>\n      <td>0</td>\n    </tr>\n    <tr>\n      <th>10</th>\n      <td>52.0</td>\n      <td>114485</td>\n      <td>10</td>\n      <td>554.0</td>\n      <td>28.0</td>\n      <td>70.0</td>\n      <td>11.00</td>\n      <td>-1.0</td>\n      <td>3/12/2017</td>\n      <td>-</td>\n      <td>0.0</td>\n      <td>0 km</td>\n      <td>4</td>\n      <td>2017</td>\n      <td>3</td>\n      <td>12</td>\n      <td>1500</td>\n      <td>0</td>\n      <td>350</td>\n      <td>0</td>\n    </tr>\n    <tr>\n      <th>20</th>\n      <td>105.0</td>\n      <td>122020</td>\n      <td>11</td>\n      <td>584.0</td>\n      <td>32.0</td>\n      <td>60.0</td>\n      <td>11.00</td>\n      <td>-1.0</td>\n      <td>3/12/2017</td>\n      <td>-</td>\n      <td>0.0</td>\n      <td>0 km</td>\n      <td>4</td>\n      <td>2017</td>\n      <td>3</td>\n      <td>12</td>\n      <td>1500</td>\n      <td>0</td>\n      <td>350</td>\n      <td>0</td>\n    </tr>\n    <tr>\n      <th>7</th>\n      <td>41.0</td>\n      <td>45975</td>\n      <td>12</td>\n      <td>210.0</td>\n      <td>31.0</td>\n      <td>55.0</td>\n      <td>11.00</td>\n      <td>-1.0</td>\n      <td>3/12/2017</td>\n      <td>-</td>\n      <td>0.0</td>\n      <td>0 km</td>\n      <td>4</td>\n      <td>2017</td>\n      <td>3</td>\n      <td>12</td>\n      <td>1500</td>\n      <td>0</td>\n      <td>350</td>\n      <td>0</td>\n    </tr>\n    <tr>\n      <th>41</th>\n      <td>103.0</td>\n      <td>39611</td>\n      <td>13</td>\n      <td>178.0</td>\n      <td>21.0</td>\n      <td>45.0</td>\n      <td>11.00</td>\n      <td>-1.0</td>\n      <td>3/12/2017</td>\n      <td>-</td>\n      <td>0.0</td>\n      <td>0 km</td>\n      <td>4</td>\n      <td>2017</td>\n      <td>3</td>\n      <td>12</td>\n      <td>1500</td>\n      <td>0</td>\n      <td>350</td>\n      <td>0</td>\n    </tr>\n    <tr>\n      <th>12</th>\n      <td>62.0</td>\n      <td>133605</td>\n      <td>14</td>\n      <td>641.0</td>\n      <td>28.0</td>\n      <td>40.0</td>\n      <td>11.00</td>\n      <td>-1.0</td>\n      <td>3/12/2017</td>\n      <td>-</td>\n      <td>0.0</td>\n      <td>0 km</td>\n      <td>4</td>\n      <td>2017</td>\n      <td>3</td>\n      <td>12</td>\n      <td>1500</td>\n      <td>0</td>\n      <td>350</td>\n      <td>0</td>\n    </tr>\n    <tr>\n      <th>17</th>\n      <td>84.0</td>\n      <td>105760</td>\n      <td>15</td>\n      <td>516.0</td>\n      <td>27.0</td>\n      <td>36.0</td>\n      <td>11.00</td>\n      <td>-1.0</td>\n      <td>3/12/2017</td>\n      <td>-</td>\n      <td>0.0</td>\n      <td>0 km</td>\n      <td>4</td>\n      <td>2017</td>\n      <td>3</td>\n      <td>12</td>\n      <td>1500</td>\n      <td>0</td>\n      <td>350</td>\n      <td>0</td>\n    </tr>\n    <tr>\n      <th>23</th>\n      <td>7.0</td>\n      <td>179594</td>\n      <td>16</td>\n      <td>1057.0</td>\n      <td>28.0</td>\n      <td>32.0</td>\n      <td>11.00</td>\n      <td>-1.0</td>\n      <td>3/12/2017</td>\n      <td>-</td>\n      <td>0.0</td>\n      <td>0 km</td>\n      <td>4</td>\n      <td>2017</td>\n      <td>3</td>\n      <td>12</td>\n      <td>1500</td>\n      <td>0</td>\n      <td>350</td>\n      <td>0</td>\n    </tr>\n    <tr>\n      <th>42</th>\n      <td>105.0</td>\n      <td>137776</td>\n      <td>17</td>\n      <td>665.0</td>\n      <td>32.0</td>\n      <td>28.0</td>\n      <td>11.00</td>\n      <td>-1.0</td>\n      <td>3/12/2017</td>\n      <td>-</td>\n      <td>0.0</td>\n      <td>0 km</td>\n      <td>4</td>\n      <td>2017</td>\n      <td>3</td>\n      <td>12</td>\n      <td>1500</td>\n      <td>0</td>\n      <td>350</td>\n      <td>0</td>\n    </tr>\n    <tr>\n      <th>14</th>\n      <td>74.0</td>\n      <td>75500</td>\n      <td>18</td>\n      <td>333.0</td>\n      <td>26.0</td>\n      <td>24.0</td>\n      <td>11.00</td>\n      <td>-1.0</td>\n      <td>3/12/2017</td>\n      <td>-</td>\n      <td>0.0</td>\n      <td>0 km</td>\n      <td>4</td>\n      <td>2017</td>\n      <td>3</td>\n      <td>12</td>\n      <td>1500</td>\n      <td>0</td>\n      <td>350</td>\n      <td>0</td>\n    </tr>\n    <tr>\n      <th>16</th>\n      <td>76.0</td>\n      <td>177392</td>\n      <td>19</td>\n      <td>1031.0</td>\n      <td>31.0</td>\n      <td>20.0</td>\n      <td>11.00</td>\n      <td>-1.0</td>\n      <td>3/12/2017</td>\n      <td>-</td>\n      <td>0.0</td>\n      <td>0 km</td>\n      <td>4</td>\n      <td>2017</td>\n      <td>3</td>\n      <td>12</td>\n      <td>1500</td>\n      <td>0</td>\n      <td>350</td>\n      <td>0</td>\n    </tr>\n    <tr>\n      <th>2</th>\n      <td>17.0</td>\n      <td>194640</td>\n      <td>20</td>\n      <td>1159.0</td>\n      <td>37.0</td>\n      <td>18.0</td>\n      <td>11.00</td>\n      <td>-1.0</td>\n      <td>3/12/2017</td>\n      <td>-</td>\n      <td>0.0</td>\n      <td>0 km</td>\n      <td>4</td>\n      <td>2017</td>\n      <td>3</td>\n      <td>12</td>\n      <td>1500</td>\n      <td>0</td>\n      <td>350</td>\n      <td>0</td>\n    </tr>\n  </tbody>\n</table>\n</div>"
     },
     "metadata": {},
     "execution_count": 5
    }
   ],
   "source": [
    "# FILTER 2 BEST RANKED RIDERS\n",
    "first = dat.groupby('Team').nth(0)\n",
    "second = dat.groupby('Team').nth(1)\n",
    "\n",
    "combined = first.append(second)\n",
    "combined = combined.reset_index().sort_values('Pnt', ascending=False)\n",
    "rada = np.arange(1, (len(combined.Rnk)+1))\n",
    "combined.Rnk = rada\n",
    "combined.head(20)"
   ]
  },
  {
   "cell_type": "code",
   "execution_count": 6,
   "metadata": {
    "tags": []
   },
   "outputs": [],
   "source": [
    "result = rate(list(combined.old_elo), list(combined.old_rd))\n",
    "combined.new_elo = result[0]\n",
    "combined.new_rd = result[1]"
   ]
  },
  {
   "cell_type": "code",
   "execution_count": 7,
   "metadata": {},
   "outputs": [
    {
     "output_type": "execute_result",
     "data": {
      "text/plain": [
       "     Team  Unnamed: 0  Rnk   Rider   Age    Pnt   Name  Stage       Date  \\\n",
       "11   58.0       18043    1    80.0  29.0  250.0  11.00   -1.0  3/12/2017   \n",
       "1     7.0      204503    2  1270.0  34.0  190.0  11.00   -1.0  3/12/2017   \n",
       "3    19.0       10864    3    55.0  30.0  160.0  11.00   -1.0  3/12/2017   \n",
       "0     1.0       31378    4   140.0  29.0  140.0  11.00   -1.0  3/12/2017   \n",
       "25   19.0      101165    5   491.0  24.0  120.0  11.00   -1.0  3/12/2017   \n",
       "15   75.0       41516    6   190.0  27.0  110.0  11.00   -1.0  3/12/2017   \n",
       "18   95.0       26447    7   121.0  28.0  100.0  11.00   -1.0  3/12/2017   \n",
       "19  103.0      120903    8   582.0  25.0   90.0  11.00   -1.0  3/12/2017   \n",
       "5    28.0      113956    9   552.0  24.0   80.0  11.00   -1.0  3/12/2017   \n",
       "10   52.0      114485   10   554.0  28.0   70.0  11.00   -1.0  3/12/2017   \n",
       "\n",
       "   Avg. speed winner  ProfileScore Distance  RaceRanking  Year  Month  Day  \\\n",
       "11                 -           0.0     0 km            4  2017      3   12   \n",
       "1                  -           0.0     0 km            4  2017      3   12   \n",
       "3                  -           0.0     0 km            4  2017      3   12   \n",
       "0                  -           0.0     0 km            4  2017      3   12   \n",
       "25                 -           0.0     0 km            4  2017      3   12   \n",
       "15                 -           0.0     0 km            4  2017      3   12   \n",
       "18                 -           0.0     0 km            4  2017      3   12   \n",
       "19                 -           0.0     0 km            4  2017      3   12   \n",
       "5                  -           0.0     0 km            4  2017      3   12   \n",
       "10                 -           0.0     0 km            4  2017      3   12   \n",
       "\n",
       "    old_elo      new_elo  old_rd      new_rd  \n",
       "11     1500  2595.844959     350  216.946151  \n",
       "1      1500  2544.875426     350  216.946151  \n",
       "3      1500  2493.905893     350  216.946151  \n",
       "0      1500  2442.936360     350  216.946151  \n",
       "25     1500  2391.966827     350  216.946151  \n",
       "15     1500  2340.997294     350  216.946151  \n",
       "18     1500  2290.027761     350  216.946151  \n",
       "19     1500  2239.058228     350  216.946151  \n",
       "5      1500  2188.088695     350  216.946151  \n",
       "10     1500  2137.119162     350  216.946151  "
      ],
      "text/html": "<div>\n<style scoped>\n    .dataframe tbody tr th:only-of-type {\n        vertical-align: middle;\n    }\n\n    .dataframe tbody tr th {\n        vertical-align: top;\n    }\n\n    .dataframe thead th {\n        text-align: right;\n    }\n</style>\n<table border=\"1\" class=\"dataframe\">\n  <thead>\n    <tr style=\"text-align: right;\">\n      <th></th>\n      <th>Team</th>\n      <th>Unnamed: 0</th>\n      <th>Rnk</th>\n      <th>Rider</th>\n      <th>Age</th>\n      <th>Pnt</th>\n      <th>Name</th>\n      <th>Stage</th>\n      <th>Date</th>\n      <th>Avg. speed winner</th>\n      <th>ProfileScore</th>\n      <th>Distance</th>\n      <th>RaceRanking</th>\n      <th>Year</th>\n      <th>Month</th>\n      <th>Day</th>\n      <th>old_elo</th>\n      <th>new_elo</th>\n      <th>old_rd</th>\n      <th>new_rd</th>\n    </tr>\n  </thead>\n  <tbody>\n    <tr>\n      <th>11</th>\n      <td>58.0</td>\n      <td>18043</td>\n      <td>1</td>\n      <td>80.0</td>\n      <td>29.0</td>\n      <td>250.0</td>\n      <td>11.00</td>\n      <td>-1.0</td>\n      <td>3/12/2017</td>\n      <td>-</td>\n      <td>0.0</td>\n      <td>0 km</td>\n      <td>4</td>\n      <td>2017</td>\n      <td>3</td>\n      <td>12</td>\n      <td>1500</td>\n      <td>2595.844959</td>\n      <td>350</td>\n      <td>216.946151</td>\n    </tr>\n    <tr>\n      <th>1</th>\n      <td>7.0</td>\n      <td>204503</td>\n      <td>2</td>\n      <td>1270.0</td>\n      <td>34.0</td>\n      <td>190.0</td>\n      <td>11.00</td>\n      <td>-1.0</td>\n      <td>3/12/2017</td>\n      <td>-</td>\n      <td>0.0</td>\n      <td>0 km</td>\n      <td>4</td>\n      <td>2017</td>\n      <td>3</td>\n      <td>12</td>\n      <td>1500</td>\n      <td>2544.875426</td>\n      <td>350</td>\n      <td>216.946151</td>\n    </tr>\n    <tr>\n      <th>3</th>\n      <td>19.0</td>\n      <td>10864</td>\n      <td>3</td>\n      <td>55.0</td>\n      <td>30.0</td>\n      <td>160.0</td>\n      <td>11.00</td>\n      <td>-1.0</td>\n      <td>3/12/2017</td>\n      <td>-</td>\n      <td>0.0</td>\n      <td>0 km</td>\n      <td>4</td>\n      <td>2017</td>\n      <td>3</td>\n      <td>12</td>\n      <td>1500</td>\n      <td>2493.905893</td>\n      <td>350</td>\n      <td>216.946151</td>\n    </tr>\n    <tr>\n      <th>0</th>\n      <td>1.0</td>\n      <td>31378</td>\n      <td>4</td>\n      <td>140.0</td>\n      <td>29.0</td>\n      <td>140.0</td>\n      <td>11.00</td>\n      <td>-1.0</td>\n      <td>3/12/2017</td>\n      <td>-</td>\n      <td>0.0</td>\n      <td>0 km</td>\n      <td>4</td>\n      <td>2017</td>\n      <td>3</td>\n      <td>12</td>\n      <td>1500</td>\n      <td>2442.936360</td>\n      <td>350</td>\n      <td>216.946151</td>\n    </tr>\n    <tr>\n      <th>25</th>\n      <td>19.0</td>\n      <td>101165</td>\n      <td>5</td>\n      <td>491.0</td>\n      <td>24.0</td>\n      <td>120.0</td>\n      <td>11.00</td>\n      <td>-1.0</td>\n      <td>3/12/2017</td>\n      <td>-</td>\n      <td>0.0</td>\n      <td>0 km</td>\n      <td>4</td>\n      <td>2017</td>\n      <td>3</td>\n      <td>12</td>\n      <td>1500</td>\n      <td>2391.966827</td>\n      <td>350</td>\n      <td>216.946151</td>\n    </tr>\n    <tr>\n      <th>15</th>\n      <td>75.0</td>\n      <td>41516</td>\n      <td>6</td>\n      <td>190.0</td>\n      <td>27.0</td>\n      <td>110.0</td>\n      <td>11.00</td>\n      <td>-1.0</td>\n      <td>3/12/2017</td>\n      <td>-</td>\n      <td>0.0</td>\n      <td>0 km</td>\n      <td>4</td>\n      <td>2017</td>\n      <td>3</td>\n      <td>12</td>\n      <td>1500</td>\n      <td>2340.997294</td>\n      <td>350</td>\n      <td>216.946151</td>\n    </tr>\n    <tr>\n      <th>18</th>\n      <td>95.0</td>\n      <td>26447</td>\n      <td>7</td>\n      <td>121.0</td>\n      <td>28.0</td>\n      <td>100.0</td>\n      <td>11.00</td>\n      <td>-1.0</td>\n      <td>3/12/2017</td>\n      <td>-</td>\n      <td>0.0</td>\n      <td>0 km</td>\n      <td>4</td>\n      <td>2017</td>\n      <td>3</td>\n      <td>12</td>\n      <td>1500</td>\n      <td>2290.027761</td>\n      <td>350</td>\n      <td>216.946151</td>\n    </tr>\n    <tr>\n      <th>19</th>\n      <td>103.0</td>\n      <td>120903</td>\n      <td>8</td>\n      <td>582.0</td>\n      <td>25.0</td>\n      <td>90.0</td>\n      <td>11.00</td>\n      <td>-1.0</td>\n      <td>3/12/2017</td>\n      <td>-</td>\n      <td>0.0</td>\n      <td>0 km</td>\n      <td>4</td>\n      <td>2017</td>\n      <td>3</td>\n      <td>12</td>\n      <td>1500</td>\n      <td>2239.058228</td>\n      <td>350</td>\n      <td>216.946151</td>\n    </tr>\n    <tr>\n      <th>5</th>\n      <td>28.0</td>\n      <td>113956</td>\n      <td>9</td>\n      <td>552.0</td>\n      <td>24.0</td>\n      <td>80.0</td>\n      <td>11.00</td>\n      <td>-1.0</td>\n      <td>3/12/2017</td>\n      <td>-</td>\n      <td>0.0</td>\n      <td>0 km</td>\n      <td>4</td>\n      <td>2017</td>\n      <td>3</td>\n      <td>12</td>\n      <td>1500</td>\n      <td>2188.088695</td>\n      <td>350</td>\n      <td>216.946151</td>\n    </tr>\n    <tr>\n      <th>10</th>\n      <td>52.0</td>\n      <td>114485</td>\n      <td>10</td>\n      <td>554.0</td>\n      <td>28.0</td>\n      <td>70.0</td>\n      <td>11.00</td>\n      <td>-1.0</td>\n      <td>3/12/2017</td>\n      <td>-</td>\n      <td>0.0</td>\n      <td>0 km</td>\n      <td>4</td>\n      <td>2017</td>\n      <td>3</td>\n      <td>12</td>\n      <td>1500</td>\n      <td>2137.119162</td>\n      <td>350</td>\n      <td>216.946151</td>\n    </tr>\n  </tbody>\n</table>\n</div>"
     },
     "metadata": {},
     "execution_count": 7
    }
   ],
   "source": [
    "combined.head(10)"
   ]
  },
  {
   "cell_type": "code",
   "execution_count": 8,
   "metadata": {},
   "outputs": [
    {
     "output_type": "execute_result",
     "data": {
      "text/plain": [
       "       Unnamed: 0    Rnk   Rider   Team   Age    Pnt   Name  Stage       Date  \\\n",
       "2082        18043    8.0    80.0   58.0  29.0  250.0  11.00   -1.0 2017-03-12   \n",
       "29568      204503    1.0  1270.0    7.0  34.0  190.0  11.00   -1.0 2017-03-12   \n",
       "1274        10864    3.0    55.0   19.0  30.0  160.0  11.00   -1.0 2017-03-12   \n",
       "3946        31378   49.0   140.0    1.0  29.0  140.0  11.00   -1.0 2017-03-12   \n",
       "13967      101165   41.0   491.0   19.0  24.0  120.0  11.00   -1.0 2017-03-12   \n",
       "5293        41516    5.0   190.0   75.0  27.0  110.0  11.00   -1.0 2017-03-12   \n",
       "3213        26447   42.0   121.0   95.0  28.0  100.0  11.00   -1.0 2017-03-12   \n",
       "16859      120903   47.0   582.0  103.0  25.0   90.0  11.00   -1.0 2017-03-12   \n",
       "15937      113956   32.0   552.0   28.0  24.0   80.0  11.00   -1.0 2017-03-12   \n",
       "16013      114485  178.0   554.0   52.0  28.0   70.0  11.00   -1.0 2017-03-12   \n",
       "\n",
       "      Avg. speed winner  ProfileScore Distance  RaceRanking  Year  Month  Day  \\\n",
       "2082                  -           0.0     0 km            4  2017      3   12   \n",
       "29568                 -           0.0     0 km            4  2017      3   12   \n",
       "1274                  -           0.0     0 km            4  2017      3   12   \n",
       "3946                  -           0.0     0 km            4  2017      3   12   \n",
       "13967                 -           0.0     0 km            4  2017      3   12   \n",
       "5293                  -           0.0     0 km            4  2017      3   12   \n",
       "3213                  -           0.0     0 km            4  2017      3   12   \n",
       "16859                 -           0.0     0 km            4  2017      3   12   \n",
       "15937                 -           0.0     0 km            4  2017      3   12   \n",
       "16013                 -           0.0     0 km            4  2017      3   12   \n",
       "\n",
       "       old_elo  new_elo  old_rd  new_rd  \n",
       "2082      1500        0     350       0  \n",
       "29568     1500        0     350       0  \n",
       "1274      1500        0     350       0  \n",
       "3946      1500        0     350       0  \n",
       "13967     1500        0     350       0  \n",
       "5293      1500        0     350       0  \n",
       "3213      1500        0     350       0  \n",
       "16859     1500        0     350       0  \n",
       "15937     1500        0     350       0  \n",
       "16013     1500        0     350       0  "
      ],
      "text/html": "<div>\n<style scoped>\n    .dataframe tbody tr th:only-of-type {\n        vertical-align: middle;\n    }\n\n    .dataframe tbody tr th {\n        vertical-align: top;\n    }\n\n    .dataframe thead th {\n        text-align: right;\n    }\n</style>\n<table border=\"1\" class=\"dataframe\">\n  <thead>\n    <tr style=\"text-align: right;\">\n      <th></th>\n      <th>Unnamed: 0</th>\n      <th>Rnk</th>\n      <th>Rider</th>\n      <th>Team</th>\n      <th>Age</th>\n      <th>Pnt</th>\n      <th>Name</th>\n      <th>Stage</th>\n      <th>Date</th>\n      <th>Avg. speed winner</th>\n      <th>ProfileScore</th>\n      <th>Distance</th>\n      <th>RaceRanking</th>\n      <th>Year</th>\n      <th>Month</th>\n      <th>Day</th>\n      <th>old_elo</th>\n      <th>new_elo</th>\n      <th>old_rd</th>\n      <th>new_rd</th>\n    </tr>\n  </thead>\n  <tbody>\n    <tr>\n      <th>2082</th>\n      <td>18043</td>\n      <td>8.0</td>\n      <td>80.0</td>\n      <td>58.0</td>\n      <td>29.0</td>\n      <td>250.0</td>\n      <td>11.00</td>\n      <td>-1.0</td>\n      <td>2017-03-12</td>\n      <td>-</td>\n      <td>0.0</td>\n      <td>0 km</td>\n      <td>4</td>\n      <td>2017</td>\n      <td>3</td>\n      <td>12</td>\n      <td>1500</td>\n      <td>0</td>\n      <td>350</td>\n      <td>0</td>\n    </tr>\n    <tr>\n      <th>29568</th>\n      <td>204503</td>\n      <td>1.0</td>\n      <td>1270.0</td>\n      <td>7.0</td>\n      <td>34.0</td>\n      <td>190.0</td>\n      <td>11.00</td>\n      <td>-1.0</td>\n      <td>2017-03-12</td>\n      <td>-</td>\n      <td>0.0</td>\n      <td>0 km</td>\n      <td>4</td>\n      <td>2017</td>\n      <td>3</td>\n      <td>12</td>\n      <td>1500</td>\n      <td>0</td>\n      <td>350</td>\n      <td>0</td>\n    </tr>\n    <tr>\n      <th>1274</th>\n      <td>10864</td>\n      <td>3.0</td>\n      <td>55.0</td>\n      <td>19.0</td>\n      <td>30.0</td>\n      <td>160.0</td>\n      <td>11.00</td>\n      <td>-1.0</td>\n      <td>2017-03-12</td>\n      <td>-</td>\n      <td>0.0</td>\n      <td>0 km</td>\n      <td>4</td>\n      <td>2017</td>\n      <td>3</td>\n      <td>12</td>\n      <td>1500</td>\n      <td>0</td>\n      <td>350</td>\n      <td>0</td>\n    </tr>\n    <tr>\n      <th>3946</th>\n      <td>31378</td>\n      <td>49.0</td>\n      <td>140.0</td>\n      <td>1.0</td>\n      <td>29.0</td>\n      <td>140.0</td>\n      <td>11.00</td>\n      <td>-1.0</td>\n      <td>2017-03-12</td>\n      <td>-</td>\n      <td>0.0</td>\n      <td>0 km</td>\n      <td>4</td>\n      <td>2017</td>\n      <td>3</td>\n      <td>12</td>\n      <td>1500</td>\n      <td>0</td>\n      <td>350</td>\n      <td>0</td>\n    </tr>\n    <tr>\n      <th>13967</th>\n      <td>101165</td>\n      <td>41.0</td>\n      <td>491.0</td>\n      <td>19.0</td>\n      <td>24.0</td>\n      <td>120.0</td>\n      <td>11.00</td>\n      <td>-1.0</td>\n      <td>2017-03-12</td>\n      <td>-</td>\n      <td>0.0</td>\n      <td>0 km</td>\n      <td>4</td>\n      <td>2017</td>\n      <td>3</td>\n      <td>12</td>\n      <td>1500</td>\n      <td>0</td>\n      <td>350</td>\n      <td>0</td>\n    </tr>\n    <tr>\n      <th>5293</th>\n      <td>41516</td>\n      <td>5.0</td>\n      <td>190.0</td>\n      <td>75.0</td>\n      <td>27.0</td>\n      <td>110.0</td>\n      <td>11.00</td>\n      <td>-1.0</td>\n      <td>2017-03-12</td>\n      <td>-</td>\n      <td>0.0</td>\n      <td>0 km</td>\n      <td>4</td>\n      <td>2017</td>\n      <td>3</td>\n      <td>12</td>\n      <td>1500</td>\n      <td>0</td>\n      <td>350</td>\n      <td>0</td>\n    </tr>\n    <tr>\n      <th>3213</th>\n      <td>26447</td>\n      <td>42.0</td>\n      <td>121.0</td>\n      <td>95.0</td>\n      <td>28.0</td>\n      <td>100.0</td>\n      <td>11.00</td>\n      <td>-1.0</td>\n      <td>2017-03-12</td>\n      <td>-</td>\n      <td>0.0</td>\n      <td>0 km</td>\n      <td>4</td>\n      <td>2017</td>\n      <td>3</td>\n      <td>12</td>\n      <td>1500</td>\n      <td>0</td>\n      <td>350</td>\n      <td>0</td>\n    </tr>\n    <tr>\n      <th>16859</th>\n      <td>120903</td>\n      <td>47.0</td>\n      <td>582.0</td>\n      <td>103.0</td>\n      <td>25.0</td>\n      <td>90.0</td>\n      <td>11.00</td>\n      <td>-1.0</td>\n      <td>2017-03-12</td>\n      <td>-</td>\n      <td>0.0</td>\n      <td>0 km</td>\n      <td>4</td>\n      <td>2017</td>\n      <td>3</td>\n      <td>12</td>\n      <td>1500</td>\n      <td>0</td>\n      <td>350</td>\n      <td>0</td>\n    </tr>\n    <tr>\n      <th>15937</th>\n      <td>113956</td>\n      <td>32.0</td>\n      <td>552.0</td>\n      <td>28.0</td>\n      <td>24.0</td>\n      <td>80.0</td>\n      <td>11.00</td>\n      <td>-1.0</td>\n      <td>2017-03-12</td>\n      <td>-</td>\n      <td>0.0</td>\n      <td>0 km</td>\n      <td>4</td>\n      <td>2017</td>\n      <td>3</td>\n      <td>12</td>\n      <td>1500</td>\n      <td>0</td>\n      <td>350</td>\n      <td>0</td>\n    </tr>\n    <tr>\n      <th>16013</th>\n      <td>114485</td>\n      <td>178.0</td>\n      <td>554.0</td>\n      <td>52.0</td>\n      <td>28.0</td>\n      <td>70.0</td>\n      <td>11.00</td>\n      <td>-1.0</td>\n      <td>2017-03-12</td>\n      <td>-</td>\n      <td>0.0</td>\n      <td>0 km</td>\n      <td>4</td>\n      <td>2017</td>\n      <td>3</td>\n      <td>12</td>\n      <td>1500</td>\n      <td>0</td>\n      <td>350</td>\n      <td>0</td>\n    </tr>\n  </tbody>\n</table>\n</div>"
     },
     "metadata": {},
     "execution_count": 8
    }
   ],
   "source": [
    "dat['Date'] =  pd.to_datetime(dat['Date'])\n",
    "dat[(dat['Stage'] == -1) & (dat['Name'] == \"11.00\") & (dat['Date'] >= pd.Timestamp(2017,3,10))].head(10)"
   ]
  },
  {
   "cell_type": "code",
   "execution_count": 9,
   "metadata": {},
   "outputs": [
    {
     "output_type": "execute_result",
     "data": {
      "text/plain": [
       "2017"
      ]
     },
     "metadata": {},
     "execution_count": 9
    }
   ],
   "source": [
    "combined.Year[0]"
   ]
  },
  {
   "cell_type": "code",
   "execution_count": 19,
   "metadata": {
    "tags": []
   },
   "outputs": [],
   "source": [
    "# CREATING THE LOOP\n",
    "# 1. TAKE ONLY STAGE == -1\n",
    "# 2. sort by date\n",
    "# 3. rotate over all names - for name in table.name.unique() - make sure it's taking it in the correct order\n",
    "# 4. take subset (1 race), compute new elo\n",
    "# 5. update elos in the central table\n",
    "for year in df.Year.unique():\n",
    "    year11 = year\n",
    "\n",
    "    df2 = df[(df['Stage'] == -1) & (df['Year'] == year11)] # df is already only 2017 for now\n",
    "    df2 = df2.sort_values('Date', ascending = True)\n",
    "    df2['old_elo'] = 1500\n",
    "    df2['new_elo'] = 0\n",
    "    df2['old_rd'] = 350\n",
    "    df2['new_rd'] = 0\n",
    "    date1 = []\n",
    "    date = list(df2.Date)\n",
    "    for i in range(len(df2.Date)):\n",
    "        date1.append(pd.Timestamp(date[i]))\n",
    "    df2['Date1'] = 0\n",
    "    df2['Date1'] = date1\n",
    "\n",
    "    # CREATE A LOOP EVALUATING EVERY RACE\n",
    "    for j in range(len(df2.Name.unique())):\n",
    "        race_name = list(df2.sort_values('Date',  ascending = True).Name.unique())[j]\n",
    "        race_data = df2[(df2['Name'] == race_name)].sort_values('Pnt', ascending=False)\n",
    "        # take only two best riders!!!!\n",
    "        # FILTER 2 BEST RANKED RIDERS\n",
    "        first = race_data.groupby('Team').nth(0)\n",
    "        second = race_data.groupby('Team').nth(1)\n",
    "\n",
    "        combined = first.append(second)\n",
    "        combined = combined.reset_index().sort_values('Pnt', ascending=False)\n",
    "        rada = np.arange(1, (len(combined.Rnk)+1))\n",
    "        combined.Rnk = rada\n",
    "        race_data = combined\n",
    "        result = rate(list(race_data.old_elo), list(race_data.old_rd)) # compute new elos\n",
    "\n",
    "    # create a empty df with all the cols we want\n",
    "        #empty = pd.DataFrame(columns = df2.columns)\n",
    "\n",
    "    # UPDATING OF VALUES, do after every race, has to be intended\n",
    "        for i in range(len(race_data.Rider)): \n",
    "            rider = list(race_data.Rider)[i]\n",
    "            elo = result[0][i]\n",
    "            rd = result[1][i]\n",
    "            date = pd.Timestamp(list(race_data.Year)[0], list(race_data.Month)[0], list(race_data.Day)[0])\n",
    "\n",
    "            df2.loc[(df2['Rider'] == rider) & (df2['Date1'] > date), 'old_elo'] = elo\n",
    "            df2.loc[(df2['Rider'] == rider) & (df2['Date1'] > date), 'old_rd'] = rd\n",
    "            df2.loc[(df2['Rider'] == rider) & (df2['Date1'] == date), 'new_elo'] = elo\n",
    "            df2.loc[(df2['Rider'] == rider) & (df2['Date1'] == date), 'new_rd'] = rd\n",
    "        \n",
    "        df2.loc[(df2['new_elo'] == 0), 'new_elo'] = df2.loc[(df2['new_elo'] == 0), 'old_elo']\n",
    "        df2.loc[(df2['new_rd'] == 0), 'new_rd'] = df2.loc[(df2['new_rd'] == 0), 'old_rd']\n",
    "\n",
    "\n",
    "        #   subset1 = df2[(df2['Rider'] == rider) & (df2['Date1'] > date)] # slice of df2 for every rider after this race\n",
    "        #  subset1.loc[:,'old_elo']  = elo\n",
    "        # subset1.loc[:,'old_rd']  = rd\n",
    "\n",
    "            #subset2 = df2[(df2['Rider'] == rider) & (df2['Date1'] == date)] # slice of df2 for every rider after this race\n",
    "            #subset2.loc[:,'new_elo']  = elo\n",
    "            #subset2.loc[:,'new_rd']  = rd\n",
    "\n",
    "            #subset3 = df2[(df2['Rider'] == rider) & (df2['Date1'] < date)]\n",
    "            # and merge them all together afterwards (append), then use this df for next race\n",
    "            #empty = empty.append(subset1)\n",
    "            #empty = empty.append(subset2)\n",
    "            #empty = empty.append(subset3)\n",
    "\n",
    "            # HERE APPEND sets_merged TO EMPTY\n",
    "\n",
    "        #df2 = empty\n",
    "    df2.to_csv('results'+str(year11)+'_final.csv')"
   ]
  },
  {
   "cell_type": "code",
   "execution_count": 54,
   "metadata": {},
   "outputs": [
    {
     "output_type": "execute_result",
     "data": {
      "text/plain": [
       "      Unnamed: 0    Rnk  Rider  Team   Age    Pnt   Name  Stage        Date  \\\n",
       "5884       46024   45.0  210.0  41.0  32.0    3.0  63.00   -1.0  10/24/2017   \n",
       "5862       46002   18.0  210.0  41.0  32.0  250.0   5.00   -1.0   6/11/2017   \n",
       "5849       45989  107.0  210.0  41.0  32.0    5.0  66.00   -1.0    4/8/2017   \n",
       "5843       45983   80.0  210.0  41.0  32.0   40.0   1.00   -1.0   3/26/2017   \n",
       "5835       45975   26.0  210.0  41.0  31.0   55.0  11.00   -1.0   3/12/2017   \n",
       "\n",
       "     Avg. speed winner  ...  Distance RaceRanking  Year  Month  Day  \\\n",
       "5884                 -  ...      0 km          46  2017     10   24   \n",
       "5862                 -  ...      0 km           6  2017      6   11   \n",
       "5849                 -  ...      0 km          24  2017      4    8   \n",
       "5843                 -  ...      0 km          18  2017      3   26   \n",
       "5835                 -  ...      0 km           4  2017      3   12   \n",
       "\n",
       "          old_elo      new_elo      old_rd      new_rd      Date1  \n",
       "5884  2562.523344  1500.000000  168.506369  350.000000 2017-10-24  \n",
       "5862  2203.144692  2562.523344  180.912632  168.506369 2017-06-11  \n",
       "5849  2203.144692  1500.000000  180.912632  350.000000 2017-04-08  \n",
       "5843  2070.491320  2203.144692  220.096791  180.912632 2017-03-26  \n",
       "5835  1500.000000  2070.491320  350.000000  220.096791 2017-03-12  \n",
       "\n",
       "[5 rows x 21 columns]"
      ],
      "text/html": "<div>\n<style scoped>\n    .dataframe tbody tr th:only-of-type {\n        vertical-align: middle;\n    }\n\n    .dataframe tbody tr th {\n        vertical-align: top;\n    }\n\n    .dataframe thead th {\n        text-align: right;\n    }\n</style>\n<table border=\"1\" class=\"dataframe\">\n  <thead>\n    <tr style=\"text-align: right;\">\n      <th></th>\n      <th>Unnamed: 0</th>\n      <th>Rnk</th>\n      <th>Rider</th>\n      <th>Team</th>\n      <th>Age</th>\n      <th>Pnt</th>\n      <th>Name</th>\n      <th>Stage</th>\n      <th>Date</th>\n      <th>Avg. speed winner</th>\n      <th>...</th>\n      <th>Distance</th>\n      <th>RaceRanking</th>\n      <th>Year</th>\n      <th>Month</th>\n      <th>Day</th>\n      <th>old_elo</th>\n      <th>new_elo</th>\n      <th>old_rd</th>\n      <th>new_rd</th>\n      <th>Date1</th>\n    </tr>\n  </thead>\n  <tbody>\n    <tr>\n      <th>5884</th>\n      <td>46024</td>\n      <td>45.0</td>\n      <td>210.0</td>\n      <td>41.0</td>\n      <td>32.0</td>\n      <td>3.0</td>\n      <td>63.00</td>\n      <td>-1.0</td>\n      <td>10/24/2017</td>\n      <td>-</td>\n      <td>...</td>\n      <td>0 km</td>\n      <td>46</td>\n      <td>2017</td>\n      <td>10</td>\n      <td>24</td>\n      <td>2562.523344</td>\n      <td>1500.000000</td>\n      <td>168.506369</td>\n      <td>350.000000</td>\n      <td>2017-10-24</td>\n    </tr>\n    <tr>\n      <th>5862</th>\n      <td>46002</td>\n      <td>18.0</td>\n      <td>210.0</td>\n      <td>41.0</td>\n      <td>32.0</td>\n      <td>250.0</td>\n      <td>5.00</td>\n      <td>-1.0</td>\n      <td>6/11/2017</td>\n      <td>-</td>\n      <td>...</td>\n      <td>0 km</td>\n      <td>6</td>\n      <td>2017</td>\n      <td>6</td>\n      <td>11</td>\n      <td>2203.144692</td>\n      <td>2562.523344</td>\n      <td>180.912632</td>\n      <td>168.506369</td>\n      <td>2017-06-11</td>\n    </tr>\n    <tr>\n      <th>5849</th>\n      <td>45989</td>\n      <td>107.0</td>\n      <td>210.0</td>\n      <td>41.0</td>\n      <td>32.0</td>\n      <td>5.0</td>\n      <td>66.00</td>\n      <td>-1.0</td>\n      <td>4/8/2017</td>\n      <td>-</td>\n      <td>...</td>\n      <td>0 km</td>\n      <td>24</td>\n      <td>2017</td>\n      <td>4</td>\n      <td>8</td>\n      <td>2203.144692</td>\n      <td>1500.000000</td>\n      <td>180.912632</td>\n      <td>350.000000</td>\n      <td>2017-04-08</td>\n    </tr>\n    <tr>\n      <th>5843</th>\n      <td>45983</td>\n      <td>80.0</td>\n      <td>210.0</td>\n      <td>41.0</td>\n      <td>32.0</td>\n      <td>40.0</td>\n      <td>1.00</td>\n      <td>-1.0</td>\n      <td>3/26/2017</td>\n      <td>-</td>\n      <td>...</td>\n      <td>0 km</td>\n      <td>18</td>\n      <td>2017</td>\n      <td>3</td>\n      <td>26</td>\n      <td>2070.491320</td>\n      <td>2203.144692</td>\n      <td>220.096791</td>\n      <td>180.912632</td>\n      <td>2017-03-26</td>\n    </tr>\n    <tr>\n      <th>5835</th>\n      <td>45975</td>\n      <td>26.0</td>\n      <td>210.0</td>\n      <td>41.0</td>\n      <td>31.0</td>\n      <td>55.0</td>\n      <td>11.00</td>\n      <td>-1.0</td>\n      <td>3/12/2017</td>\n      <td>-</td>\n      <td>...</td>\n      <td>0 km</td>\n      <td>4</td>\n      <td>2017</td>\n      <td>3</td>\n      <td>12</td>\n      <td>1500.000000</td>\n      <td>2070.491320</td>\n      <td>350.000000</td>\n      <td>220.096791</td>\n      <td>2017-03-12</td>\n    </tr>\n  </tbody>\n</table>\n<p>5 rows × 21 columns</p>\n</div>"
     },
     "metadata": {},
     "execution_count": 54
    }
   ],
   "source": [
    "df2[(df2['Rider'] == 210)].sort_values('Date1', ascending=False)"
   ]
  },
  {
   "cell_type": "code",
   "execution_count": 12,
   "metadata": {},
   "outputs": [],
   "source": [
    "date1 = []\n",
    "date = list(df2.Date)\n",
    "for i in range(len(df2.Date)):\n",
    "    date1.append(pd.Timestamp(date[i]))\n",
    "df2['Date1'] = 0\n",
    "df2['Date1'] = date1"
   ]
  },
  {
   "cell_type": "code",
   "execution_count": 36,
   "metadata": {},
   "outputs": [
    {
     "output_type": "stream",
     "name": "stderr",
     "text": [
      "C:\\Users\\Tom\\AppData\\Local\\Programs\\Python\\Python39\\lib\\site-packages\\pandas\\core\\generic.py:5494: SettingWithCopyWarning: \nA value is trying to be set on a copy of a slice from a DataFrame.\nTry using .loc[row_indexer,col_indexer] = value instead\n\nSee the caveats in the documentation: https://pandas.pydata.org/pandas-docs/stable/user_guide/indexing.html#returning-a-view-versus-a-copy\n  self[name] = value\n"
     ]
    },
    {
     "output_type": "execute_result",
     "data": {
      "text/plain": [
       "       Unnamed: 0    Rnk  Rider   Team   Age   Pnt   Name  Stage       Date  \\\n",
       "3247        26848  121.0  122.0   41.0  24.0   5.0  10.00   -1.0  1/22/2017   \n",
       "18313      132090  122.0  633.0   75.0  28.0   5.0  10.00   -1.0  1/22/2017   \n",
       "18110      130864  101.0  625.0   69.0  25.0   5.0  10.00   -1.0  1/22/2017   \n",
       "17344      124844   51.0  594.0  105.0  29.0   5.0  10.00   -1.0  1/22/2017   \n",
       "3572        28713  124.0  129.0    1.0  23.0   5.0  10.00   -1.0  1/22/2017   \n",
       "...           ...    ...    ...    ...   ...   ...    ...    ...        ...   \n",
       "15610      111589   98.0  539.0   41.0  25.0  20.0   8.00   -1.0  9/10/2017   \n",
       "16004      114023   13.0  552.0   28.0  25.0  20.0   8.00   -1.0  9/10/2017   \n",
       "1710        14486  144.0   66.0   75.0  32.0  20.0   8.00   -1.0  9/10/2017   \n",
       "9674        73435  122.0  326.0   58.0  36.0  20.0   8.00   -1.0  9/10/2017   \n",
       "13876      100215  188.0  485.0  103.0  23.0  20.0   8.00   -1.0  9/10/2017   \n",
       "\n",
       "      Avg. speed winner  ...  Distance RaceRanking  Year  Month  Day  \\\n",
       "3247                  -  ...      0 km          34  2017      1   22   \n",
       "18313                 -  ...      0 km          34  2017      1   22   \n",
       "18110                 -  ...      0 km          34  2017      1   22   \n",
       "17344                 -  ...      0 km          34  2017      1   22   \n",
       "3572                  -  ...      0 km          34  2017      1   22   \n",
       "...                 ...  ...       ...         ...   ...    ...  ...   \n",
       "15610                 -  ...      0 km          16  2017      9   10   \n",
       "16004                 -  ...      0 km          16  2017      9   10   \n",
       "1710                  -  ...      0 km          16  2017      9   10   \n",
       "9674                  -  ...      0 km          16  2017      9   10   \n",
       "13876                 -  ...      0 km          16  2017      9   10   \n",
       "\n",
       "           old_elo      new_elo      old_rd  new_rd      Date1  \n",
       "3247   1500.000000  1500.000000  350.000000     0.0 2017-01-22  \n",
       "18313  1500.000000  1500.000000  350.000000     0.0 2017-01-22  \n",
       "18110  1500.000000  1500.000000  350.000000     0.0 2017-01-22  \n",
       "17344  1500.000000  1500.000000  350.000000     0.0 2017-01-22  \n",
       "3572   1500.000000  1500.000000  350.000000     0.0 2017-01-22  \n",
       "...            ...          ...         ...     ...        ...  \n",
       "15610  1500.000000  1500.000000  350.000000     0.0 2017-09-10  \n",
       "16004  2363.823366  2363.823366  164.731304     0.0 2017-09-10  \n",
       "1710    634.717779   634.717779  233.029349     0.0 2017-09-10  \n",
       "9674   1500.000000  1500.000000  350.000000     0.0 2017-09-10  \n",
       "13876  1519.164464  1519.164464  209.604322     0.0 2017-09-10  \n",
       "\n",
       "[1526 rows x 21 columns]"
      ],
      "text/html": "<div>\n<style scoped>\n    .dataframe tbody tr th:only-of-type {\n        vertical-align: middle;\n    }\n\n    .dataframe tbody tr th {\n        vertical-align: top;\n    }\n\n    .dataframe thead th {\n        text-align: right;\n    }\n</style>\n<table border=\"1\" class=\"dataframe\">\n  <thead>\n    <tr style=\"text-align: right;\">\n      <th></th>\n      <th>Unnamed: 0</th>\n      <th>Rnk</th>\n      <th>Rider</th>\n      <th>Team</th>\n      <th>Age</th>\n      <th>Pnt</th>\n      <th>Name</th>\n      <th>Stage</th>\n      <th>Date</th>\n      <th>Avg. speed winner</th>\n      <th>...</th>\n      <th>Distance</th>\n      <th>RaceRanking</th>\n      <th>Year</th>\n      <th>Month</th>\n      <th>Day</th>\n      <th>old_elo</th>\n      <th>new_elo</th>\n      <th>old_rd</th>\n      <th>new_rd</th>\n      <th>Date1</th>\n    </tr>\n  </thead>\n  <tbody>\n    <tr>\n      <th>3247</th>\n      <td>26848</td>\n      <td>121.0</td>\n      <td>122.0</td>\n      <td>41.0</td>\n      <td>24.0</td>\n      <td>5.0</td>\n      <td>10.00</td>\n      <td>-1.0</td>\n      <td>1/22/2017</td>\n      <td>-</td>\n      <td>...</td>\n      <td>0 km</td>\n      <td>34</td>\n      <td>2017</td>\n      <td>1</td>\n      <td>22</td>\n      <td>1500.000000</td>\n      <td>1500.000000</td>\n      <td>350.000000</td>\n      <td>0.0</td>\n      <td>2017-01-22</td>\n    </tr>\n    <tr>\n      <th>18313</th>\n      <td>132090</td>\n      <td>122.0</td>\n      <td>633.0</td>\n      <td>75.0</td>\n      <td>28.0</td>\n      <td>5.0</td>\n      <td>10.00</td>\n      <td>-1.0</td>\n      <td>1/22/2017</td>\n      <td>-</td>\n      <td>...</td>\n      <td>0 km</td>\n      <td>34</td>\n      <td>2017</td>\n      <td>1</td>\n      <td>22</td>\n      <td>1500.000000</td>\n      <td>1500.000000</td>\n      <td>350.000000</td>\n      <td>0.0</td>\n      <td>2017-01-22</td>\n    </tr>\n    <tr>\n      <th>18110</th>\n      <td>130864</td>\n      <td>101.0</td>\n      <td>625.0</td>\n      <td>69.0</td>\n      <td>25.0</td>\n      <td>5.0</td>\n      <td>10.00</td>\n      <td>-1.0</td>\n      <td>1/22/2017</td>\n      <td>-</td>\n      <td>...</td>\n      <td>0 km</td>\n      <td>34</td>\n      <td>2017</td>\n      <td>1</td>\n      <td>22</td>\n      <td>1500.000000</td>\n      <td>1500.000000</td>\n      <td>350.000000</td>\n      <td>0.0</td>\n      <td>2017-01-22</td>\n    </tr>\n    <tr>\n      <th>17344</th>\n      <td>124844</td>\n      <td>51.0</td>\n      <td>594.0</td>\n      <td>105.0</td>\n      <td>29.0</td>\n      <td>5.0</td>\n      <td>10.00</td>\n      <td>-1.0</td>\n      <td>1/22/2017</td>\n      <td>-</td>\n      <td>...</td>\n      <td>0 km</td>\n      <td>34</td>\n      <td>2017</td>\n      <td>1</td>\n      <td>22</td>\n      <td>1500.000000</td>\n      <td>1500.000000</td>\n      <td>350.000000</td>\n      <td>0.0</td>\n      <td>2017-01-22</td>\n    </tr>\n    <tr>\n      <th>3572</th>\n      <td>28713</td>\n      <td>124.0</td>\n      <td>129.0</td>\n      <td>1.0</td>\n      <td>23.0</td>\n      <td>5.0</td>\n      <td>10.00</td>\n      <td>-1.0</td>\n      <td>1/22/2017</td>\n      <td>-</td>\n      <td>...</td>\n      <td>0 km</td>\n      <td>34</td>\n      <td>2017</td>\n      <td>1</td>\n      <td>22</td>\n      <td>1500.000000</td>\n      <td>1500.000000</td>\n      <td>350.000000</td>\n      <td>0.0</td>\n      <td>2017-01-22</td>\n    </tr>\n    <tr>\n      <th>...</th>\n      <td>...</td>\n      <td>...</td>\n      <td>...</td>\n      <td>...</td>\n      <td>...</td>\n      <td>...</td>\n      <td>...</td>\n      <td>...</td>\n      <td>...</td>\n      <td>...</td>\n      <td>...</td>\n      <td>...</td>\n      <td>...</td>\n      <td>...</td>\n      <td>...</td>\n      <td>...</td>\n      <td>...</td>\n      <td>...</td>\n      <td>...</td>\n      <td>...</td>\n      <td>...</td>\n    </tr>\n    <tr>\n      <th>15610</th>\n      <td>111589</td>\n      <td>98.0</td>\n      <td>539.0</td>\n      <td>41.0</td>\n      <td>25.0</td>\n      <td>20.0</td>\n      <td>8.00</td>\n      <td>-1.0</td>\n      <td>9/10/2017</td>\n      <td>-</td>\n      <td>...</td>\n      <td>0 km</td>\n      <td>16</td>\n      <td>2017</td>\n      <td>9</td>\n      <td>10</td>\n      <td>1500.000000</td>\n      <td>1500.000000</td>\n      <td>350.000000</td>\n      <td>0.0</td>\n      <td>2017-09-10</td>\n    </tr>\n    <tr>\n      <th>16004</th>\n      <td>114023</td>\n      <td>13.0</td>\n      <td>552.0</td>\n      <td>28.0</td>\n      <td>25.0</td>\n      <td>20.0</td>\n      <td>8.00</td>\n      <td>-1.0</td>\n      <td>9/10/2017</td>\n      <td>-</td>\n      <td>...</td>\n      <td>0 km</td>\n      <td>16</td>\n      <td>2017</td>\n      <td>9</td>\n      <td>10</td>\n      <td>2363.823366</td>\n      <td>2363.823366</td>\n      <td>164.731304</td>\n      <td>0.0</td>\n      <td>2017-09-10</td>\n    </tr>\n    <tr>\n      <th>1710</th>\n      <td>14486</td>\n      <td>144.0</td>\n      <td>66.0</td>\n      <td>75.0</td>\n      <td>32.0</td>\n      <td>20.0</td>\n      <td>8.00</td>\n      <td>-1.0</td>\n      <td>9/10/2017</td>\n      <td>-</td>\n      <td>...</td>\n      <td>0 km</td>\n      <td>16</td>\n      <td>2017</td>\n      <td>9</td>\n      <td>10</td>\n      <td>634.717779</td>\n      <td>634.717779</td>\n      <td>233.029349</td>\n      <td>0.0</td>\n      <td>2017-09-10</td>\n    </tr>\n    <tr>\n      <th>9674</th>\n      <td>73435</td>\n      <td>122.0</td>\n      <td>326.0</td>\n      <td>58.0</td>\n      <td>36.0</td>\n      <td>20.0</td>\n      <td>8.00</td>\n      <td>-1.0</td>\n      <td>9/10/2017</td>\n      <td>-</td>\n      <td>...</td>\n      <td>0 km</td>\n      <td>16</td>\n      <td>2017</td>\n      <td>9</td>\n      <td>10</td>\n      <td>1500.000000</td>\n      <td>1500.000000</td>\n      <td>350.000000</td>\n      <td>0.0</td>\n      <td>2017-09-10</td>\n    </tr>\n    <tr>\n      <th>13876</th>\n      <td>100215</td>\n      <td>188.0</td>\n      <td>485.0</td>\n      <td>103.0</td>\n      <td>23.0</td>\n      <td>20.0</td>\n      <td>8.00</td>\n      <td>-1.0</td>\n      <td>9/10/2017</td>\n      <td>-</td>\n      <td>...</td>\n      <td>0 km</td>\n      <td>16</td>\n      <td>2017</td>\n      <td>9</td>\n      <td>10</td>\n      <td>1519.164464</td>\n      <td>1519.164464</td>\n      <td>209.604322</td>\n      <td>0.0</td>\n      <td>2017-09-10</td>\n    </tr>\n  </tbody>\n</table>\n<p>1526 rows × 21 columns</p>\n</div>"
     },
     "metadata": {},
     "execution_count": 36
    }
   ],
   "source": [
    "test = df2.loc[(df2['new_elo'] == 0)]\n",
    "test.new_elo = test.old_elo\n",
    "test"
   ]
  },
  {
   "cell_type": "code",
   "execution_count": 50,
   "metadata": {},
   "outputs": [
    {
     "output_type": "execute_result",
     "data": {
      "text/plain": [
       "range(0, 17)"
      ]
     },
     "metadata": {},
     "execution_count": 50
    }
   ],
   "source": [
    "range(len(df2.Name.unique()))"
   ]
  },
  {
   "cell_type": "code",
   "execution_count": 30,
   "metadata": {},
   "outputs": [
    {
     "output_type": "execute_result",
     "data": {
      "text/plain": [
       "     Team  Unnamed: 0  Rnk   Rider   Age    Pnt  Name  Stage       Date  \\\n",
       "12   58.0        6815   13    38.0  32.0  400.0  8.00   -1.0  9/10/2017   \n",
       "17   95.0       42695   18   198.0  32.0  290.0  8.00   -1.0  9/10/2017   \n",
       "15   75.0       41578   16   190.0  27.0  240.0  8.00   -1.0  9/10/2017   \n",
       "18  103.0       46982   19   213.0  26.0  220.0  8.00   -1.0  9/10/2017   \n",
       "1     7.0      204569    2  1270.0  34.0  200.0  8.00   -1.0  9/10/2017   \n",
       "34   58.0       11656   35    57.0  29.0  190.0  8.00   -1.0  9/10/2017   \n",
       "13   69.0       28005   14   127.0  30.0  180.0  8.00   -1.0  9/10/2017   \n",
       "8    41.0      129864    9   619.0  23.0  170.0  8.00   -1.0  9/10/2017   \n",
       "10   46.0      109330   11   528.0  30.0  160.0  8.00   -1.0  9/10/2017   \n",
       "19  105.0       18723   20    82.0  29.0  150.0  8.00   -1.0  9/10/2017   \n",
       "5    28.0       16969    6    77.0  27.0  140.0  8.00   -1.0  9/10/2017   \n",
       "20  114.0       39182   21   174.0  25.0  130.0  8.00   -1.0  9/10/2017   \n",
       "30   41.0      142290   31   695.0  27.0  120.0  8.00   -1.0  9/10/2017   \n",
       "41  105.0      137842   42   665.0  33.0  110.0  8.00   -1.0  9/10/2017   \n",
       "7    40.0      159511    8   851.0  33.0  100.0  8.00   -1.0  9/10/2017   \n",
       "14   74.0      104736   15   509.0  26.0   85.0  8.00   -1.0  9/10/2017   \n",
       "0     1.0      190663    1  1126.0  36.0   80.0  8.00   -1.0  9/10/2017   \n",
       "11   52.0       51971   12   235.0  31.0   75.0  8.00   -1.0  9/10/2017   \n",
       "42  114.0      158920   43   847.0  29.0   70.0  8.00   -1.0  9/10/2017   \n",
       "27   28.0      110234   28   531.0  24.0   65.0  8.00   -1.0  9/10/2017   \n",
       "22    1.0       29472   23   131.0  32.0   60.0  8.00   -1.0  9/10/2017   \n",
       "3    21.0       13648    4    63.0  33.0   50.0  8.00   -1.0  9/10/2017   \n",
       "39   95.0      187107   40  1115.0  39.0   45.0  8.00   -1.0  9/10/2017   \n",
       "32   46.0      110462   33   532.0  23.0   30.0  8.00   -1.0  9/10/2017   \n",
       "33   52.0        5284   34    32.0  22.0   20.0  8.00   -1.0  9/10/2017   \n",
       "2    19.0       89170    3   432.0  28.0   20.0  8.00   -1.0  9/10/2017   \n",
       "40  103.0       37938   41   170.0  22.0   20.0  8.00   -1.0  9/10/2017   \n",
       "38   84.0       31982   39   141.0  30.0   20.0  8.00   -1.0  9/10/2017   \n",
       "37   75.0       81086   38   371.0  26.0   20.0  8.00   -1.0  9/10/2017   \n",
       "36   74.0       81277   37   372.0  27.0   20.0  8.00   -1.0  9/10/2017   \n",
       "35   69.0       88982   36   431.0  27.0   20.0  8.00   -1.0  9/10/2017   \n",
       "4    25.0      178545    5  1044.0  22.0   20.0  8.00   -1.0  9/10/2017   \n",
       "21  139.0      195110   22  1164.0  26.0   20.0  8.00   -1.0  9/10/2017   \n",
       "16   84.0      111195   17   535.0  26.0   20.0  8.00   -1.0  9/10/2017   \n",
       "31   42.0       49003   32   222.0  25.0   20.0  8.00   -1.0  9/10/2017   \n",
       "6    32.0        7890    7    43.0  34.0   20.0  8.00   -1.0  9/10/2017   \n",
       "29   40.0      202263   30  1250.0  37.0   20.0  8.00   -1.0  9/10/2017   \n",
       "28   32.0      109538   29   529.0  29.0   20.0  8.00   -1.0  9/10/2017   \n",
       "9    42.0      190091   10  1124.0  34.0   20.0  8.00   -1.0  9/10/2017   \n",
       "26   25.0      178589   27  1045.0  24.0   20.0  8.00   -1.0  9/10/2017   \n",
       "25   21.0      199251   26  1213.0  30.0   20.0  8.00   -1.0  9/10/2017   \n",
       "24   19.0       90706   25   439.0  28.0   20.0  8.00   -1.0  9/10/2017   \n",
       "23    7.0       96397   24   465.0  26.0   20.0  8.00   -1.0  9/10/2017   \n",
       "43  139.0      195886   44  1169.0  26.0   20.0  8.00   -1.0  9/10/2017   \n",
       "\n",
       "   Avg. speed winner  ...  Distance RaceRanking  Year  Month  Day  \\\n",
       "12                 -  ...      0 km          16  2017      9   10   \n",
       "17                 -  ...      0 km          16  2017      9   10   \n",
       "15                 -  ...      0 km          16  2017      9   10   \n",
       "18                 -  ...      0 km          16  2017      9   10   \n",
       "1                  -  ...      0 km          16  2017      9   10   \n",
       "34                 -  ...      0 km          16  2017      9   10   \n",
       "13                 -  ...      0 km          16  2017      9   10   \n",
       "8                  -  ...      0 km          16  2017      9   10   \n",
       "10                 -  ...      0 km          16  2017      9   10   \n",
       "19                 -  ...      0 km          16  2017      9   10   \n",
       "5                  -  ...      0 km          16  2017      9   10   \n",
       "20                 -  ...      0 km          16  2017      9   10   \n",
       "30                 -  ...      0 km          16  2017      9   10   \n",
       "41                 -  ...      0 km          16  2017      9   10   \n",
       "7                  -  ...      0 km          16  2017      9   10   \n",
       "14                 -  ...      0 km          16  2017      9   10   \n",
       "0                  -  ...      0 km          16  2017      9   10   \n",
       "11                 -  ...      0 km          16  2017      9   10   \n",
       "42                 -  ...      0 km          16  2017      9   10   \n",
       "27                 -  ...      0 km          16  2017      9   10   \n",
       "22                 -  ...      0 km          16  2017      9   10   \n",
       "3                  -  ...      0 km          16  2017      9   10   \n",
       "39                 -  ...      0 km          16  2017      9   10   \n",
       "32                 -  ...      0 km          16  2017      9   10   \n",
       "33                 -  ...      0 km          16  2017      9   10   \n",
       "2                  -  ...      0 km          16  2017      9   10   \n",
       "40                 -  ...      0 km          16  2017      9   10   \n",
       "38                 -  ...      0 km          16  2017      9   10   \n",
       "37                 -  ...      0 km          16  2017      9   10   \n",
       "36                 -  ...      0 km          16  2017      9   10   \n",
       "35                 -  ...      0 km          16  2017      9   10   \n",
       "4                  -  ...      0 km          16  2017      9   10   \n",
       "21                 -  ...      0 km          16  2017      9   10   \n",
       "16                 -  ...      0 km          16  2017      9   10   \n",
       "31                 -  ...      0 km          16  2017      9   10   \n",
       "6                  -  ...      0 km          16  2017      9   10   \n",
       "29                 -  ...      0 km          16  2017      9   10   \n",
       "28                 -  ...      0 km          16  2017      9   10   \n",
       "9                  -  ...      0 km          16  2017      9   10   \n",
       "26                 -  ...      0 km          16  2017      9   10   \n",
       "25                 -  ...      0 km          16  2017      9   10   \n",
       "24                 -  ...      0 km          16  2017      9   10   \n",
       "23                 -  ...      0 km          16  2017      9   10   \n",
       "43                 -  ...      0 km          16  2017      9   10   \n",
       "\n",
       "        old_elo  new_elo      old_rd  new_rd      Date1  \n",
       "12  2451.992748      0.0  167.690232     0.0 2017-09-10  \n",
       "17  1502.758989      0.0  153.579058     0.0 2017-09-10  \n",
       "15  2192.924003      0.0  155.508829     0.0 2017-09-10  \n",
       "18  1717.698092      0.0  168.692398     0.0 2017-09-10  \n",
       "1   3115.943289      0.0  162.698041     0.0 2017-09-10  \n",
       "34  2067.609547      0.0  221.328279     0.0 2017-09-10  \n",
       "13  1132.984536      0.0  149.543516     0.0 2017-09-10  \n",
       "8   1500.000000      0.0  350.000000     0.0 2017-09-10  \n",
       "10  2314.189562      0.0  187.519109     0.0 2017-09-10  \n",
       "19  1289.880076      0.0  162.663583     0.0 2017-09-10  \n",
       "5   1540.647983      0.0  198.781582     0.0 2017-09-10  \n",
       "20  1409.498845      0.0  167.832800     0.0 2017-09-10  \n",
       "30  1934.153144      0.0  174.923452     0.0 2017-09-10  \n",
       "41   546.999473      0.0  164.861481     0.0 2017-09-10  \n",
       "7   1836.301285      0.0  189.660280     0.0 2017-09-10  \n",
       "14  1991.055948      0.0  152.847315     0.0 2017-09-10  \n",
       "0   1165.263238      0.0  222.870494     0.0 2017-09-10  \n",
       "11   986.074625      0.0  227.221093     0.0 2017-09-10  \n",
       "42  1617.565913      0.0  212.367114     0.0 2017-09-10  \n",
       "27  1215.478816      0.0  221.328279     0.0 2017-09-10  \n",
       "22  1375.205685      0.0  221.328279     0.0 2017-09-10  \n",
       "3   2308.419446      0.0  237.855912     0.0 2017-09-10  \n",
       "39   570.148031      0.0  221.927886     0.0 2017-09-10  \n",
       "32  2227.336416      0.0  221.328279     0.0 2017-09-10  \n",
       "33  2164.291264      0.0  231.199967     0.0 2017-09-10  \n",
       "2   1500.000000      0.0  350.000000     0.0 2017-09-10  \n",
       "40   575.345545      0.0  226.605617     0.0 2017-09-10  \n",
       "38   349.835977      0.0  160.981794     0.0 2017-09-10  \n",
       "37  1500.000000      0.0  350.000000     0.0 2017-09-10  \n",
       "36  1500.000000      0.0  350.000000     0.0 2017-09-10  \n",
       "35   291.525340      0.0  215.338739     0.0 2017-09-10  \n",
       "4   2466.399792      0.0  212.367114     0.0 2017-09-10  \n",
       "21  1112.284142      0.0  216.794912     0.0 2017-09-10  \n",
       "16  1500.000000      0.0  350.000000     0.0 2017-09-10  \n",
       "31  1625.533794      0.0  189.512805     0.0 2017-09-10  \n",
       "6   1500.000000      0.0  350.000000     0.0 2017-09-10  \n",
       "29  1500.000000      0.0  350.000000     0.0 2017-09-10  \n",
       "28   878.926884      0.0  222.870494     0.0 2017-09-10  \n",
       "9   1099.327919      0.0  227.221093     0.0 2017-09-10  \n",
       "26  1500.000000      0.0  350.000000     0.0 2017-09-10  \n",
       "25  1323.902054      0.0  212.367114     0.0 2017-09-10  \n",
       "24  1219.507480      0.0  223.460035     0.0 2017-09-10  \n",
       "23   799.329265      0.0  215.338739     0.0 2017-09-10  \n",
       "43  1500.000000      0.0  350.000000     0.0 2017-09-10  \n",
       "\n",
       "[44 rows x 21 columns]"
      ],
      "text/html": "<div>\n<style scoped>\n    .dataframe tbody tr th:only-of-type {\n        vertical-align: middle;\n    }\n\n    .dataframe tbody tr th {\n        vertical-align: top;\n    }\n\n    .dataframe thead th {\n        text-align: right;\n    }\n</style>\n<table border=\"1\" class=\"dataframe\">\n  <thead>\n    <tr style=\"text-align: right;\">\n      <th></th>\n      <th>Team</th>\n      <th>Unnamed: 0</th>\n      <th>Rnk</th>\n      <th>Rider</th>\n      <th>Age</th>\n      <th>Pnt</th>\n      <th>Name</th>\n      <th>Stage</th>\n      <th>Date</th>\n      <th>Avg. speed winner</th>\n      <th>...</th>\n      <th>Distance</th>\n      <th>RaceRanking</th>\n      <th>Year</th>\n      <th>Month</th>\n      <th>Day</th>\n      <th>old_elo</th>\n      <th>new_elo</th>\n      <th>old_rd</th>\n      <th>new_rd</th>\n      <th>Date1</th>\n    </tr>\n  </thead>\n  <tbody>\n    <tr>\n      <th>12</th>\n      <td>58.0</td>\n      <td>6815</td>\n      <td>13</td>\n      <td>38.0</td>\n      <td>32.0</td>\n      <td>400.0</td>\n      <td>8.00</td>\n      <td>-1.0</td>\n      <td>9/10/2017</td>\n      <td>-</td>\n      <td>...</td>\n      <td>0 km</td>\n      <td>16</td>\n      <td>2017</td>\n      <td>9</td>\n      <td>10</td>\n      <td>2451.992748</td>\n      <td>0.0</td>\n      <td>167.690232</td>\n      <td>0.0</td>\n      <td>2017-09-10</td>\n    </tr>\n    <tr>\n      <th>17</th>\n      <td>95.0</td>\n      <td>42695</td>\n      <td>18</td>\n      <td>198.0</td>\n      <td>32.0</td>\n      <td>290.0</td>\n      <td>8.00</td>\n      <td>-1.0</td>\n      <td>9/10/2017</td>\n      <td>-</td>\n      <td>...</td>\n      <td>0 km</td>\n      <td>16</td>\n      <td>2017</td>\n      <td>9</td>\n      <td>10</td>\n      <td>1502.758989</td>\n      <td>0.0</td>\n      <td>153.579058</td>\n      <td>0.0</td>\n      <td>2017-09-10</td>\n    </tr>\n    <tr>\n      <th>15</th>\n      <td>75.0</td>\n      <td>41578</td>\n      <td>16</td>\n      <td>190.0</td>\n      <td>27.0</td>\n      <td>240.0</td>\n      <td>8.00</td>\n      <td>-1.0</td>\n      <td>9/10/2017</td>\n      <td>-</td>\n      <td>...</td>\n      <td>0 km</td>\n      <td>16</td>\n      <td>2017</td>\n      <td>9</td>\n      <td>10</td>\n      <td>2192.924003</td>\n      <td>0.0</td>\n      <td>155.508829</td>\n      <td>0.0</td>\n      <td>2017-09-10</td>\n    </tr>\n    <tr>\n      <th>18</th>\n      <td>103.0</td>\n      <td>46982</td>\n      <td>19</td>\n      <td>213.0</td>\n      <td>26.0</td>\n      <td>220.0</td>\n      <td>8.00</td>\n      <td>-1.0</td>\n      <td>9/10/2017</td>\n      <td>-</td>\n      <td>...</td>\n      <td>0 km</td>\n      <td>16</td>\n      <td>2017</td>\n      <td>9</td>\n      <td>10</td>\n      <td>1717.698092</td>\n      <td>0.0</td>\n      <td>168.692398</td>\n      <td>0.0</td>\n      <td>2017-09-10</td>\n    </tr>\n    <tr>\n      <th>1</th>\n      <td>7.0</td>\n      <td>204569</td>\n      <td>2</td>\n      <td>1270.0</td>\n      <td>34.0</td>\n      <td>200.0</td>\n      <td>8.00</td>\n      <td>-1.0</td>\n      <td>9/10/2017</td>\n      <td>-</td>\n      <td>...</td>\n      <td>0 km</td>\n      <td>16</td>\n      <td>2017</td>\n      <td>9</td>\n      <td>10</td>\n      <td>3115.943289</td>\n      <td>0.0</td>\n      <td>162.698041</td>\n      <td>0.0</td>\n      <td>2017-09-10</td>\n    </tr>\n    <tr>\n      <th>34</th>\n      <td>58.0</td>\n      <td>11656</td>\n      <td>35</td>\n      <td>57.0</td>\n      <td>29.0</td>\n      <td>190.0</td>\n      <td>8.00</td>\n      <td>-1.0</td>\n      <td>9/10/2017</td>\n      <td>-</td>\n      <td>...</td>\n      <td>0 km</td>\n      <td>16</td>\n      <td>2017</td>\n      <td>9</td>\n      <td>10</td>\n      <td>2067.609547</td>\n      <td>0.0</td>\n      <td>221.328279</td>\n      <td>0.0</td>\n      <td>2017-09-10</td>\n    </tr>\n    <tr>\n      <th>13</th>\n      <td>69.0</td>\n      <td>28005</td>\n      <td>14</td>\n      <td>127.0</td>\n      <td>30.0</td>\n      <td>180.0</td>\n      <td>8.00</td>\n      <td>-1.0</td>\n      <td>9/10/2017</td>\n      <td>-</td>\n      <td>...</td>\n      <td>0 km</td>\n      <td>16</td>\n      <td>2017</td>\n      <td>9</td>\n      <td>10</td>\n      <td>1132.984536</td>\n      <td>0.0</td>\n      <td>149.543516</td>\n      <td>0.0</td>\n      <td>2017-09-10</td>\n    </tr>\n    <tr>\n      <th>8</th>\n      <td>41.0</td>\n      <td>129864</td>\n      <td>9</td>\n      <td>619.0</td>\n      <td>23.0</td>\n      <td>170.0</td>\n      <td>8.00</td>\n      <td>-1.0</td>\n      <td>9/10/2017</td>\n      <td>-</td>\n      <td>...</td>\n      <td>0 km</td>\n      <td>16</td>\n      <td>2017</td>\n      <td>9</td>\n      <td>10</td>\n      <td>1500.000000</td>\n      <td>0.0</td>\n      <td>350.000000</td>\n      <td>0.0</td>\n      <td>2017-09-10</td>\n    </tr>\n    <tr>\n      <th>10</th>\n      <td>46.0</td>\n      <td>109330</td>\n      <td>11</td>\n      <td>528.0</td>\n      <td>30.0</td>\n      <td>160.0</td>\n      <td>8.00</td>\n      <td>-1.0</td>\n      <td>9/10/2017</td>\n      <td>-</td>\n      <td>...</td>\n      <td>0 km</td>\n      <td>16</td>\n      <td>2017</td>\n      <td>9</td>\n      <td>10</td>\n      <td>2314.189562</td>\n      <td>0.0</td>\n      <td>187.519109</td>\n      <td>0.0</td>\n      <td>2017-09-10</td>\n    </tr>\n    <tr>\n      <th>19</th>\n      <td>105.0</td>\n      <td>18723</td>\n      <td>20</td>\n      <td>82.0</td>\n      <td>29.0</td>\n      <td>150.0</td>\n      <td>8.00</td>\n      <td>-1.0</td>\n      <td>9/10/2017</td>\n      <td>-</td>\n      <td>...</td>\n      <td>0 km</td>\n      <td>16</td>\n      <td>2017</td>\n      <td>9</td>\n      <td>10</td>\n      <td>1289.880076</td>\n      <td>0.0</td>\n      <td>162.663583</td>\n      <td>0.0</td>\n      <td>2017-09-10</td>\n    </tr>\n    <tr>\n      <th>5</th>\n      <td>28.0</td>\n      <td>16969</td>\n      <td>6</td>\n      <td>77.0</td>\n      <td>27.0</td>\n      <td>140.0</td>\n      <td>8.00</td>\n      <td>-1.0</td>\n      <td>9/10/2017</td>\n      <td>-</td>\n      <td>...</td>\n      <td>0 km</td>\n      <td>16</td>\n      <td>2017</td>\n      <td>9</td>\n      <td>10</td>\n      <td>1540.647983</td>\n      <td>0.0</td>\n      <td>198.781582</td>\n      <td>0.0</td>\n      <td>2017-09-10</td>\n    </tr>\n    <tr>\n      <th>20</th>\n      <td>114.0</td>\n      <td>39182</td>\n      <td>21</td>\n      <td>174.0</td>\n      <td>25.0</td>\n      <td>130.0</td>\n      <td>8.00</td>\n      <td>-1.0</td>\n      <td>9/10/2017</td>\n      <td>-</td>\n      <td>...</td>\n      <td>0 km</td>\n      <td>16</td>\n      <td>2017</td>\n      <td>9</td>\n      <td>10</td>\n      <td>1409.498845</td>\n      <td>0.0</td>\n      <td>167.832800</td>\n      <td>0.0</td>\n      <td>2017-09-10</td>\n    </tr>\n    <tr>\n      <th>30</th>\n      <td>41.0</td>\n      <td>142290</td>\n      <td>31</td>\n      <td>695.0</td>\n      <td>27.0</td>\n      <td>120.0</td>\n      <td>8.00</td>\n      <td>-1.0</td>\n      <td>9/10/2017</td>\n      <td>-</td>\n      <td>...</td>\n      <td>0 km</td>\n      <td>16</td>\n      <td>2017</td>\n      <td>9</td>\n      <td>10</td>\n      <td>1934.153144</td>\n      <td>0.0</td>\n      <td>174.923452</td>\n      <td>0.0</td>\n      <td>2017-09-10</td>\n    </tr>\n    <tr>\n      <th>41</th>\n      <td>105.0</td>\n      <td>137842</td>\n      <td>42</td>\n      <td>665.0</td>\n      <td>33.0</td>\n      <td>110.0</td>\n      <td>8.00</td>\n      <td>-1.0</td>\n      <td>9/10/2017</td>\n      <td>-</td>\n      <td>...</td>\n      <td>0 km</td>\n      <td>16</td>\n      <td>2017</td>\n      <td>9</td>\n      <td>10</td>\n      <td>546.999473</td>\n      <td>0.0</td>\n      <td>164.861481</td>\n      <td>0.0</td>\n      <td>2017-09-10</td>\n    </tr>\n    <tr>\n      <th>7</th>\n      <td>40.0</td>\n      <td>159511</td>\n      <td>8</td>\n      <td>851.0</td>\n      <td>33.0</td>\n      <td>100.0</td>\n      <td>8.00</td>\n      <td>-1.0</td>\n      <td>9/10/2017</td>\n      <td>-</td>\n      <td>...</td>\n      <td>0 km</td>\n      <td>16</td>\n      <td>2017</td>\n      <td>9</td>\n      <td>10</td>\n      <td>1836.301285</td>\n      <td>0.0</td>\n      <td>189.660280</td>\n      <td>0.0</td>\n      <td>2017-09-10</td>\n    </tr>\n    <tr>\n      <th>14</th>\n      <td>74.0</td>\n      <td>104736</td>\n      <td>15</td>\n      <td>509.0</td>\n      <td>26.0</td>\n      <td>85.0</td>\n      <td>8.00</td>\n      <td>-1.0</td>\n      <td>9/10/2017</td>\n      <td>-</td>\n      <td>...</td>\n      <td>0 km</td>\n      <td>16</td>\n      <td>2017</td>\n      <td>9</td>\n      <td>10</td>\n      <td>1991.055948</td>\n      <td>0.0</td>\n      <td>152.847315</td>\n      <td>0.0</td>\n      <td>2017-09-10</td>\n    </tr>\n    <tr>\n      <th>0</th>\n      <td>1.0</td>\n      <td>190663</td>\n      <td>1</td>\n      <td>1126.0</td>\n      <td>36.0</td>\n      <td>80.0</td>\n      <td>8.00</td>\n      <td>-1.0</td>\n      <td>9/10/2017</td>\n      <td>-</td>\n      <td>...</td>\n      <td>0 km</td>\n      <td>16</td>\n      <td>2017</td>\n      <td>9</td>\n      <td>10</td>\n      <td>1165.263238</td>\n      <td>0.0</td>\n      <td>222.870494</td>\n      <td>0.0</td>\n      <td>2017-09-10</td>\n    </tr>\n    <tr>\n      <th>11</th>\n      <td>52.0</td>\n      <td>51971</td>\n      <td>12</td>\n      <td>235.0</td>\n      <td>31.0</td>\n      <td>75.0</td>\n      <td>8.00</td>\n      <td>-1.0</td>\n      <td>9/10/2017</td>\n      <td>-</td>\n      <td>...</td>\n      <td>0 km</td>\n      <td>16</td>\n      <td>2017</td>\n      <td>9</td>\n      <td>10</td>\n      <td>986.074625</td>\n      <td>0.0</td>\n      <td>227.221093</td>\n      <td>0.0</td>\n      <td>2017-09-10</td>\n    </tr>\n    <tr>\n      <th>42</th>\n      <td>114.0</td>\n      <td>158920</td>\n      <td>43</td>\n      <td>847.0</td>\n      <td>29.0</td>\n      <td>70.0</td>\n      <td>8.00</td>\n      <td>-1.0</td>\n      <td>9/10/2017</td>\n      <td>-</td>\n      <td>...</td>\n      <td>0 km</td>\n      <td>16</td>\n      <td>2017</td>\n      <td>9</td>\n      <td>10</td>\n      <td>1617.565913</td>\n      <td>0.0</td>\n      <td>212.367114</td>\n      <td>0.0</td>\n      <td>2017-09-10</td>\n    </tr>\n    <tr>\n      <th>27</th>\n      <td>28.0</td>\n      <td>110234</td>\n      <td>28</td>\n      <td>531.0</td>\n      <td>24.0</td>\n      <td>65.0</td>\n      <td>8.00</td>\n      <td>-1.0</td>\n      <td>9/10/2017</td>\n      <td>-</td>\n      <td>...</td>\n      <td>0 km</td>\n      <td>16</td>\n      <td>2017</td>\n      <td>9</td>\n      <td>10</td>\n      <td>1215.478816</td>\n      <td>0.0</td>\n      <td>221.328279</td>\n      <td>0.0</td>\n      <td>2017-09-10</td>\n    </tr>\n    <tr>\n      <th>22</th>\n      <td>1.0</td>\n      <td>29472</td>\n      <td>23</td>\n      <td>131.0</td>\n      <td>32.0</td>\n      <td>60.0</td>\n      <td>8.00</td>\n      <td>-1.0</td>\n      <td>9/10/2017</td>\n      <td>-</td>\n      <td>...</td>\n      <td>0 km</td>\n      <td>16</td>\n      <td>2017</td>\n      <td>9</td>\n      <td>10</td>\n      <td>1375.205685</td>\n      <td>0.0</td>\n      <td>221.328279</td>\n      <td>0.0</td>\n      <td>2017-09-10</td>\n    </tr>\n    <tr>\n      <th>3</th>\n      <td>21.0</td>\n      <td>13648</td>\n      <td>4</td>\n      <td>63.0</td>\n      <td>33.0</td>\n      <td>50.0</td>\n      <td>8.00</td>\n      <td>-1.0</td>\n      <td>9/10/2017</td>\n      <td>-</td>\n      <td>...</td>\n      <td>0 km</td>\n      <td>16</td>\n      <td>2017</td>\n      <td>9</td>\n      <td>10</td>\n      <td>2308.419446</td>\n      <td>0.0</td>\n      <td>237.855912</td>\n      <td>0.0</td>\n      <td>2017-09-10</td>\n    </tr>\n    <tr>\n      <th>39</th>\n      <td>95.0</td>\n      <td>187107</td>\n      <td>40</td>\n      <td>1115.0</td>\n      <td>39.0</td>\n      <td>45.0</td>\n      <td>8.00</td>\n      <td>-1.0</td>\n      <td>9/10/2017</td>\n      <td>-</td>\n      <td>...</td>\n      <td>0 km</td>\n      <td>16</td>\n      <td>2017</td>\n      <td>9</td>\n      <td>10</td>\n      <td>570.148031</td>\n      <td>0.0</td>\n      <td>221.927886</td>\n      <td>0.0</td>\n      <td>2017-09-10</td>\n    </tr>\n    <tr>\n      <th>32</th>\n      <td>46.0</td>\n      <td>110462</td>\n      <td>33</td>\n      <td>532.0</td>\n      <td>23.0</td>\n      <td>30.0</td>\n      <td>8.00</td>\n      <td>-1.0</td>\n      <td>9/10/2017</td>\n      <td>-</td>\n      <td>...</td>\n      <td>0 km</td>\n      <td>16</td>\n      <td>2017</td>\n      <td>9</td>\n      <td>10</td>\n      <td>2227.336416</td>\n      <td>0.0</td>\n      <td>221.328279</td>\n      <td>0.0</td>\n      <td>2017-09-10</td>\n    </tr>\n    <tr>\n      <th>33</th>\n      <td>52.0</td>\n      <td>5284</td>\n      <td>34</td>\n      <td>32.0</td>\n      <td>22.0</td>\n      <td>20.0</td>\n      <td>8.00</td>\n      <td>-1.0</td>\n      <td>9/10/2017</td>\n      <td>-</td>\n      <td>...</td>\n      <td>0 km</td>\n      <td>16</td>\n      <td>2017</td>\n      <td>9</td>\n      <td>10</td>\n      <td>2164.291264</td>\n      <td>0.0</td>\n      <td>231.199967</td>\n      <td>0.0</td>\n      <td>2017-09-10</td>\n    </tr>\n    <tr>\n      <th>2</th>\n      <td>19.0</td>\n      <td>89170</td>\n      <td>3</td>\n      <td>432.0</td>\n      <td>28.0</td>\n      <td>20.0</td>\n      <td>8.00</td>\n      <td>-1.0</td>\n      <td>9/10/2017</td>\n      <td>-</td>\n      <td>...</td>\n      <td>0 km</td>\n      <td>16</td>\n      <td>2017</td>\n      <td>9</td>\n      <td>10</td>\n      <td>1500.000000</td>\n      <td>0.0</td>\n      <td>350.000000</td>\n      <td>0.0</td>\n      <td>2017-09-10</td>\n    </tr>\n    <tr>\n      <th>40</th>\n      <td>103.0</td>\n      <td>37938</td>\n      <td>41</td>\n      <td>170.0</td>\n      <td>22.0</td>\n      <td>20.0</td>\n      <td>8.00</td>\n      <td>-1.0</td>\n      <td>9/10/2017</td>\n      <td>-</td>\n      <td>...</td>\n      <td>0 km</td>\n      <td>16</td>\n      <td>2017</td>\n      <td>9</td>\n      <td>10</td>\n      <td>575.345545</td>\n      <td>0.0</td>\n      <td>226.605617</td>\n      <td>0.0</td>\n      <td>2017-09-10</td>\n    </tr>\n    <tr>\n      <th>38</th>\n      <td>84.0</td>\n      <td>31982</td>\n      <td>39</td>\n      <td>141.0</td>\n      <td>30.0</td>\n      <td>20.0</td>\n      <td>8.00</td>\n      <td>-1.0</td>\n      <td>9/10/2017</td>\n      <td>-</td>\n      <td>...</td>\n      <td>0 km</td>\n      <td>16</td>\n      <td>2017</td>\n      <td>9</td>\n      <td>10</td>\n      <td>349.835977</td>\n      <td>0.0</td>\n      <td>160.981794</td>\n      <td>0.0</td>\n      <td>2017-09-10</td>\n    </tr>\n    <tr>\n      <th>37</th>\n      <td>75.0</td>\n      <td>81086</td>\n      <td>38</td>\n      <td>371.0</td>\n      <td>26.0</td>\n      <td>20.0</td>\n      <td>8.00</td>\n      <td>-1.0</td>\n      <td>9/10/2017</td>\n      <td>-</td>\n      <td>...</td>\n      <td>0 km</td>\n      <td>16</td>\n      <td>2017</td>\n      <td>9</td>\n      <td>10</td>\n      <td>1500.000000</td>\n      <td>0.0</td>\n      <td>350.000000</td>\n      <td>0.0</td>\n      <td>2017-09-10</td>\n    </tr>\n    <tr>\n      <th>36</th>\n      <td>74.0</td>\n      <td>81277</td>\n      <td>37</td>\n      <td>372.0</td>\n      <td>27.0</td>\n      <td>20.0</td>\n      <td>8.00</td>\n      <td>-1.0</td>\n      <td>9/10/2017</td>\n      <td>-</td>\n      <td>...</td>\n      <td>0 km</td>\n      <td>16</td>\n      <td>2017</td>\n      <td>9</td>\n      <td>10</td>\n      <td>1500.000000</td>\n      <td>0.0</td>\n      <td>350.000000</td>\n      <td>0.0</td>\n      <td>2017-09-10</td>\n    </tr>\n    <tr>\n      <th>35</th>\n      <td>69.0</td>\n      <td>88982</td>\n      <td>36</td>\n      <td>431.0</td>\n      <td>27.0</td>\n      <td>20.0</td>\n      <td>8.00</td>\n      <td>-1.0</td>\n      <td>9/10/2017</td>\n      <td>-</td>\n      <td>...</td>\n      <td>0 km</td>\n      <td>16</td>\n      <td>2017</td>\n      <td>9</td>\n      <td>10</td>\n      <td>291.525340</td>\n      <td>0.0</td>\n      <td>215.338739</td>\n      <td>0.0</td>\n      <td>2017-09-10</td>\n    </tr>\n    <tr>\n      <th>4</th>\n      <td>25.0</td>\n      <td>178545</td>\n      <td>5</td>\n      <td>1044.0</td>\n      <td>22.0</td>\n      <td>20.0</td>\n      <td>8.00</td>\n      <td>-1.0</td>\n      <td>9/10/2017</td>\n      <td>-</td>\n      <td>...</td>\n      <td>0 km</td>\n      <td>16</td>\n      <td>2017</td>\n      <td>9</td>\n      <td>10</td>\n      <td>2466.399792</td>\n      <td>0.0</td>\n      <td>212.367114</td>\n      <td>0.0</td>\n      <td>2017-09-10</td>\n    </tr>\n    <tr>\n      <th>21</th>\n      <td>139.0</td>\n      <td>195110</td>\n      <td>22</td>\n      <td>1164.0</td>\n      <td>26.0</td>\n      <td>20.0</td>\n      <td>8.00</td>\n      <td>-1.0</td>\n      <td>9/10/2017</td>\n      <td>-</td>\n      <td>...</td>\n      <td>0 km</td>\n      <td>16</td>\n      <td>2017</td>\n      <td>9</td>\n      <td>10</td>\n      <td>1112.284142</td>\n      <td>0.0</td>\n      <td>216.794912</td>\n      <td>0.0</td>\n      <td>2017-09-10</td>\n    </tr>\n    <tr>\n      <th>16</th>\n      <td>84.0</td>\n      <td>111195</td>\n      <td>17</td>\n      <td>535.0</td>\n      <td>26.0</td>\n      <td>20.0</td>\n      <td>8.00</td>\n      <td>-1.0</td>\n      <td>9/10/2017</td>\n      <td>-</td>\n      <td>...</td>\n      <td>0 km</td>\n      <td>16</td>\n      <td>2017</td>\n      <td>9</td>\n      <td>10</td>\n      <td>1500.000000</td>\n      <td>0.0</td>\n      <td>350.000000</td>\n      <td>0.0</td>\n      <td>2017-09-10</td>\n    </tr>\n    <tr>\n      <th>31</th>\n      <td>42.0</td>\n      <td>49003</td>\n      <td>32</td>\n      <td>222.0</td>\n      <td>25.0</td>\n      <td>20.0</td>\n      <td>8.00</td>\n      <td>-1.0</td>\n      <td>9/10/2017</td>\n      <td>-</td>\n      <td>...</td>\n      <td>0 km</td>\n      <td>16</td>\n      <td>2017</td>\n      <td>9</td>\n      <td>10</td>\n      <td>1625.533794</td>\n      <td>0.0</td>\n      <td>189.512805</td>\n      <td>0.0</td>\n      <td>2017-09-10</td>\n    </tr>\n    <tr>\n      <th>6</th>\n      <td>32.0</td>\n      <td>7890</td>\n      <td>7</td>\n      <td>43.0</td>\n      <td>34.0</td>\n      <td>20.0</td>\n      <td>8.00</td>\n      <td>-1.0</td>\n      <td>9/10/2017</td>\n      <td>-</td>\n      <td>...</td>\n      <td>0 km</td>\n      <td>16</td>\n      <td>2017</td>\n      <td>9</td>\n      <td>10</td>\n      <td>1500.000000</td>\n      <td>0.0</td>\n      <td>350.000000</td>\n      <td>0.0</td>\n      <td>2017-09-10</td>\n    </tr>\n    <tr>\n      <th>29</th>\n      <td>40.0</td>\n      <td>202263</td>\n      <td>30</td>\n      <td>1250.0</td>\n      <td>37.0</td>\n      <td>20.0</td>\n      <td>8.00</td>\n      <td>-1.0</td>\n      <td>9/10/2017</td>\n      <td>-</td>\n      <td>...</td>\n      <td>0 km</td>\n      <td>16</td>\n      <td>2017</td>\n      <td>9</td>\n      <td>10</td>\n      <td>1500.000000</td>\n      <td>0.0</td>\n      <td>350.000000</td>\n      <td>0.0</td>\n      <td>2017-09-10</td>\n    </tr>\n    <tr>\n      <th>28</th>\n      <td>32.0</td>\n      <td>109538</td>\n      <td>29</td>\n      <td>529.0</td>\n      <td>29.0</td>\n      <td>20.0</td>\n      <td>8.00</td>\n      <td>-1.0</td>\n      <td>9/10/2017</td>\n      <td>-</td>\n      <td>...</td>\n      <td>0 km</td>\n      <td>16</td>\n      <td>2017</td>\n      <td>9</td>\n      <td>10</td>\n      <td>878.926884</td>\n      <td>0.0</td>\n      <td>222.870494</td>\n      <td>0.0</td>\n      <td>2017-09-10</td>\n    </tr>\n    <tr>\n      <th>9</th>\n      <td>42.0</td>\n      <td>190091</td>\n      <td>10</td>\n      <td>1124.0</td>\n      <td>34.0</td>\n      <td>20.0</td>\n      <td>8.00</td>\n      <td>-1.0</td>\n      <td>9/10/2017</td>\n      <td>-</td>\n      <td>...</td>\n      <td>0 km</td>\n      <td>16</td>\n      <td>2017</td>\n      <td>9</td>\n      <td>10</td>\n      <td>1099.327919</td>\n      <td>0.0</td>\n      <td>227.221093</td>\n      <td>0.0</td>\n      <td>2017-09-10</td>\n    </tr>\n    <tr>\n      <th>26</th>\n      <td>25.0</td>\n      <td>178589</td>\n      <td>27</td>\n      <td>1045.0</td>\n      <td>24.0</td>\n      <td>20.0</td>\n      <td>8.00</td>\n      <td>-1.0</td>\n      <td>9/10/2017</td>\n      <td>-</td>\n      <td>...</td>\n      <td>0 km</td>\n      <td>16</td>\n      <td>2017</td>\n      <td>9</td>\n      <td>10</td>\n      <td>1500.000000</td>\n      <td>0.0</td>\n      <td>350.000000</td>\n      <td>0.0</td>\n      <td>2017-09-10</td>\n    </tr>\n    <tr>\n      <th>25</th>\n      <td>21.0</td>\n      <td>199251</td>\n      <td>26</td>\n      <td>1213.0</td>\n      <td>30.0</td>\n      <td>20.0</td>\n      <td>8.00</td>\n      <td>-1.0</td>\n      <td>9/10/2017</td>\n      <td>-</td>\n      <td>...</td>\n      <td>0 km</td>\n      <td>16</td>\n      <td>2017</td>\n      <td>9</td>\n      <td>10</td>\n      <td>1323.902054</td>\n      <td>0.0</td>\n      <td>212.367114</td>\n      <td>0.0</td>\n      <td>2017-09-10</td>\n    </tr>\n    <tr>\n      <th>24</th>\n      <td>19.0</td>\n      <td>90706</td>\n      <td>25</td>\n      <td>439.0</td>\n      <td>28.0</td>\n      <td>20.0</td>\n      <td>8.00</td>\n      <td>-1.0</td>\n      <td>9/10/2017</td>\n      <td>-</td>\n      <td>...</td>\n      <td>0 km</td>\n      <td>16</td>\n      <td>2017</td>\n      <td>9</td>\n      <td>10</td>\n      <td>1219.507480</td>\n      <td>0.0</td>\n      <td>223.460035</td>\n      <td>0.0</td>\n      <td>2017-09-10</td>\n    </tr>\n    <tr>\n      <th>23</th>\n      <td>7.0</td>\n      <td>96397</td>\n      <td>24</td>\n      <td>465.0</td>\n      <td>26.0</td>\n      <td>20.0</td>\n      <td>8.00</td>\n      <td>-1.0</td>\n      <td>9/10/2017</td>\n      <td>-</td>\n      <td>...</td>\n      <td>0 km</td>\n      <td>16</td>\n      <td>2017</td>\n      <td>9</td>\n      <td>10</td>\n      <td>799.329265</td>\n      <td>0.0</td>\n      <td>215.338739</td>\n      <td>0.0</td>\n      <td>2017-09-10</td>\n    </tr>\n    <tr>\n      <th>43</th>\n      <td>139.0</td>\n      <td>195886</td>\n      <td>44</td>\n      <td>1169.0</td>\n      <td>26.0</td>\n      <td>20.0</td>\n      <td>8.00</td>\n      <td>-1.0</td>\n      <td>9/10/2017</td>\n      <td>-</td>\n      <td>...</td>\n      <td>0 km</td>\n      <td>16</td>\n      <td>2017</td>\n      <td>9</td>\n      <td>10</td>\n      <td>1500.000000</td>\n      <td>0.0</td>\n      <td>350.000000</td>\n      <td>0.0</td>\n      <td>2017-09-10</td>\n    </tr>\n  </tbody>\n</table>\n<p>44 rows × 21 columns</p>\n</div>"
     },
     "metadata": {},
     "execution_count": 30
    }
   ],
   "source": [
    "race_data.sort_values(\"Pnt\", ascending=False)"
   ]
  },
  {
   "cell_type": "code",
   "execution_count": 59,
   "metadata": {},
   "outputs": [
    {
     "output_type": "execute_result",
     "data": {
      "text/plain": [
       "array([2017], dtype=int64)"
      ]
     },
     "metadata": {},
     "execution_count": 59
    }
   ],
   "source": [
    "df.Year.unique()"
   ]
  },
  {
   "cell_type": "code",
   "execution_count": null,
   "metadata": {},
   "outputs": [],
   "source": []
  }
 ]
}